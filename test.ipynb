{
 "cells": [
  {
   "cell_type": "code",
   "execution_count": null,
   "metadata": {},
   "outputs": [],
   "source": [
    "import sys"
   ]
  },
  {
   "cell_type": "code",
   "execution_count": null,
   "metadata": {},
   "outputs": [],
   "source": [
    "sys.path.append('C:\\\\Users\\\\moons\\\\Documents\\\\GitHub\\\\ubion-10\\\\python')"
   ]
  },
  {
   "cell_type": "code",
   "execution_count": null,
   "metadata": {},
   "outputs": [],
   "source": [
    "import invest"
   ]
  },
  {
   "cell_type": "code",
   "execution_count": null,
   "metadata": {},
   "outputs": [],
   "source": [
    "import importlib"
   ]
  },
  {
   "cell_type": "code",
   "execution_count": 43,
   "metadata": {},
   "outputs": [
    {
     "data": {
      "text/plain": [
       "<module 'invest' from 'C:\\\\Users\\\\moons\\\\Documents\\\\GitHub\\\\ubion-10\\\\python\\\\invest\\\\__init__.py'>"
      ]
     },
     "execution_count": 43,
     "metadata": {},
     "output_type": "execute_result"
    }
   ],
   "source": [
    "importlib.reload(invest)"
   ]
  },
  {
   "cell_type": "code",
   "execution_count": null,
   "metadata": {},
   "outputs": [],
   "source": [
    "import pandas as pd"
   ]
  },
  {
   "cell_type": "code",
   "execution_count": null,
   "metadata": {},
   "outputs": [],
   "source": [
    "import yfinance as yf"
   ]
  },
  {
   "cell_type": "code",
   "execution_count": null,
   "metadata": {},
   "outputs": [],
   "source": [
    "df = pd.read_csv(\"csv/AAPL.csv\")"
   ]
  },
  {
   "cell_type": "code",
   "execution_count": null,
   "metadata": {},
   "outputs": [],
   "source": [
    "# class 생성\n",
    "test = invest.Invest(df)"
   ]
  },
  {
   "cell_type": "code",
   "execution_count": null,
   "metadata": {},
   "outputs": [],
   "source": [
    "df2 = yf.download('TSLA', start=\"2010-01-01\")"
   ]
  },
  {
   "cell_type": "code",
   "execution_count": null,
   "metadata": {},
   "outputs": [],
   "source": [
    "tsla = invest.Invest(df2, _start=\"2011-01-01\")"
   ]
  },
  {
   "cell_type": "code",
   "execution_count": null,
   "metadata": {},
   "outputs": [],
   "source": [
    "test.bollinger()"
   ]
  },
  {
   "cell_type": "code",
   "execution_count": null,
   "metadata": {},
   "outputs": [],
   "source": [
    "tsla.bollinger()"
   ]
  },
  {
   "cell_type": "code",
   "execution_count": null,
   "metadata": {},
   "outputs": [],
   "source": [
    "test.momentum()"
   ]
  },
  {
   "cell_type": "code",
   "execution_count": null,
   "metadata": {},
   "outputs": [],
   "source": [
    "tsla.momentum()"
   ]
  },
  {
   "cell_type": "code",
   "execution_count": null,
   "metadata": {},
   "outputs": [],
   "source": [
    "# 라이브러리에서 제공하는 샘플 데이터 로드 \n",
    "test_df = invest.BND"
   ]
  },
  {
   "cell_type": "code",
   "execution_count": null,
   "metadata": {},
   "outputs": [],
   "source": [
    "test_class = invest.Invest(test_df)"
   ]
  },
  {
   "cell_type": "code",
   "execution_count": null,
   "metadata": {},
   "outputs": [],
   "source": [
    "test_class.bollinger()"
   ]
  },
  {
   "cell_type": "code",
   "execution_count": 45,
   "metadata": {},
   "outputs": [
    {
     "name": "stdout",
     "output_type": "stream",
     "text": [
      "[*********************100%***********************]  1 of 1 completed\n"
     ]
    }
   ],
   "source": [
    "lg = invest.load_data('066570.KS')"
   ]
  },
  {
   "cell_type": "code",
   "execution_count": 46,
   "metadata": {},
   "outputs": [],
   "source": [
    "lg_class = invest.Invest(lg)"
   ]
  },
  {
   "cell_type": "code",
   "execution_count": 47,
   "metadata": {},
   "outputs": [
    {
     "name": "stderr",
     "output_type": "stream",
     "text": [
      "C:\\Users\\moons\\Documents\\GitHub\\ubion-10\\python\\invest\\quant\\momentum.py:43: SettingWithCopyWarning: \n",
      "A value is trying to be set on a copy of a slice from a DataFrame.\n",
      "Try using .loc[row_indexer,col_indexer] = value instead\n",
      "\n",
      "See the caveats in the documentation: https://pandas.pydata.org/pandas-docs/stable/user_guide/indexing.html#returning-a-view-versus-a-copy\n",
      "  df['BF1'] = df.shift()[col].fillna(0)\n",
      "C:\\Users\\moons\\Documents\\GitHub\\ubion-10\\python\\invest\\quant\\momentum.py:44: SettingWithCopyWarning: \n",
      "A value is trying to be set on a copy of a slice from a DataFrame.\n",
      "Try using .loc[row_indexer,col_indexer] = value instead\n",
      "\n",
      "See the caveats in the documentation: https://pandas.pydata.org/pandas-docs/stable/user_guide/indexing.html#returning-a-view-versus-a-copy\n",
      "  df['BF2'] = df.shift(_momentum)[col].fillna(0)\n",
      "C:\\Users\\moons\\Documents\\GitHub\\ubion-10\\python\\invest\\quant\\momentum.py:70: RuntimeWarning: invalid value encountered in scalar divide\n",
      "  momentum_index = _df2.loc[i, 'BF1'] / _df2.loc[i, 'BF2'] - _score\n",
      "C:\\Users\\moons\\Documents\\GitHub\\ubion-10\\python\\invest\\quant\\momentum.py:70: RuntimeWarning: divide by zero encountered in scalar divide\n",
      "  momentum_index = _df2.loc[i, 'BF1'] / _df2.loc[i, 'BF2'] - _score\n",
      "C:\\Users\\moons\\Documents\\GitHub\\ubion-10\\python\\invest\\quant\\momentum.py:92: FutureWarning: Setting an item of incompatible dtype is deprecated and will raise in a future error of pandas. Value '0.8974360214750468' has dtype incompatible with int64, please explicitly cast to a compatible dtype first.\n",
      "  _df1.loc[i, 'rtn'] = rtn\n"
     ]
    },
    {
     "name": "stdout",
     "output_type": "stream",
     "text": [
      "매수일 : 2011-01-31 00:00:00, 매수가 : 104973.578125\n",
      "매수일 : 2011-06-30 00:00:00, 매수가 : 74378.7109375\n",
      "매수일 : 2012-09-28 00:00:00, 매수가 : 63269.4296875\n",
      "매수일 : 2012-11-30 00:00:00, 매수가 : 69963.15625\n",
      "매수일 : 2013-04-30 00:00:00, 매수가 : 81007.5390625\n",
      "매수일 : 2014-06-30 00:00:00, 매수가 : 68520.9296875\n",
      "매수일 : 2015-02-27 00:00:00, 매수가 : 57378.265625\n",
      "매수일 : 2016-03-31 00:00:00, 매수가 : 57634.21484375\n",
      "매수일 : 2017-04-28 00:00:00, 매수가 : 65163.453125\n",
      "매수일 : 2019-07-31 00:00:00, 매수가 : 62595.10546875\n",
      "매수일 : 2019-10-31 00:00:00, 매수가 : 64128.8203125\n",
      "매수일 : 2019-12-30 00:00:00, 매수가 : 69848.15625\n",
      "매수일 : 2020-08-31 00:00:00, 매수가 : 81570.25\n",
      "매수일 : 2023-05-31 00:00:00, 매수가 : 121817.6015625\n"
     ]
    },
    {
     "data": {
      "text/plain": [
       "(                Adj Close   STD-YM trade       rtn   acc_rtn\n",
       " Date                                                        \n",
       " 2010-01-04  112850.140625  2010-01        1.000000  1.000000\n",
       " 2010-01-05  112402.343750  2010-01        1.000000  1.000000\n",
       " 2010-01-06  111506.703125  2010-01        1.000000  1.000000\n",
       " 2010-01-07  102998.156250  2010-01        1.000000  1.000000\n",
       " 2010-01-08   99415.609375  2010-01        1.000000  1.000000\n",
       " ...                   ...      ...   ...       ...       ...\n",
       " 2024-02-22   97800.000000  2024-02   buy  1.000000  0.694927\n",
       " 2024-02-23   97900.000000  2024-02   buy  1.000000  0.694927\n",
       " 2024-02-26   98200.000000  2024-02   buy  1.000000  0.694927\n",
       " 2024-02-27   96100.000000  2024-02   buy  1.000000  0.694927\n",
       " 2024-02-28   95300.000000  2024-02        0.782317  0.543653\n",
       " \n",
       " [3490 rows x 5 columns],\n",
       " 0.5436530266183883)"
      ]
     },
     "execution_count": 47,
     "metadata": {},
     "output_type": "execute_result"
    }
   ],
   "source": [
    "lg_class.momentum()"
   ]
  },
  {
   "cell_type": "code",
   "execution_count": null,
   "metadata": {},
   "outputs": [],
   "source": [
    "from seaborn import load_dataset"
   ]
  },
  {
   "cell_type": "code",
   "execution_count": null,
   "metadata": {},
   "outputs": [],
   "source": [
    "load_dataset('tips')"
   ]
  }
 ],
 "metadata": {
  "kernelspec": {
   "display_name": "Python 3",
   "language": "python",
   "name": "python3"
  },
  "language_info": {
   "codemirror_mode": {
    "name": "ipython",
    "version": 3
   },
   "file_extension": ".py",
   "mimetype": "text/x-python",
   "name": "python",
   "nbconvert_exporter": "python",
   "pygments_lexer": "ipython3",
   "version": "3.11.1"
  }
 },
 "nbformat": 4,
 "nbformat_minor": 2
}
