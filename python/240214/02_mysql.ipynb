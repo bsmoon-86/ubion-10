{
 "cells": [
  {
   "cell_type": "markdown",
   "metadata": {},
   "source": [
    "### python과 mysql 연동\n",
    "1. 외부의 라이브러리 설치(pymysql)\n",
    "2. 라이브러리 로드 \n",
    "3. sql 서버의 정보를 입력 \n",
    "4. sql 서버에 접속\n",
    "5. sql 쿼리문을 작성해서 sql 서버에 쿼리문을 요청\n",
    "6. 쿼리문에 따른 응답 메시지 "
   ]
  },
  {
   "cell_type": "code",
   "execution_count": null,
   "metadata": {},
   "outputs": [],
   "source": [
    "# 라이브러리 로드 \n",
    "import pymysql"
   ]
  },
  {
   "cell_type": "code",
   "execution_count": null,
   "metadata": {},
   "outputs": [],
   "source": [
    "## sql 서버의 정보를 입력 -> 접속\n",
    "## 내 컴퓨터 접속\n",
    "_db = pymysql.connect(\n",
    "    host='127.0.0.1', \n",
    "    port=3306, \n",
    "    user='root', \n",
    "    password='1234', \n",
    "    db='ubion10'\n",
    ")"
   ]
  },
  {
   "cell_type": "code",
   "execution_count": null,
   "metadata": {},
   "outputs": [],
   "source": [
    "## 외부 컴퓨터 접속 \n",
    "_db2 = pymysql.connect(\n",
    "    host='moons-86.iptime.org', \n",
    "    port = 3306, \n",
    "    user='ubion', \n",
    "    password='1234', \n",
    "    db ='ubion'\n",
    ")"
   ]
  },
  {
   "cell_type": "code",
   "execution_count": null,
   "metadata": {},
   "outputs": [],
   "source": [
    "!pip install crypography"
   ]
  },
  {
   "cell_type": "code",
   "execution_count": null,
   "metadata": {},
   "outputs": [],
   "source": [
    "## cursor 생성\n",
    "# DictCursor 입력시 : 받아오는 데이터의 형태는 dict\n",
    "cursor = _db.cursor(pymysql.cursors.DictCursor)\n",
    "# 기본 값 사용 : 받아오는 데이터의 형태는 tuple\n",
    "cursor2 = _db.cursor()"
   ]
  },
  {
   "cell_type": "code",
   "execution_count": null,
   "metadata": {},
   "outputs": [],
   "source": [
    "sql = \"\"\"\n",
    "    select * from emp\n",
    "\"\"\""
   ]
  },
  {
   "cell_type": "code",
   "execution_count": null,
   "metadata": {},
   "outputs": [],
   "source": [
    "## DB server에 요청 \n",
    "cursor.execute(sql)"
   ]
  },
  {
   "cell_type": "code",
   "execution_count": null,
   "metadata": {},
   "outputs": [],
   "source": [
    "data = cursor.fetchall()"
   ]
  },
  {
   "cell_type": "code",
   "execution_count": null,
   "metadata": {},
   "outputs": [],
   "source": [
    "cursor2.execute(sql)"
   ]
  },
  {
   "cell_type": "code",
   "execution_count": null,
   "metadata": {},
   "outputs": [],
   "source": [
    "data2 = cursor2.fetchall()"
   ]
  },
  {
   "cell_type": "code",
   "execution_count": null,
   "metadata": {},
   "outputs": [],
   "source": [
    "import pandas as pd"
   ]
  },
  {
   "cell_type": "code",
   "execution_count": null,
   "metadata": {},
   "outputs": [],
   "source": [
    "pd.DataFrame(data)"
   ]
  },
  {
   "cell_type": "code",
   "execution_count": null,
   "metadata": {},
   "outputs": [],
   "source": [
    "pd.DataFrame(data2)"
   ]
  },
  {
   "cell_type": "code",
   "execution_count": null,
   "metadata": {},
   "outputs": [],
   "source": [
    "## insert sql 쿼리문 작성 \n",
    "sql  = \"\"\"\n",
    "    insert into \n",
    "    user \n",
    "    values \n",
    "    ('test', '1234', 'kim', 'seoul')\n",
    "\"\"\""
   ]
  },
  {
   "cell_type": "code",
   "execution_count": null,
   "metadata": {},
   "outputs": [],
   "source": [
    "cursor.execute(sql)"
   ]
  },
  {
   "cell_type": "code",
   "execution_count": null,
   "metadata": {},
   "outputs": [],
   "source": [
    "_db.commit()"
   ]
  },
  {
   "cell_type": "code",
   "execution_count": null,
   "metadata": {},
   "outputs": [],
   "source": [
    "sql2 = \"\"\"\n",
    "    select * from user\n",
    "\"\"\""
   ]
  },
  {
   "cell_type": "code",
   "execution_count": null,
   "metadata": {},
   "outputs": [],
   "source": [
    "cursor.execute(sql2)\n"
   ]
  },
  {
   "cell_type": "code",
   "execution_count": null,
   "metadata": {},
   "outputs": [],
   "source": [
    "\n",
    "cursor.fetchall()"
   ]
  },
  {
   "cell_type": "code",
   "execution_count": null,
   "metadata": {},
   "outputs": [],
   "source": [
    "input_id = 'test2'\n",
    "input_pass = '1111'\n",
    "input_name = 'park'\n",
    "input_loc = 'busan'\n",
    "\n",
    "insert_sql = f\"\"\"\n",
    "    insert into \n",
    "    user \n",
    "    values\n",
    "    ('{input_id}', '{input_pass}', '{input_name}', '{input_loc}')\n",
    "\"\"\""
   ]
  },
  {
   "cell_type": "code",
   "execution_count": null,
   "metadata": {},
   "outputs": [],
   "source": [
    "print(sql.replace(\" \", \"\"))\n",
    "print(insert_sql.replace(\" \", \"\"))"
   ]
  },
  {
   "cell_type": "code",
   "execution_count": null,
   "metadata": {},
   "outputs": [],
   "source": [
    "cursor.execute(insert_sql)"
   ]
  },
  {
   "cell_type": "code",
   "execution_count": null,
   "metadata": {},
   "outputs": [],
   "source": [
    "input_id = 'test4'\n",
    "input_pass = '0000'\n",
    "input_name = 'lee'\n",
    "input_loc = 'busan'\n",
    "\n",
    "insert_sql2 = \"\"\"\n",
    "    insert into\n",
    "    user \n",
    "    values \n",
    "    (%s, %s, %s, %s)\n",
    "\"\"\"\n",
    "\n",
    "data_list = [input_id, input_pass, input_name, input_loc]"
   ]
  },
  {
   "cell_type": "code",
   "execution_count": null,
   "metadata": {},
   "outputs": [],
   "source": [
    "print(data_list)"
   ]
  },
  {
   "cell_type": "code",
   "execution_count": null,
   "metadata": {},
   "outputs": [],
   "source": [
    "cursor.execute(insert_sql2, data_list)"
   ]
  },
  {
   "cell_type": "code",
   "execution_count": null,
   "metadata": {},
   "outputs": [],
   "source": [
    "select_sql = \"\"\"\n",
    "    select * from user\n",
    "\"\"\""
   ]
  },
  {
   "cell_type": "code",
   "execution_count": null,
   "metadata": {},
   "outputs": [],
   "source": [
    "cursor.execute(select_sql)\n",
    "cursor.fetchall()"
   ]
  },
  {
   "cell_type": "code",
   "execution_count": null,
   "metadata": {},
   "outputs": [],
   "source": [
    "_db.commit()"
   ]
  },
  {
   "cell_type": "code",
   "execution_count": null,
   "metadata": {},
   "outputs": [],
   "source": [
    "### 입력값을 받아서 데이터베이스에 insert\n",
    "input_id = input(\"ID를 입력하시오\")\n",
    "input_pass = input(\"패스워드를 입력하시오\")\n",
    "input_name = input('이름을 입력하시오')\n",
    "input_loc = input('사는 지역을 입력하시오')\n",
    "\n",
    "insert_sql3 = \"\"\"\n",
    "    insert into \n",
    "    user \n",
    "    values \n",
    "    (%s, %s, %s, %s)\n",
    "\"\"\"\n",
    "\n",
    "data_list = (input_id, input_pass, input_name, input_loc)\n",
    "\n",
    "cursor.execute(insert_sql3, data_list)"
   ]
  },
  {
   "cell_type": "code",
   "execution_count": null,
   "metadata": {},
   "outputs": [],
   "source": [
    "input_id = input('ID를 입력하시오')\n",
    "input_pass = input('변경할 패스워드를 입력하시오')\n",
    "\n",
    "update_sql = \"\"\"\n",
    "    update \n",
    "    user \n",
    "    set \n",
    "    password = %s\n",
    "    where \n",
    "    id = %s\n",
    "\"\"\"\n",
    "data_list = [input_pass, input_id]\n",
    "cursor.execute(update_sql, data_list)\n",
    "\n"
   ]
  },
  {
   "cell_type": "code",
   "execution_count": null,
   "metadata": {},
   "outputs": [],
   "source": [
    "## select 구문 전용 함수를 생성\n",
    "## 매개변수 2개 : sql쿼리문, \n",
    "#             입력 데이터 리스트(입력이 존재하지 않을 경우도 있다.)\n",
    "## select 구문은 execute() -> fetchall()\n",
    "\n",
    "def select_query(sql, *values):\n",
    "    print(values)\n",
    "    cursor.execute(sql, values)\n",
    "    result = cursor.fetchall()\n",
    "    # result = pd.DataFrame(result)\n",
    "    return result"
   ]
  },
  {
   "cell_type": "code",
   "execution_count": null,
   "metadata": {},
   "outputs": [],
   "source": [
    "def select_query2(sql, values=[]):\n",
    "    print(values)\n",
    "    cursor.execute(sql, values)\n",
    "    result = cursor.fetchall()\n",
    "    # result = pd.DataFrame(result)\n",
    "    return result"
   ]
  },
  {
   "cell_type": "code",
   "execution_count": null,
   "metadata": {},
   "outputs": [],
   "source": [
    "select_sql = \"\"\"\n",
    "    select * from user\n",
    "\"\"\""
   ]
  },
  {
   "cell_type": "code",
   "execution_count": null,
   "metadata": {},
   "outputs": [],
   "source": [
    "# 함수를 호출 \n",
    "select_query(select_sql)"
   ]
  },
  {
   "cell_type": "code",
   "execution_count": null,
   "metadata": {},
   "outputs": [],
   "source": [
    "select_sql = \"\"\"\n",
    "    select * from user \n",
    "    where id = %s\n",
    "\"\"\""
   ]
  },
  {
   "cell_type": "code",
   "execution_count": null,
   "metadata": {},
   "outputs": [],
   "source": [
    "data = 'test'"
   ]
  },
  {
   "cell_type": "code",
   "execution_count": null,
   "metadata": {},
   "outputs": [],
   "source": [
    "select_query(select_sql, data)"
   ]
  },
  {
   "cell_type": "code",
   "execution_count": null,
   "metadata": {},
   "outputs": [],
   "source": [
    "### %s 가 무엇인가?\n",
    "### %f : 실수형 데이터 \n",
    "### %d : 정수형 데이터 \n",
    "### %s : 문자열 데이터\n",
    "### 문자와 변수를 결합\n",
    "a = \"kim\"\n",
    "print(\"이름은 \" + a + \"입니다\")\n",
    "# f-string 사용\n",
    "print(f\"이름은 {a}입니다\")\n",
    "# {}, format()\n",
    "print(\"이름은 {}입니다\".format(a))\n",
    "# %s \n",
    "print(\"이름은 %s입니다\"%(a))"
   ]
  },
  {
   "cell_type": "code",
   "execution_count": null,
   "metadata": {},
   "outputs": [],
   "source": [
    "name = 'kim'\n",
    "age = 20\n",
    "print(\"이름은 \"+name+\"이고 나이는 \"+str(age)+\"입니다\")\n",
    "print(f\"이름은 {name}이고 나이는 {age}입니다.\")\n",
    "print(\"이름은 {}이고 나이는 {}입니다\".format(name, age))\n",
    "print(\"이름은 {1}이고 나이는 {0}입니다\".format(age, name))\n",
    "print(\"이름은 %s이고 나이는 %d입니다\"%(name, age))"
   ]
  },
  {
   "cell_type": "code",
   "execution_count": null,
   "metadata": {},
   "outputs": [],
   "source": [
    "query = \"\"\"\n",
    "    select * from user where id = %s and password = %s\n",
    "\"\"\""
   ]
  },
  {
   "cell_type": "code",
   "execution_count": null,
   "metadata": {},
   "outputs": [],
   "source": [
    "## values 매개변수가 가변 인자를 허용\n",
    "select_query(query, 'test', '1234')"
   ]
  },
  {
   "cell_type": "code",
   "execution_count": null,
   "metadata": {},
   "outputs": [],
   "source": [
    "## values 매개변수가 가변 인자를 허용하지 않는 경우\n",
    "select_query2(query, ['test', '1234'])"
   ]
  },
  {
   "cell_type": "code",
   "execution_count": 94,
   "metadata": {},
   "outputs": [],
   "source": [
    "### select구문을 제외한 나머지 CUD구문을 사용하는 함수 \n",
    "def cud_query(sql, *values):\n",
    "    cursor.execute(sql, values)\n",
    "    # DB server에 데이터를 저장 (commit)\n",
    "    _db.commit()\n",
    "    return \"Query OK\""
   ]
  },
  {
   "cell_type": "code",
   "execution_count": 95,
   "metadata": {},
   "outputs": [],
   "source": [
    "query = \"\"\"\n",
    "    delete \n",
    "    from user \n",
    "    where id = %s\n",
    "\"\"\""
   ]
  },
  {
   "cell_type": "code",
   "execution_count": 96,
   "metadata": {},
   "outputs": [
    {
     "data": {
      "text/plain": [
       "'Query OK'"
      ]
     },
     "execution_count": 96,
     "metadata": {},
     "output_type": "execute_result"
    }
   ],
   "source": [
    "cud_query(query, \"test\")"
   ]
  }
 ],
 "metadata": {
  "kernelspec": {
   "display_name": "Python 3",
   "language": "python",
   "name": "python3"
  },
  "language_info": {
   "codemirror_mode": {
    "name": "ipython",
    "version": 3
   },
   "file_extension": ".py",
   "mimetype": "text/x-python",
   "name": "python",
   "nbconvert_exporter": "python",
   "pygments_lexer": "ipython3",
   "version": "3.11.1"
  }
 },
 "nbformat": 4,
 "nbformat_minor": 2
}
