{
 "cells": [
  {
   "cell_type": "markdown",
   "metadata": {},
   "source": [
    "### 데이터프레임의 결합\n",
    "- 유니언 결합 \n",
    "    - 단순하게 행을 결합하거나 열을 결합\n",
    "- 조인 결합\n",
    "    - 특정한 조건에 맞춰서 데이터의 열을 추가하는 결합 방식\n",
    "    - 데이터프레임 + 데이터프레임 -> 특정 컬럼의 데이터들이 같은 값들로 이루어져있을대 열을 추가 "
   ]
  },
  {
   "cell_type": "code",
   "execution_count": null,
   "metadata": {},
   "outputs": [],
   "source": [
    "import pandas as pd"
   ]
  },
  {
   "cell_type": "code",
   "execution_count": null,
   "metadata": {},
   "outputs": [],
   "source": [
    "data = {\n",
    "    'name' : ['test', 'test2', 'test3'], \n",
    "    'age' : [20, 30, 40]\n",
    "}\n",
    "df1 = pd.DataFrame(data)"
   ]
  },
  {
   "cell_type": "code",
   "execution_count": null,
   "metadata": {},
   "outputs": [],
   "source": [
    "data = {\n",
    "    'name' : ['test4', 'test5'], \n",
    "    'loc' : ['seoul', 'busan']\n",
    "}\n",
    "df2 = pd.DataFrame(data)"
   ]
  },
  {
   "cell_type": "code",
   "execution_count": null,
   "metadata": {},
   "outputs": [],
   "source": [
    "df1"
   ]
  },
  {
   "cell_type": "code",
   "execution_count": null,
   "metadata": {},
   "outputs": [],
   "source": [
    "df2"
   ]
  },
  {
   "cell_type": "code",
   "execution_count": null,
   "metadata": {},
   "outputs": [],
   "source": [
    "## 2개의 데이터프레임을 단순한 결합 \n",
    "# concat( {데이터프레임명 1차원 리스트의 형태} , axis = {0 | 1}, ignore_index = {bool})\n",
    "# axis 행으로 결합을 할지 열로 결합을 할지 지정\n",
    "# ignore_index 기본값은 False, True로 변경하면 인덱스나 컬럼이 초기화\n",
    "# concat함수는 pandas에 내장된 함수 \n",
    "pd.concat(\n",
    "    [df1, df2], \n",
    "    axis=0, \n",
    "    ignore_index=True\n",
    ")"
   ]
  },
  {
   "cell_type": "code",
   "execution_count": null,
   "metadata": {},
   "outputs": [],
   "source": [
    "pd.concat(\n",
    "    [df1, df2], \n",
    "    axis=1, \n",
    "    ignore_index=True\n",
    ")"
   ]
  },
  {
   "cell_type": "code",
   "execution_count": null,
   "metadata": {},
   "outputs": [],
   "source": [
    "data = {\n",
    "    \"name\" : ['test6', 'test7'], \n",
    "    \"age\" : [25, 35], \n",
    "    \"loc\" : ['ulsan', 'mokpo']\n",
    "}\n",
    "df3 = pd.DataFrame(data)"
   ]
  },
  {
   "cell_type": "code",
   "execution_count": null,
   "metadata": {},
   "outputs": [],
   "source": [
    "pd.concat(\n",
    "    [df1, df2, df3], \n",
    "    axis=0\n",
    ")"
   ]
  },
  {
   "cell_type": "code",
   "execution_count": null,
   "metadata": {},
   "outputs": [],
   "source": [
    "## 조인 결합 \n",
    "## merge( {데이터프레임명1}, {데이터프레임명2}, \n",
    "## on = {조건식}, how = {left | right | inner | outer} )\n",
    "## on 매개변수 : 2개의 데이터프레임에 컬럼의 이름이 같은 경우\n",
    "## left_on , right_on 매개변수 : 2개의 데이터프레임에 조건 컬럼의 이름이 다른 경우\n",
    "\n",
    "data = {\n",
    "    'id' : ['test', 'test2', 'test3', 'test4'], \n",
    "    'item' : ['A', 'A', 'B', 'D']\n",
    "}\n",
    "\n",
    "df1 = pd.DataFrame(data)"
   ]
  },
  {
   "cell_type": "code",
   "execution_count": null,
   "metadata": {},
   "outputs": [],
   "source": [
    "data = {\n",
    "    'item' : ['A', 'B', 'C'], \n",
    "    'price' : [100, 200, 300]\n",
    "}\n",
    "df2 = pd.DataFrame(data)"
   ]
  },
  {
   "cell_type": "code",
   "execution_count": null,
   "metadata": {},
   "outputs": [],
   "source": [
    "# 조인 결합 \n",
    "pd.merge(\n",
    "    df1, df2, on='item', how='left'\n",
    ")"
   ]
  },
  {
   "cell_type": "code",
   "execution_count": null,
   "metadata": {},
   "outputs": [],
   "source": [
    "pd.merge(\n",
    "    df1, df2, on='item', how = 'right'\n",
    ")"
   ]
  },
  {
   "cell_type": "code",
   "execution_count": null,
   "metadata": {},
   "outputs": [],
   "source": [
    "pd.merge(\n",
    "    df1, df2, on='item', how = 'inner'\n",
    ")"
   ]
  },
  {
   "cell_type": "code",
   "execution_count": null,
   "metadata": {},
   "outputs": [],
   "source": [
    "pd.merge(\n",
    "    df1, df2, on='item', how='outer'\n",
    ")"
   ]
  },
  {
   "cell_type": "code",
   "execution_count": 20,
   "metadata": {},
   "outputs": [],
   "source": [
    "df2.columns = [\"item_name\", 'price']"
   ]
  },
  {
   "cell_type": "code",
   "execution_count": 23,
   "metadata": {},
   "outputs": [
    {
     "data": {
      "text/html": [
       "<div>\n",
       "<style scoped>\n",
       "    .dataframe tbody tr th:only-of-type {\n",
       "        vertical-align: middle;\n",
       "    }\n",
       "\n",
       "    .dataframe tbody tr th {\n",
       "        vertical-align: top;\n",
       "    }\n",
       "\n",
       "    .dataframe thead th {\n",
       "        text-align: right;\n",
       "    }\n",
       "</style>\n",
       "<table border=\"1\" class=\"dataframe\">\n",
       "  <thead>\n",
       "    <tr style=\"text-align: right;\">\n",
       "      <th></th>\n",
       "      <th>id</th>\n",
       "      <th>item</th>\n",
       "      <th>item_name</th>\n",
       "      <th>price</th>\n",
       "    </tr>\n",
       "  </thead>\n",
       "  <tbody>\n",
       "    <tr>\n",
       "      <th>0</th>\n",
       "      <td>test</td>\n",
       "      <td>A</td>\n",
       "      <td>A</td>\n",
       "      <td>100.0</td>\n",
       "    </tr>\n",
       "    <tr>\n",
       "      <th>1</th>\n",
       "      <td>test2</td>\n",
       "      <td>A</td>\n",
       "      <td>A</td>\n",
       "      <td>100.0</td>\n",
       "    </tr>\n",
       "    <tr>\n",
       "      <th>2</th>\n",
       "      <td>test3</td>\n",
       "      <td>B</td>\n",
       "      <td>B</td>\n",
       "      <td>200.0</td>\n",
       "    </tr>\n",
       "    <tr>\n",
       "      <th>3</th>\n",
       "      <td>test4</td>\n",
       "      <td>D</td>\n",
       "      <td>NaN</td>\n",
       "      <td>NaN</td>\n",
       "    </tr>\n",
       "  </tbody>\n",
       "</table>\n",
       "</div>"
      ],
      "text/plain": [
       "      id item item_name  price\n",
       "0   test    A         A  100.0\n",
       "1  test2    A         A  100.0\n",
       "2  test3    B         B  200.0\n",
       "3  test4    D       NaN    NaN"
      ]
     },
     "execution_count": 23,
     "metadata": {},
     "output_type": "execute_result"
    }
   ],
   "source": [
    "pd.merge(\n",
    "    df1, df2, left_on='item', right_on='item_name', how='left'\n",
    ")"
   ]
  },
  {
   "cell_type": "code",
   "execution_count": 1,
   "metadata": {},
   "outputs": [],
   "source": [
    "import pandas as pd\n",
    "import os"
   ]
  },
  {
   "cell_type": "code",
   "execution_count": 2,
   "metadata": {},
   "outputs": [],
   "source": [
    "# _path의 파일 목록을 불러와서 \n",
    "# _end 확장자로 이루어진 파일들을 모두 결합하여 \n",
    "# 데이터프레임을 생성하고 해당하는 데이터프레임을 리턴\n",
    "def data_load(_path, _end):\n",
    "    # _path의 마지막 문자열이 '/'가 아니라면 \n",
    "    # if not(_path.endswith('/')):\n",
    "    #     # _path = _path + '/'\n",
    "    #     _path += '/'\n",
    "    _path += '/'\n",
    "\n",
    "    # _path의 파일 리스트를 로드 \n",
    "    file_list = os.listdir(_path)\n",
    "    # 비어있는 데이터프레임을 생성\n",
    "    result = pd.DataFrame()\n",
    "    # file_list를 이용하여 반복문을 생성 \n",
    "    for file in file_list:\n",
    "        # file의 확장자가 _end와 같은가?\n",
    "        if file.endswith(_end):\n",
    "            # _end가 csv라면 -> pd.read_csv()\n",
    "            # _end가 json이라면 -> pd.read_json()\n",
    "            if _end == 'csv':\n",
    "                df = pd.read_csv(_path+file)\n",
    "            elif _end == 'json':\n",
    "                df = pd.read_json(_path+file)\n",
    "            elif _end == 'xml':\n",
    "                df = pd.read_xml(_path+file)\n",
    "            elif (_end == 'xlsx') | (_end == 'xls'):\n",
    "                df = pd.read_excel(_path+file)\n",
    "            else:\n",
    "                return \"지원하지 않는 확장자입니다.\"\n",
    "            # df를 확인 \n",
    "            print(file , len(df))\n",
    "            # 데이터프레임의 결합\n",
    "            result = pd.concat([result, df], axis=0)\n",
    "    return result"
   ]
  },
  {
   "cell_type": "code",
   "execution_count": null,
   "metadata": {},
   "outputs": [],
   "source": [
    "df2019 = data_load('../../csv/2019', 'json')"
   ]
  },
  {
   "cell_type": "code",
   "execution_count": 6,
   "metadata": {},
   "outputs": [
    {
     "name": "stdout",
     "output_type": "stream",
     "text": [
      "202101_expense_list.csv 4878\n",
      "202102_expense_list.csv 5325\n",
      "202103_expense_list.csv 6903\n",
      "202104_expense_list.csv 6189\n",
      "202105_expense_list.csv 6197\n",
      "202106_expense_list.csv 7511\n",
      "202107_expense_list.csv 6382\n",
      "202108_expense_list.csv 6330\n",
      "202109_expense_list.csv 6842\n",
      "202110_expense_list.csv 7617\n",
      "202111_expense_list.csv 9301\n",
      "202112_expense_list.csv 10344\n"
     ]
    }
   ],
   "source": [
    "df2021 = data_load(\"../../csv/2021\", 'csv')"
   ]
  }
 ],
 "metadata": {
  "kernelspec": {
   "display_name": "Python 3",
   "language": "python",
   "name": "python3"
  },
  "language_info": {
   "codemirror_mode": {
    "name": "ipython",
    "version": 3
   },
   "file_extension": ".py",
   "mimetype": "text/x-python",
   "name": "python",
   "nbconvert_exporter": "python",
   "pygments_lexer": "ipython3",
   "version": "3.11.1"
  }
 },
 "nbformat": 4,
 "nbformat_minor": 2
}
