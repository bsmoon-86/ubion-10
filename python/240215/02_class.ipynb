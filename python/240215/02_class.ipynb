{
 "cells": [
  {
   "cell_type": "markdown",
   "metadata": {},
   "source": [
    "### class의 상속 \n",
    "- 부모 클래스의 기능은 그대로 유지하고 자식 클래스가 부모 클래스의 기능을 추가하여 사용하기 위한 기능"
   ]
  },
  {
   "cell_type": "markdown",
   "metadata": {},
   "source": [
    "### 부모 클래스 \n",
    "- 유저의 정보를 등록하는 클래스 \n",
    "- 유저의 정보는 이름, 나이, 성별\n",
    "- 클래스 변수 생성하여 등록된 유저의 이름의 목록\n",
    "- 유저의 정보를 출력하는 함수 생성\n",
    "- 유저의 목록을 출력하는 함수 생성"
   ]
  },
  {
   "cell_type": "code",
   "execution_count": 1,
   "metadata": {},
   "outputs": [],
   "source": [
    "class User:\n",
    "    # 유저의 목록을 담아주기 위한 클래스 변수 생성\n",
    "    user_list = []\n",
    "\n",
    "    # 클래스 생성시 유저의 정보를 객체 변수에 담기 위한 생성자 함수\n",
    "    def __init__(self, _name, _age, _gender):\n",
    "        # 객체변수에 입력값들을 저장\n",
    "        self.name = _name\n",
    "        self.age = _age\n",
    "        self.gender = _gender\n",
    "        # 클래스 변수에 유저의 이름을 추가 \n",
    "        self.user_list.append(_name)\n",
    "    \n",
    "    # 유저의 정보를 출력하는 함수 생성\n",
    "    def info(self):\n",
    "        return f\"\"\"유저의 이름은 {self.name}이고 \n",
    "        나이는 {self.age}세입니다. 성별은 {self.gender}\"\"\"\n",
    "    # 유저의 목록을 출력하는 함수 생성\n",
    "    def view_list(self):\n",
    "        return self.user_list\n"
   ]
  },
  {
   "cell_type": "code",
   "execution_count": 2,
   "metadata": {},
   "outputs": [],
   "source": [
    "## 클래스를 생성 \n",
    "user1 = User('kim', 20, 'female')"
   ]
  },
  {
   "cell_type": "code",
   "execution_count": 3,
   "metadata": {},
   "outputs": [
    {
     "data": {
      "text/plain": [
       "'유저의 이름은 kim이고 \\n        나이는 20세입니다. 성별은 female'"
      ]
     },
     "execution_count": 3,
     "metadata": {},
     "output_type": "execute_result"
    }
   ],
   "source": [
    "## 클래스 내부의 함수를 호출 \n",
    "user1.info()"
   ]
  },
  {
   "cell_type": "code",
   "execution_count": 4,
   "metadata": {},
   "outputs": [
    {
     "data": {
      "text/plain": [
       "['kim']"
      ]
     },
     "execution_count": 4,
     "metadata": {},
     "output_type": "execute_result"
    }
   ],
   "source": [
    "user1.view_list()"
   ]
  },
  {
   "cell_type": "code",
   "execution_count": 5,
   "metadata": {},
   "outputs": [],
   "source": [
    "user2 = User('park', 25, 'male')"
   ]
  },
  {
   "cell_type": "code",
   "execution_count": 6,
   "metadata": {},
   "outputs": [
    {
     "data": {
      "text/plain": [
       "'유저의 이름은 park이고 \\n        나이는 25세입니다. 성별은 male'"
      ]
     },
     "execution_count": 6,
     "metadata": {},
     "output_type": "execute_result"
    }
   ],
   "source": [
    "user2.info()"
   ]
  },
  {
   "cell_type": "code",
   "execution_count": 7,
   "metadata": {},
   "outputs": [
    {
     "data": {
      "text/plain": [
       "['kim', 'park']"
      ]
     },
     "execution_count": 7,
     "metadata": {},
     "output_type": "execute_result"
    }
   ],
   "source": [
    "user2.view_list()"
   ]
  },
  {
   "cell_type": "markdown",
   "metadata": {},
   "source": [
    "### 자식 클래스 \n",
    "- 클래스의 이름은 Wallet\n",
    "- User 클래스를 상속받아서 사용\n",
    "- 지갑의 잔액이라는 객체 변수를 생성 기본값은 0으로 지정\n",
    "- 구매한 물품의 목록 (객체 변수)\n",
    "- work() 함수 생성 \n",
    "    - 매개변수 1개 \n",
    "    - 일의 종류에 따라 지갑의 잔액이 증가\n",
    "- buy() 함수 생성\n",
    "    - 매개변수 1개 \n",
    "    - 구매하는 상품에 따라 지갑의 잔액이 감소\n",
    "    - 현재 지갑의 잔액보다 구매하려는 물품의 가격이 크다면 구매 불가"
   ]
  },
  {
   "cell_type": "code",
   "execution_count": 29,
   "metadata": {},
   "outputs": [],
   "source": [
    "class Wallet(User):\n",
    "    # 생성자 함수 : 매개변수 이름, 나이, 성별, 지갑의 잔액(기본 값이 0)\n",
    "    def __init__(\n",
    "            self, \n",
    "            _name, \n",
    "            _age, \n",
    "            _gender, \n",
    "            _balance = 0):\n",
    "        # 객체 변수를 생성 (이름, 나이, 성별, 지갑잔액, 구매한 물품 목록)\n",
    "        # User class에 있는 객체 변수 : 이름, 나이, 성별\n",
    "        # Wallet class에서 새로 만드는 객체 변수 : 지갑 잔액, 구매한 물품 목록\n",
    "        self.balance = _balance\n",
    "        self.goods = []\n",
    "        # 부모 클래스에 있는 생성자 함수 호출\n",
    "        # 부모 클래스 : super()\n",
    "        super().__init__(_name, _age, _gender)\n",
    "\n",
    "    # 돈을 벌기 위해 일을 하자 : work()\n",
    "    def work(self, _type):\n",
    "        # 일의 종류에 따라 지갑의 잔액을 증가 \n",
    "        # 서비스직 : 2500000, 전문직 : 3000000, 분석가 : 5000000\n",
    "        # case1 (if)\n",
    "        if _type == '서비스직':\n",
    "            # 지갑의 잔액을 증가\n",
    "            self.balance += 2500000\n",
    "            result = \\\n",
    "                f\"{_type}의 일을 완료. 현재 잔액은 {self.balance}입니다.\"\n",
    "        elif _type == '전문직':\n",
    "            self.balance += 3000000\n",
    "            result = \\\n",
    "                f\"{_type}의 일을 완료. 현재 잔액은 {self.balance}입니다.\"\n",
    "        elif _type == '분석가':\n",
    "            self.balance += 5000000\n",
    "            result = \\\n",
    "                f\"{_type}의 일을 완료. 현재 잔액은 {self.balance}입니다.\"\n",
    "        else:\n",
    "            result = \"등록 되지 않은 일의 종류입니다.\"\n",
    "        return result\n",
    "    \n",
    "    def work2(self, _type):\n",
    "        types = {\n",
    "            '서비스직' : 2500000, \n",
    "            '전문직' : 3000000, \n",
    "            '분석가' : 5000000\n",
    "        }\n",
    "        # if _type in types.keys():\n",
    "        #     self.balance += types[_type]\n",
    "        #     result = \\\n",
    "        #         f\"{_type}일을 완료. 현재 잔액은 {self.balance}입니다.\"\n",
    "        # else:\n",
    "        #     result = \"등록되지 않은 일의 종류입니다.\"\n",
    "        try:\n",
    "            # 시도한다.\n",
    "            self.balance += types[_type]\n",
    "            result = \\\n",
    "                 f\"{_type}일을 완료. 현재 잔액은 {self.balance}입니다.\"\n",
    "        except:\n",
    "            # 에러가 발생한다면\n",
    "            result = \"등록되지 않은 일의 종류입니다.\"\n",
    "\n",
    "        return result\n",
    "\n",
    "    "
   ]
  },
  {
   "cell_type": "code",
   "execution_count": 30,
   "metadata": {},
   "outputs": [],
   "source": [
    "wallet1 = Wallet('lee', 30, 'male')"
   ]
  },
  {
   "cell_type": "code",
   "execution_count": 32,
   "metadata": {},
   "outputs": [
    {
     "data": {
      "text/plain": [
       "'등록되지 않은 일의 종류입니다.'"
      ]
     },
     "execution_count": 32,
     "metadata": {},
     "output_type": "execute_result"
    }
   ],
   "source": [
    "# 일을 시작\n",
    "wallet1.work2('배달')"
   ]
  },
  {
   "cell_type": "code",
   "execution_count": 15,
   "metadata": {},
   "outputs": [],
   "source": [
    "wallet2 = Wallet('choi', 25, 'female')"
   ]
  },
  {
   "cell_type": "code",
   "execution_count": 17,
   "metadata": {},
   "outputs": [
    {
     "data": {
      "text/plain": [
       "'등록 되지 않은 일의 종류입니다.'"
      ]
     },
     "execution_count": 17,
     "metadata": {},
     "output_type": "execute_result"
    }
   ],
   "source": [
    "wallet2.work('배달')"
   ]
  },
  {
   "cell_type": "code",
   "execution_count": 10,
   "metadata": {},
   "outputs": [
    {
     "name": "stdout",
     "output_type": "stream",
     "text": [
      "lee\n",
      "male\n",
      "0\n",
      "[]\n",
      "30\n",
      "['kim', 'park', 'lee']\n"
     ]
    }
   ],
   "source": [
    "# wallet1안에 있는 변수들을 호출\n",
    "print(wallet1.name)\n",
    "print(wallet1.gender)\n",
    "print(wallet1.balance)\n",
    "print(wallet1.goods)\n",
    "print(wallet1.age)\n",
    "print(wallet1.user_list)"
   ]
  }
 ],
 "metadata": {
  "kernelspec": {
   "display_name": "Python 3",
   "language": "python",
   "name": "python3"
  },
  "language_info": {
   "codemirror_mode": {
    "name": "ipython",
    "version": 3
   },
   "file_extension": ".py",
   "mimetype": "text/x-python",
   "name": "python",
   "nbconvert_exporter": "python",
   "pygments_lexer": "ipython3",
   "version": "3.11.1"
  }
 },
 "nbformat": 4,
 "nbformat_minor": 2
}
