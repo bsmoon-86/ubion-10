{
 "cells": [
  {
   "cell_type": "markdown",
   "metadata": {},
   "source": [
    "### 상대모멘텀 \n",
    "- 10개의 주식 데이터를 이용하여 투자 전략 테스팅\n",
    "1. 월초부터 월말까지의 수정주가를 이용하여 월별 수익율\n",
    "2. 월별 수익율이 높은 순서중 n개의 주식을 선택 \n",
    "3. 해당하는 주식들을 매수 후 매도하여 수익율 계산"
   ]
  },
  {
   "cell_type": "code",
   "execution_count": null,
   "metadata": {},
   "outputs": [],
   "source": [
    "import pandas as pd \n",
    "from datetime import datetime\n",
    "import numpy as np\n",
    "import os \n",
    "import glob\n",
    "import warnings"
   ]
  },
  {
   "cell_type": "code",
   "execution_count": null,
   "metadata": {},
   "outputs": [],
   "source": [
    "# warning message 제거 \n",
    "warnings.filterwarnings('ignore')"
   ]
  },
  {
   "cell_type": "code",
   "execution_count": 14,
   "metadata": {},
   "outputs": [],
   "source": [
    "# 월별 수익율을 계산하는 함수 생성 \n",
    "def create_1M_rtn(_df, _ticker, _start = \"2010-01-01\", _col = 'Adj Close'):\n",
    "    # 복사본 생성 \n",
    "    result = _df.copy()\n",
    "    # 컬럼에 Date가 포함되어있는지 확인 \n",
    "    if 'Date' in result.columns:\n",
    "        result = result.loc[result['Date'] >= _start, ['Date', _col]]\n",
    "        # Date 컬럼의 데이터를 시계열로 변경\n",
    "        result['Date'] = pd.to_datetime(result['Date'], format='%Y-%m-%d')\n",
    "        result.set_index('Date', inplace=True)\n",
    "    else:\n",
    "        result.index = pd.to_datetime(result.index, inplace=True)\n",
    "        result = result.loc[_start:, [_col]]\n",
    "    # 기준 년월 컬럼을 생성\n",
    "    result['STD-YM'] = result.index.strftime('%Y-%m')\n",
    "    result['1m_rtn'] = 0\n",
    "    result['CODE'] = _ticker\n",
    "    # 기준 년월의 중복데이터를 제거하고 고유한 값들을 리스트로 생성\n",
    "    ym_list = result['STD-YM'].unique()\n",
    "    return result, ym_list"
   ]
  },
  {
   "cell_type": "code",
   "execution_count": null,
   "metadata": {},
   "outputs": [],
   "source": [
    "aapl = pd.read_csv('../../csv/AAPL.csv')"
   ]
  },
  {
   "cell_type": "code",
   "execution_count": 16,
   "metadata": {},
   "outputs": [],
   "source": [
    "sample_aapl, ym_list = create_1M_rtn(aapl, 'AAPL')"
   ]
  },
  {
   "cell_type": "code",
   "execution_count": 17,
   "metadata": {},
   "outputs": [
    {
     "data": {
      "text/html": [
       "<div>\n",
       "<style scoped>\n",
       "    .dataframe tbody tr th:only-of-type {\n",
       "        vertical-align: middle;\n",
       "    }\n",
       "\n",
       "    .dataframe tbody tr th {\n",
       "        vertical-align: top;\n",
       "    }\n",
       "\n",
       "    .dataframe thead th {\n",
       "        text-align: right;\n",
       "    }\n",
       "</style>\n",
       "<table border=\"1\" class=\"dataframe\">\n",
       "  <thead>\n",
       "    <tr style=\"text-align: right;\">\n",
       "      <th></th>\n",
       "      <th>Adj Close</th>\n",
       "      <th>STD-YM</th>\n",
       "      <th>1m_rtn</th>\n",
       "      <th>CODE</th>\n",
       "    </tr>\n",
       "    <tr>\n",
       "      <th>Date</th>\n",
       "      <th></th>\n",
       "      <th></th>\n",
       "      <th></th>\n",
       "      <th></th>\n",
       "    </tr>\n",
       "  </thead>\n",
       "  <tbody>\n",
       "    <tr>\n",
       "      <th>2010-01-04</th>\n",
       "      <td>26.782711</td>\n",
       "      <td>2010-01</td>\n",
       "      <td>0</td>\n",
       "      <td>AAPL</td>\n",
       "    </tr>\n",
       "    <tr>\n",
       "      <th>2010-01-05</th>\n",
       "      <td>26.829010</td>\n",
       "      <td>2010-01</td>\n",
       "      <td>0</td>\n",
       "      <td>AAPL</td>\n",
       "    </tr>\n",
       "    <tr>\n",
       "      <th>2010-01-06</th>\n",
       "      <td>26.402260</td>\n",
       "      <td>2010-01</td>\n",
       "      <td>0</td>\n",
       "      <td>AAPL</td>\n",
       "    </tr>\n",
       "    <tr>\n",
       "      <th>2010-01-07</th>\n",
       "      <td>26.353460</td>\n",
       "      <td>2010-01</td>\n",
       "      <td>0</td>\n",
       "      <td>AAPL</td>\n",
       "    </tr>\n",
       "    <tr>\n",
       "      <th>2010-01-08</th>\n",
       "      <td>26.528664</td>\n",
       "      <td>2010-01</td>\n",
       "      <td>0</td>\n",
       "      <td>AAPL</td>\n",
       "    </tr>\n",
       "  </tbody>\n",
       "</table>\n",
       "</div>"
      ],
      "text/plain": [
       "            Adj Close   STD-YM  1m_rtn  CODE\n",
       "Date                                        \n",
       "2010-01-04  26.782711  2010-01       0  AAPL\n",
       "2010-01-05  26.829010  2010-01       0  AAPL\n",
       "2010-01-06  26.402260  2010-01       0  AAPL\n",
       "2010-01-07  26.353460  2010-01       0  AAPL\n",
       "2010-01-08  26.528664  2010-01       0  AAPL"
      ]
     },
     "execution_count": 17,
     "metadata": {},
     "output_type": "execute_result"
    }
   ],
   "source": [
    "sample_aapl.head()"
   ]
  },
  {
   "cell_type": "code",
   "execution_count": null,
   "metadata": {},
   "outputs": [],
   "source": [
    "ym_list"
   ]
  },
  {
   "cell_type": "code",
   "execution_count": 18,
   "metadata": {},
   "outputs": [],
   "source": [
    "# 특정 경로에 있는 파일들의 목록을 로드 \n",
    "os.listdir(\"./data\")\n",
    "\n",
    "files = glob.glob(\"./data/*.csv\")\n",
    "\n",
    "# 새로운 데이터프레임을 생성 \n",
    "# 종목별 데이터프레임 \n",
    "stock_df = pd.DataFrame()\n",
    "# 월말 데이터프레임 \n",
    "month_last_df = pd.DataFrame()\n",
    "\n",
    "for file in files:\n",
    "    folder, name = os.path.split(file)\n",
    "    # print(folder, name)\n",
    "    head, tail = os.path.splitext(name)\n",
    "    # print(head, tail)\n",
    "    # head는 create_1M_rtn 함수에 ticker 인자값으로 사용\n",
    "\n",
    "    # 데이터 파일을 로드 \n",
    "    read_df = pd.read_csv(file)\n",
    "\n",
    "    # create_1M_rtn 함수를 호출 \n",
    "    price_df, ym_list = create_1M_rtn(read_df, head)\n",
    "\n",
    "    # 유니언 결합 (단순한 행 결합 함수)\n",
    "    stock_df = pd.concat([stock_df, price_df], axis=0)\n",
    "\n",
    "    # 월별 상태 모멘텀을 계산하기 위해 1개월간의 수익율 계산\n",
    "    for ym in ym_list:\n",
    "        flag = price_df['STD-YM'] == ym\n",
    "        m_rtn = price_df.loc[flag,].iloc[-1, 0] / price_df.loc[flag,].iloc[0, 0]\n",
    "        price_df.loc[flag, '1m_rtn'] = m_rtn\n",
    "        data = price_df.loc[flag, ['CODE', '1m_rtn']].tail(1)\n",
    "        month_last_df = pd.concat([month_last_df, data], axis=0)"
   ]
  },
  {
   "cell_type": "code",
   "execution_count": 19,
   "metadata": {},
   "outputs": [
    {
     "data": {
      "text/html": [
       "<div>\n",
       "<style scoped>\n",
       "    .dataframe tbody tr th:only-of-type {\n",
       "        vertical-align: middle;\n",
       "    }\n",
       "\n",
       "    .dataframe tbody tr th {\n",
       "        vertical-align: top;\n",
       "    }\n",
       "\n",
       "    .dataframe thead th {\n",
       "        text-align: right;\n",
       "    }\n",
       "</style>\n",
       "<table border=\"1\" class=\"dataframe\">\n",
       "  <thead>\n",
       "    <tr style=\"text-align: right;\">\n",
       "      <th></th>\n",
       "      <th>CODE</th>\n",
       "      <th>1m_rtn</th>\n",
       "    </tr>\n",
       "    <tr>\n",
       "      <th>Date</th>\n",
       "      <th></th>\n",
       "      <th></th>\n",
       "    </tr>\n",
       "  </thead>\n",
       "  <tbody>\n",
       "    <tr>\n",
       "      <th>2010-01-29</th>\n",
       "      <td>AAPL</td>\n",
       "      <td>0.897435</td>\n",
       "    </tr>\n",
       "    <tr>\n",
       "      <th>2010-02-26</th>\n",
       "      <td>AAPL</td>\n",
       "      <td>1.050789</td>\n",
       "    </tr>\n",
       "    <tr>\n",
       "      <th>2010-03-31</th>\n",
       "      <td>AAPL</td>\n",
       "      <td>1.124456</td>\n",
       "    </tr>\n",
       "    <tr>\n",
       "      <th>2010-04-30</th>\n",
       "      <td>AAPL</td>\n",
       "      <td>1.106454</td>\n",
       "    </tr>\n",
       "    <tr>\n",
       "      <th>2010-05-28</th>\n",
       "      <td>AAPL</td>\n",
       "      <td>0.964445</td>\n",
       "    </tr>\n",
       "  </tbody>\n",
       "</table>\n",
       "</div>"
      ],
      "text/plain": [
       "            CODE    1m_rtn\n",
       "Date                      \n",
       "2010-01-29  AAPL  0.897435\n",
       "2010-02-26  AAPL  1.050789\n",
       "2010-03-31  AAPL  1.124456\n",
       "2010-04-30  AAPL  1.106454\n",
       "2010-05-28  AAPL  0.964445"
      ]
     },
     "execution_count": 19,
     "metadata": {},
     "output_type": "execute_result"
    }
   ],
   "source": [
    "month_last_df.head()"
   ]
  }
 ],
 "metadata": {
  "kernelspec": {
   "display_name": "Python 3",
   "language": "python",
   "name": "python3"
  },
  "language_info": {
   "codemirror_mode": {
    "name": "ipython",
    "version": 3
   },
   "file_extension": ".py",
   "mimetype": "text/x-python",
   "name": "python",
   "nbconvert_exporter": "python",
   "pygments_lexer": "ipython3",
   "version": "3.11.1"
  }
 },
 "nbformat": 4,
 "nbformat_minor": 2
}
