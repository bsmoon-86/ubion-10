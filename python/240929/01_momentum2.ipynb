{
 "cells": [
  {
   "cell_type": "markdown",
   "metadata": {},
   "source": [
    "### 상대모멘텀 \n",
    "- 10개의 주식 데이터를 이용하여 투자 전략 테스팅\n",
    "1. 월초부터 월말까지의 수정주가를 이용하여 월별 수익율\n",
    "2. 월별 수익율이 높은 순서중 n개의 주식을 선택 \n",
    "3. 해당하는 주식들을 매수 후 매도하여 수익율 계산"
   ]
  },
  {
   "cell_type": "code",
   "execution_count": null,
   "metadata": {},
   "outputs": [],
   "source": [
    "import pandas as pd \n",
    "from datetime import datetime\n",
    "import numpy as np\n",
    "import os \n",
    "import glob\n",
    "import warnings"
   ]
  },
  {
   "cell_type": "code",
   "execution_count": null,
   "metadata": {},
   "outputs": [],
   "source": [
    "# warning message 제거 \n",
    "warnings.filterwarnings('ignore')"
   ]
  },
  {
   "cell_type": "code",
   "execution_count": null,
   "metadata": {},
   "outputs": [],
   "source": [
    "# 월별 수익율을 계산하는 함수 생성 \n",
    "def create_1M_rtn(_df, _ticker, _start = \"2010-01-01\", _col = 'Adj Close'):\n",
    "    # 복사본 생성 \n",
    "    result = _df.copy()\n",
    "    # 컬럼에 Date가 포함되어있는지 확인 \n",
    "    if 'Date' in result.columns:\n",
    "        result = result.loc[result['Date'] >= _start, ['Date', _col]]\n",
    "        # Date 컬럼의 데이터를 시계열로 변경\n",
    "        result['Date'] = pd.to_datetime(result['Date'], format='%Y-%m-%d')\n",
    "        result.set_index('Date', inplace=True)\n",
    "    else:\n",
    "        result.index = pd.to_datetime(result.index, inplace=True)\n",
    "        result = result.loc[_start:, [_col]]\n",
    "    # 기준 년월 컬럼을 생성\n",
    "    result['STD-YM'] = result.index.strftime('%Y-%m')\n",
    "    result['1m_rtn'] = 0\n",
    "    result['CODE'] = _ticker\n",
    "    # 기준 년월의 중복데이터를 제거하고 고유한 값들을 리스트로 생성\n",
    "    ym_list = result['STD-YM'].unique()\n",
    "    return result, ym_list"
   ]
  },
  {
   "cell_type": "code",
   "execution_count": null,
   "metadata": {},
   "outputs": [],
   "source": [
    "aapl = pd.read_csv('../../csv/AAPL.csv')"
   ]
  },
  {
   "cell_type": "code",
   "execution_count": null,
   "metadata": {},
   "outputs": [],
   "source": [
    "sample_aapl, ym_list = create_1M_rtn(aapl, 'AAPL')"
   ]
  },
  {
   "cell_type": "code",
   "execution_count": null,
   "metadata": {},
   "outputs": [],
   "source": [
    "sample_aapl.head()"
   ]
  },
  {
   "cell_type": "code",
   "execution_count": null,
   "metadata": {},
   "outputs": [],
   "source": [
    "ym_list"
   ]
  },
  {
   "cell_type": "code",
   "execution_count": null,
   "metadata": {},
   "outputs": [],
   "source": [
    "# 특정 경로에 있는 파일들의 목록을 로드 \n",
    "os.listdir(\"./data\")\n",
    "\n",
    "files = glob.glob(\"./data/*.csv\")\n",
    "\n",
    "# 새로운 데이터프레임을 생성 \n",
    "# 종목별 데이터프레임 \n",
    "stock_df = pd.DataFrame()\n",
    "# 월말 데이터프레임 \n",
    "month_last_df = pd.DataFrame()\n",
    "\n",
    "for file in files:\n",
    "    folder, name = os.path.split(file)\n",
    "    # print(folder, name)\n",
    "    head, tail = os.path.splitext(name)\n",
    "    # print(head, tail)\n",
    "    # head는 create_1M_rtn 함수에 ticker 인자값으로 사용\n",
    "\n",
    "    # 데이터 파일을 로드 \n",
    "    read_df = pd.read_csv(file)\n",
    "\n",
    "    # create_1M_rtn 함수를 호출 \n",
    "    price_df, ym_list = create_1M_rtn(read_df, head)\n",
    "\n",
    "    # 유니언 결합 (단순한 행 결합 함수)\n",
    "    stock_df = pd.concat([stock_df, price_df], axis=0)\n",
    "\n",
    "    # 월별 상태 모멘텀을 계산하기 위해 1개월간의 수익율 계산\n",
    "    for ym in ym_list:\n",
    "        flag = price_df['STD-YM'] == ym\n",
    "        m_rtn = price_df.loc[flag,].iloc[-1, 0] / price_df.loc[flag,].iloc[0, 0]\n",
    "        price_df.loc[flag, '1m_rtn'] = m_rtn\n",
    "        data = price_df.loc[flag, ['CODE', '1m_rtn']].tail(1)\n",
    "        month_last_df = pd.concat([month_last_df, data], axis=0)"
   ]
  },
  {
   "cell_type": "code",
   "execution_count": null,
   "metadata": {},
   "outputs": [],
   "source": [
    "month_last_df.head()"
   ]
  },
  {
   "cell_type": "code",
   "execution_count": null,
   "metadata": {},
   "outputs": [],
   "source": [
    "month_rtn_df = month_last_df.copy()"
   ]
  },
  {
   "cell_type": "code",
   "execution_count": null,
   "metadata": {},
   "outputs": [],
   "source": [
    "month_rtn_df.reset_index(inplace=True)"
   ]
  },
  {
   "cell_type": "code",
   "execution_count": null,
   "metadata": {},
   "outputs": [],
   "source": [
    "month_rtn_df = month_rtn_df.pivot_table(\n",
    "    index = 'Date', \n",
    "    columns= 'CODE', \n",
    "    values= '1m_rtn'\n",
    ")"
   ]
  },
  {
   "cell_type": "code",
   "execution_count": null,
   "metadata": {},
   "outputs": [],
   "source": [
    "month_rtn_df = month_rtn_df.rank(\n",
    "    axis=1, \n",
    "    ascending=False, \n",
    "    method='max', \n",
    "    pct=True\n",
    ")"
   ]
  },
  {
   "cell_type": "code",
   "execution_count": null,
   "metadata": {},
   "outputs": [],
   "source": [
    "# 상위 15% 종목만 선택 \n",
    "# where(조건식, 거짓일때 변경될 데이터)\n",
    "month_rtn_df =  month_rtn_df.where(month_rtn_df < 0.15, 0)"
   ]
  },
  {
   "cell_type": "code",
   "execution_count": null,
   "metadata": {},
   "outputs": [],
   "source": [
    "# 데이터 중에서 0이 아닌 데이터는 1로 변경 \n",
    "month_rtn_df[month_rtn_df != 0] = 1"
   ]
  },
  {
   "cell_type": "code",
   "execution_count": null,
   "metadata": {},
   "outputs": [],
   "source": [
    "month_rtn_df"
   ]
  },
  {
   "cell_type": "code",
   "execution_count": null,
   "metadata": {},
   "outputs": [],
   "source": [
    "# CODE 값들을 유니크 데이터만 따로 출력 \n",
    "stock_codes = stock_df['CODE'].unique()\n",
    "stock_codes"
   ]
  },
  {
   "cell_type": "code",
   "execution_count": null,
   "metadata": {},
   "outputs": [],
   "source": [
    "month_rtn_df.loc[\"2010-01-29 00:00:00\", month_rtn_df.iloc[0] >= 1].index"
   ]
  },
  {
   "cell_type": "code",
   "execution_count": null,
   "metadata": {},
   "outputs": [],
   "source": [
    "sig_dict = dict()\n",
    "\n",
    "for date in month_rtn_df.index:\n",
    "    # print(date)\n",
    "    ticker_list = list(\n",
    "        month_rtn_df.loc[date, month_rtn_df.loc[date] >= 1].index)\n",
    "    # print(ticker_list)\n",
    "    sig_dict[date] = ticker_list"
   ]
  },
  {
   "cell_type": "code",
   "execution_count": null,
   "metadata": {},
   "outputs": [],
   "source": [
    "sig_dict"
   ]
  },
  {
   "cell_type": "code",
   "execution_count": null,
   "metadata": {},
   "outputs": [],
   "source": [
    "# 거래 내역컬럼을 생성하는 데이터프레임 생성하는 함수 \n",
    "def create_trade_book(_df, _code):\n",
    "    book = _df[_code].copy()\n",
    "    book['STD-YM'] = book.index.strftime('%Y-%m')\n",
    "    for c in _code:\n",
    "        book['p'+c] = \"\"\n",
    "        book['r'+c] = \"\"\n",
    "    return book"
   ]
  },
  {
   "cell_type": "code",
   "execution_count": null,
   "metadata": {},
   "outputs": [],
   "source": [
    "stock_df.head()"
   ]
  },
  {
   "cell_type": "code",
   "execution_count": null,
   "metadata": {},
   "outputs": [],
   "source": [
    "stock_c_matrix = stock_df.reset_index().pivot_table(\n",
    "    index='Date', \n",
    "    columns = 'CODE', \n",
    "    values= stock_df.columns[0]\n",
    ")"
   ]
  },
  {
   "cell_type": "code",
   "execution_count": null,
   "metadata": {},
   "outputs": [],
   "source": [
    "stock_c_matrix"
   ]
  },
  {
   "cell_type": "code",
   "execution_count": null,
   "metadata": {},
   "outputs": [],
   "source": [
    "book = create_trade_book(stock_c_matrix, stock_codes)"
   ]
  },
  {
   "cell_type": "code",
   "execution_count": null,
   "metadata": {},
   "outputs": [],
   "source": [
    "book.columns"
   ]
  },
  {
   "cell_type": "code",
   "execution_count": 71,
   "metadata": {},
   "outputs": [
    {
     "name": "stdout",
     "output_type": "stream",
     "text": [
      "2010-01-29 00:00:00 ['BND']\n",
      "2010-02-26 00:00:00 ['AAPL']\n",
      "2010-03-31 00:00:00 ['AAPL']\n",
      "2010-04-30 00:00:00 ['AAPL']\n",
      "2010-05-28 00:00:00 ['GLD']\n",
      "2010-06-30 00:00:00 ['GDX']\n",
      "2010-07-30 00:00:00 ['USM']\n",
      "2010-08-31 00:00:00 ['GDX']\n",
      "2010-09-30 00:00:00 ['AMZN']\n",
      "2010-10-29 00:00:00 ['SLV']\n",
      "2010-11-30 00:00:00 ['SLV']\n",
      "2010-12-31 00:00:00 ['SLV']\n",
      "2011-01-31 00:00:00 ['AAPL']\n",
      "2011-02-28 00:00:00 ['SLV']\n",
      "2011-03-31 00:00:00 ['SLV']\n",
      "2011-04-29 00:00:00 ['SLV']\n",
      "2011-05-31 00:00:00 ['BND']\n",
      "2011-06-30 00:00:00 ['MSFT']\n",
      "2011-07-29 00:00:00 ['SLV']\n",
      "2011-08-31 00:00:00 ['GLD']\n",
      "2011-09-30 00:00:00 ['AMZN']\n",
      "2011-10-31 00:00:00 ['GM']\n",
      "2011-11-30 00:00:00 ['USM']\n",
      "2011-12-30 00:00:00 ['AAPL']\n",
      "2012-01-31 00:00:00 ['GM']\n",
      "2012-02-29 00:00:00 ['AAPL']\n",
      "2012-03-30 00:00:00 ['AMZN']\n",
      "2012-04-30 00:00:00 ['AMZN']\n",
      "2012-05-31 00:00:00 ['BND']\n",
      "2012-06-29 00:00:00 ['AMZN']\n",
      "2012-07-31 00:00:00 ['AAPL']\n",
      "2012-08-31 00:00:00 ['SLV']\n",
      "2012-09-28 00:00:00 ['GDX']\n",
      "2012-10-31 00:00:00 ['GM']\n",
      "2012-11-30 00:00:00 ['AMZN']\n",
      "2012-12-31 00:00:00 ['GM']\n",
      "2013-01-31 00:00:00 ['USM']\n",
      "2013-02-28 00:00:00 ['BND']\n",
      "2013-03-28 00:00:00 ['SPY']\n",
      "2013-04-30 00:00:00 ['MSFT']\n",
      "2013-05-31 00:00:00 ['GM']\n",
      "2013-06-28 00:00:00 ['USM']\n",
      "2013-07-31 00:00:00 ['USM']\n",
      "2013-08-30 00:00:00 ['SLV']\n",
      "2013-09-30 00:00:00 ['AMZN']\n",
      "2013-10-31 00:00:00 ['AMZN']\n",
      "2013-11-29 00:00:00 ['AMZN']\n",
      "2013-12-31 00:00:00 ['GM']\n",
      "2014-01-31 00:00:00 ['USM']\n",
      "2014-02-28 00:00:00 ['GDX']\n",
      "2014-03-31 00:00:00 ['MSFT']\n",
      "2014-04-30 00:00:00 ['AAPL']\n",
      "2014-05-30 00:00:00 ['AAPL']\n",
      "2014-06-30 00:00:00 ['GDX']\n",
      "2014-07-31 00:00:00 ['MSFT']\n",
      "2014-08-29 00:00:00 ['AMZN']\n",
      "2014-09-30 00:00:00 ['MSFT']\n",
      "2014-10-31 00:00:00 ['AAPL']\n",
      "2014-11-28 00:00:00 ['AMZN']\n",
      "2014-12-31 00:00:00 ['GM']\n",
      "2015-01-30 00:00:00 ['GDX']\n",
      "2015-02-27 00:00:00 ['GM']\n",
      "2015-03-31 00:00:00 ['SLV']\n",
      "2015-04-30 00:00:00 ['MSFT']\n",
      "2015-05-29 00:00:00 ['SLV']\n",
      "2015-06-30 00:00:00 ['AMZN']\n",
      "2015-07-31 00:00:00 ['AMZN']\n",
      "2015-08-31 00:00:00 ['GDX']\n",
      "2015-09-30 00:00:00 ['GM']\n",
      "2015-10-30 00:00:00 ['AMZN']\n",
      "2015-11-30 00:00:00 ['AMZN']\n",
      "2015-12-31 00:00:00 ['MSFT']\n",
      "2016-01-29 00:00:00 ['GLD']\n",
      "2016-02-29 00:00:00 ['GDX']\n",
      "2016-03-31 00:00:00 ['USM']\n",
      "2016-04-29 00:00:00 ['GDX']\n",
      "2016-05-31 00:00:00 ['AAPL']\n",
      "2016-06-30 00:00:00 ['GDX']\n",
      "2016-07-29 00:00:00 ['MSFT']\n",
      "2016-08-31 00:00:00 ['MSFT']\n",
      "2016-09-30 00:00:00 ['AMZN']\n",
      "2016-10-31 00:00:00 ['MSFT']\n",
      "2016-11-30 00:00:00 ['GM']\n",
      "2016-12-30 00:00:00 ['USM']\n",
      "2017-01-31 00:00:00 ['GDX']\n",
      "2017-02-28 00:00:00 ['AAPL']\n",
      "2017-03-31 00:00:00 ['AMZN']\n",
      "2017-04-28 00:00:00 ['USM']\n",
      "2017-05-31 00:00:00 ['AMZN']\n",
      "2017-06-30 00:00:00 ['GM']\n",
      "2017-07-31 00:00:00 ['MSFT']\n",
      "2017-08-31 00:00:00 ['AAPL']\n",
      "2017-09-29 00:00:00 ['GM']\n",
      "2017-10-31 00:00:00 ['AMZN']\n",
      "2017-11-30 00:00:00 ['AMZN']\n",
      "2017-12-29 00:00:00 ['GDX']\n",
      "2018-01-31 00:00:00 ['AMZN']\n",
      "2018-02-28 00:00:00 ['AMZN']\n",
      "2018-03-29 00:00:00 ['GDX']\n",
      "2018-04-30 00:00:00 ['AMZN']\n",
      "2018-05-31 00:00:00 ['GM']\n",
      "2018-06-29 00:00:00 ['AMZN']\n",
      "2018-07-31 00:00:00 ['MSFT']\n",
      "2018-08-31 00:00:00 ['USM']\n",
      "2018-09-28 00:00:00 ['USM']\n",
      "2018-10-31 00:00:00 ['USM']\n",
      "2018-11-30 00:00:00 ['USM']\n",
      "2018-12-31 00:00:00 ['GDX']\n",
      "2019-01-31 00:00:00 ['GM']\n",
      "2019-02-28 00:00:00 ['MSFT']\n",
      "2019-03-29 00:00:00 ['AAPL']\n",
      "2019-04-30 00:00:00 ['MSFT']\n",
      "2019-05-31 00:00:00 ['GDX']\n",
      "2019-06-24 00:00:00 ['MSFT']\n"
     ]
    }
   ],
   "source": [
    "# 포지션을 생성 \n",
    "for date, values in sig_dict.items():\n",
    "    # print(date, values)\n",
    "    for stock in values:\n",
    "        book.loc[date, 'p'+stock] = 'ready'+stock"
   ]
  },
  {
   "cell_type": "code",
   "execution_count": 73,
   "metadata": {},
   "outputs": [
    {
     "data": {
      "text/html": [
       "<div>\n",
       "<style scoped>\n",
       "    .dataframe tbody tr th:only-of-type {\n",
       "        vertical-align: middle;\n",
       "    }\n",
       "\n",
       "    .dataframe tbody tr th {\n",
       "        vertical-align: top;\n",
       "    }\n",
       "\n",
       "    .dataframe thead th {\n",
       "        text-align: right;\n",
       "    }\n",
       "</style>\n",
       "<table border=\"1\" class=\"dataframe\">\n",
       "  <thead>\n",
       "    <tr style=\"text-align: right;\">\n",
       "      <th>CODE</th>\n",
       "      <th>pBND</th>\n",
       "    </tr>\n",
       "    <tr>\n",
       "      <th>Date</th>\n",
       "      <th></th>\n",
       "    </tr>\n",
       "  </thead>\n",
       "  <tbody>\n",
       "    <tr>\n",
       "      <th>2010-01-26</th>\n",
       "      <td></td>\n",
       "    </tr>\n",
       "    <tr>\n",
       "      <th>2010-01-27</th>\n",
       "      <td></td>\n",
       "    </tr>\n",
       "    <tr>\n",
       "      <th>2010-01-28</th>\n",
       "      <td></td>\n",
       "    </tr>\n",
       "    <tr>\n",
       "      <th>2010-01-29</th>\n",
       "      <td>readyBND</td>\n",
       "    </tr>\n",
       "    <tr>\n",
       "      <th>2010-02-01</th>\n",
       "      <td></td>\n",
       "    </tr>\n",
       "    <tr>\n",
       "      <th>2010-02-02</th>\n",
       "      <td></td>\n",
       "    </tr>\n",
       "    <tr>\n",
       "      <th>2010-02-03</th>\n",
       "      <td></td>\n",
       "    </tr>\n",
       "    <tr>\n",
       "      <th>2010-02-04</th>\n",
       "      <td></td>\n",
       "    </tr>\n",
       "    <tr>\n",
       "      <th>2010-02-05</th>\n",
       "      <td></td>\n",
       "    </tr>\n",
       "    <tr>\n",
       "      <th>2010-02-08</th>\n",
       "      <td></td>\n",
       "    </tr>\n",
       "  </tbody>\n",
       "</table>\n",
       "</div>"
      ],
      "text/plain": [
       "CODE            pBND\n",
       "Date                \n",
       "2010-01-26          \n",
       "2010-01-27          \n",
       "2010-01-28          \n",
       "2010-01-29  readyBND\n",
       "2010-02-01          \n",
       "2010-02-02          \n",
       "2010-02-03          \n",
       "2010-02-04          \n",
       "2010-02-05          \n",
       "2010-02-08          "
      ]
     },
     "execution_count": 73,
     "metadata": {},
     "output_type": "execute_result"
    }
   ],
   "source": [
    "book[['pBND']].iloc[15:25]"
   ]
  },
  {
   "cell_type": "code",
   "execution_count": 74,
   "metadata": {},
   "outputs": [],
   "source": [
    "# 거래 내역 추가 \n",
    "def trading(_book, s_code):\n",
    "    std_ym = \"\"\n",
    "    buy_phase = False\n",
    "\n",
    "    # 종목별로 순회\n",
    "    for code in s_code:\n",
    "        for i in _book.index:\n",
    "            # 해당 종목코드의 포지션을 잡는다.\n",
    "            if (_book.loc[i, 'p'+code] == \"\") & \\\n",
    "                (_book.shift().loc[i, 'p'+code] == \"ready\"+code):\n",
    "                std_ym = book.loc[i, 'STD-YM']\n",
    "                buy_phase = True\n",
    "            # 해당 종목코드에서 신호가 잡혀있다면 매수 상태 유지 \n",
    "            if (_book.loc[i, 'p'+code] == \"\") & \\\n",
    "                (_book.loc[i, 'STD-YM'] == std_ym) & \\\n",
    "                (buy_phase):\n",
    "                _book.loc[i, 'p'+code] = 'buy'+code\n",
    "            \n",
    "            # std_ym, buy_phase 초기화\n",
    "            if book.loc[i, 'p'+code] == \"\":\n",
    "                std_ym = \"\"\n",
    "                buy_phase = False\n",
    "    return book\n",
    "                "
   ]
  },
  {
   "cell_type": "code",
   "execution_count": 75,
   "metadata": {},
   "outputs": [],
   "source": [
    "book = trading(book, stock_codes)"
   ]
  },
  {
   "cell_type": "code",
   "execution_count": 76,
   "metadata": {},
   "outputs": [
    {
     "data": {
      "text/plain": [
       "pAAPL\n",
       "             2078\n",
       "buyAAPL       292\n",
       "readyAAPL      14\n",
       "Name: count, dtype: int64"
      ]
     },
     "execution_count": 76,
     "metadata": {},
     "output_type": "execute_result"
    }
   ],
   "source": [
    "book['pAAPL'].value_counts()"
   ]
  }
 ],
 "metadata": {
  "kernelspec": {
   "display_name": "Python 3",
   "language": "python",
   "name": "python3"
  },
  "language_info": {
   "codemirror_mode": {
    "name": "ipython",
    "version": 3
   },
   "file_extension": ".py",
   "mimetype": "text/x-python",
   "name": "python",
   "nbconvert_exporter": "python",
   "pygments_lexer": "ipython3",
   "version": "3.11.1"
  }
 },
 "nbformat": 4,
 "nbformat_minor": 2
}
