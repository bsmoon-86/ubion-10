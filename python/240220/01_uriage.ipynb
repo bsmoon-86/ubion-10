{
 "cells": [
  {
   "cell_type": "code",
   "execution_count": null,
   "metadata": {},
   "outputs": [],
   "source": [
    "import pandas as pd"
   ]
  },
  {
   "cell_type": "code",
   "execution_count": null,
   "metadata": {},
   "outputs": [],
   "source": [
    "uriage = pd.read_csv('../../csv/uriage.csv')"
   ]
  },
  {
   "cell_type": "code",
   "execution_count": null,
   "metadata": {},
   "outputs": [],
   "source": [
    "uriage.head(10)"
   ]
  },
  {
   "cell_type": "markdown",
   "metadata": {},
   "source": [
    "### 데이터의 정형화\n",
    "1. item_name의 value들을 모두 대문자로 변경 \n",
    "    - 문자열 내장함수에서 대문자로 변경하는 함수 (upper())\n",
    "2. item_name의 value의 문자 사이에 있는 공백을 제거 \n",
    "    - 문자열 내장함수에서 문자열 좌우의 공백을 제거하는 함수 ( strip() )\n",
    "    - 문자열 내장함수에서 문자 사이의 공백을 제거 ( replace(\" \", \"\") )"
   ]
  },
  {
   "cell_type": "code",
   "execution_count": null,
   "metadata": {},
   "outputs": [],
   "source": [
    "## 빈도수를 출력하는 함수\n",
    "uriage['item_name'].value_counts()"
   ]
  },
  {
   "cell_type": "code",
   "execution_count": null,
   "metadata": {},
   "outputs": [],
   "source": [
    "## Series데이터에서는 upper() 사용이 불가능\n",
    "uriage['item_name'].upper()"
   ]
  },
  {
   "cell_type": "code",
   "execution_count": null,
   "metadata": {},
   "outputs": [],
   "source": [
    "uriage.loc[2, 'item_name'].upper()"
   ]
  },
  {
   "cell_type": "code",
   "execution_count": null,
   "metadata": {},
   "outputs": [],
   "source": [
    "df = uriage.copy()"
   ]
  },
  {
   "cell_type": "code",
   "execution_count": null,
   "metadata": {},
   "outputs": [],
   "source": [
    "# case1 (for문)\n",
    "# 데이터프레임에서 item_name의 value를 하나씩 추출하여 \n",
    "# upper()를 이용하여 대문자 변환한 뒤 비어있는 리스트에 추가 \n",
    "data_list = []\n",
    "for i in range(len(df)):\n",
    "    # i가 의미하는것은? -> 인덱스의 값  / 위치\n",
    "    data = df.loc[i, 'item_name'].upper()\n",
    "    data_list.append(data)\n",
    "\n",
    "data_list"
   ]
  },
  {
   "cell_type": "code",
   "execution_count": null,
   "metadata": {},
   "outputs": [],
   "source": [
    "## 데이터프레임에서 item_name의 value를 하나씩 추출하여 대문자로 변환\n",
    "## 해당하는 위치에 데이터를 대입\n",
    "for i in range(len(df)):\n",
    "    data = df.loc[i, 'item_name'].upper().replace(\" \", \"\")\n",
    "    # 해당하는 위치에 data을 대입\n",
    "    df.loc[i, 'item_name'] = data"
   ]
  },
  {
   "cell_type": "code",
   "execution_count": null,
   "metadata": {},
   "outputs": [],
   "source": [
    "df.head(5)"
   ]
  },
  {
   "cell_type": "code",
   "execution_count": null,
   "metadata": {},
   "outputs": [],
   "source": [
    "df['item_name'].value_counts()"
   ]
  },
  {
   "cell_type": "code",
   "execution_count": null,
   "metadata": {},
   "outputs": [],
   "source": [
    "## 특정 1차원 데이터에서 중복된 데이터를 제거 \n",
    "_list = df['item_name'].to_list()"
   ]
  },
  {
   "cell_type": "code",
   "execution_count": null,
   "metadata": {},
   "outputs": [],
   "source": [
    "_list2 = ['A', 'B', 'A', 'C']\n",
    "\n",
    "## 리스트에서 중복된 데이터를 제거하고 새로운 리스트 생성 \n",
    "_list3 = []\n",
    "\n",
    "for i in range(len(_list2)):\n",
    "    # i가 의미하는것은?  list의 인덱스\n",
    "    # print(i)\n",
    "    # print(_list2[i])\n",
    "    # _list3에 _list2[i]이 존재하지 않는다면?\n",
    "    if _list2[i] not in _list3:\n",
    "        _list3.append(_list2[i])\n",
    "_list3\n"
   ]
  },
  {
   "cell_type": "code",
   "execution_count": null,
   "metadata": {},
   "outputs": [],
   "source": [
    "_list4 = []\n",
    "for i in _list2:\n",
    "    # print(i)\n",
    "    if i not in _list4:\n",
    "        _list4.append(i)\n",
    "_list4"
   ]
  },
  {
   "cell_type": "code",
   "execution_count": null,
   "metadata": {},
   "outputs": [],
   "source": [
    "## 집합 형태의 데이터 변환\n",
    "list(set(_list2))"
   ]
  },
  {
   "cell_type": "code",
   "execution_count": null,
   "metadata": {},
   "outputs": [],
   "source": [
    "## map() 함수\n",
    "## map( 함수(일반함수, lambda함수) ,  1차원 데이터 )\n",
    "def change(x):\n",
    "    return x.lower()\n",
    "\n",
    "list(map(\n",
    "    change, \n",
    "    _list2\n",
    "))\n"
   ]
  },
  {
   "cell_type": "code",
   "execution_count": null,
   "metadata": {},
   "outputs": [],
   "source": [
    "\n",
    "_list5 = []\n",
    "for i in _list2:\n",
    "    data = change(i)\n",
    "    _list5.append(data)\n",
    "_list5"
   ]
  },
  {
   "cell_type": "code",
   "execution_count": null,
   "metadata": {},
   "outputs": [],
   "source": [
    "## map + lambda\n",
    "\n",
    "list(\n",
    "    map(\n",
    "        lambda x : x.lower(), \n",
    "        _list2\n",
    "    )\n",
    ")"
   ]
  },
  {
   "cell_type": "code",
   "execution_count": null,
   "metadata": {},
   "outputs": [],
   "source": [
    "df2 = uriage.copy()"
   ]
  },
  {
   "cell_type": "code",
   "execution_count": null,
   "metadata": {},
   "outputs": [],
   "source": [
    "df2.head(5)"
   ]
  },
  {
   "cell_type": "code",
   "execution_count": null,
   "metadata": {},
   "outputs": [],
   "source": [
    "## map함수를 이용하여 공백제거 대문자 변환\n",
    "df2['item_name']\n",
    "\n",
    "def change(x):\n",
    "    # print(type(x))\n",
    "    return x.upper().replace(\" \", \"\")\n",
    "\n",
    "list(map(\n",
    "    change, \n",
    "    df2['item_name']\n",
    "))"
   ]
  },
  {
   "cell_type": "code",
   "execution_count": null,
   "metadata": {},
   "outputs": [],
   "source": [
    "df2['item_name'].map(change)"
   ]
  },
  {
   "cell_type": "code",
   "execution_count": null,
   "metadata": {},
   "outputs": [],
   "source": [
    "df2['item_name'].map(\n",
    "    lambda x : x.upper().replace(\" \", \"\")\n",
    ")"
   ]
  },
  {
   "cell_type": "code",
   "execution_count": null,
   "metadata": {},
   "outputs": [],
   "source": [
    "df2['item_name'].replace(\" \", \"\")"
   ]
  },
  {
   "cell_type": "code",
   "execution_count": null,
   "metadata": {},
   "outputs": [],
   "source": [
    "a = \"Hello\"\n",
    "\n",
    "for i in a:\n",
    "    print(i)"
   ]
  },
  {
   "cell_type": "code",
   "execution_count": null,
   "metadata": {},
   "outputs": [],
   "source": [
    "def custom_replace(data,origin, new):\n",
    "    # 첫번째 매개변수는 변경시킬 문자열\n",
    "    # 두번째 매개변수는 기존 문자열\n",
    "    # 세번째 매개변수는 기존의 문자열을 변경할 문자열\n",
    "    result = \"\"\n",
    "    for i in data:\n",
    "        if i == origin:\n",
    "            result += new\n",
    "        else:\n",
    "            result += i\n",
    "    return result"
   ]
  },
  {
   "cell_type": "code",
   "execution_count": null,
   "metadata": {},
   "outputs": [],
   "source": [
    "custom_replace('abcde', 'a', 'A')"
   ]
  },
  {
   "cell_type": "code",
   "execution_count": null,
   "metadata": {},
   "outputs": [],
   "source": [
    "def custom_replace2(data, origin, new):\n",
    "    result = []\n",
    "    for i in data:\n",
    "        if i == origin:\n",
    "            result.append(new)\n",
    "        else:\n",
    "            result.append(i)\n",
    "    return result"
   ]
  },
  {
   "cell_type": "code",
   "execution_count": null,
   "metadata": {},
   "outputs": [],
   "source": [
    "data = ['a', 'b', 'c', 'd']\n",
    "custom_replace2(data, 'a', 'A')"
   ]
  },
  {
   "cell_type": "code",
   "execution_count": null,
   "metadata": {},
   "outputs": [],
   "source": [
    "data2 = ['abcd', 'efg']\n",
    "custom_replace2(data2, 'a', 'A')"
   ]
  },
  {
   "cell_type": "code",
   "execution_count": null,
   "metadata": {},
   "outputs": [],
   "source": [
    "df2['item_name'].replace('상품A', 'A')"
   ]
  },
  {
   "cell_type": "code",
   "execution_count": null,
   "metadata": {},
   "outputs": [],
   "source": [
    "df2['item_name'] = df2['item_name'].str.upper().str.replace(\" \", \"\")"
   ]
  },
  {
   "cell_type": "code",
   "execution_count": null,
   "metadata": {},
   "outputs": [],
   "source": [
    "## 중복 데이터 제거 \n",
    "df2['item_name'].unique()"
   ]
  },
  {
   "cell_type": "code",
   "execution_count": null,
   "metadata": {},
   "outputs": [],
   "source": [
    "import numpy as np"
   ]
  },
  {
   "cell_type": "code",
   "execution_count": null,
   "metadata": {},
   "outputs": [],
   "source": [
    "## item_name이 상품A이고 item_price가 결측치가 아닌 데이터 필터\n",
    "flag = df['item_name'] == '상품A'\n",
    "flag_null = df['item_price'].isna()\n",
    "df.loc[flag & ~flag_null,]"
   ]
  },
  {
   "cell_type": "markdown",
   "metadata": {},
   "source": [
    "### 결측치를 다른 값들로 대체 \n",
    "1. 상품명에 따라 가격이 고정값을 이룬다. \n",
    "2. 결측치를 상품명에 맞춰서 해당 상품의 결측치가 아닌 상품 가격들의 평균값을 대체 \n",
    "\n",
    "    - ex) 상품A인 데이터 중 item_price가 결측치가 아닌 데이터들의 평균 값을 구하고 해당 값은 상품A의 데이터 중 item_price가 결측치인 부분에 대입"
   ]
  },
  {
   "cell_type": "code",
   "execution_count": null,
   "metadata": {},
   "outputs": [],
   "source": [
    "flag = df['item_name'] == '상품A'\n",
    "flag_null = df['item_price'].isna()"
   ]
  },
  {
   "cell_type": "code",
   "execution_count": null,
   "metadata": {},
   "outputs": [],
   "source": [
    "## 상품A이고 가격이 결측치가 아닌 데이터\n",
    "a_mean = df.loc[flag & ~flag_null, 'item_price'].mean()"
   ]
  },
  {
   "cell_type": "code",
   "execution_count": null,
   "metadata": {},
   "outputs": [],
   "source": [
    "## 상품A이고 가격이 결측치인 데이터 \n",
    "df.loc[flag & flag_null , 'item_price'] = a_mean\n",
    "# df.loc[flag & flag_null , ].fillna(a_mean)"
   ]
  },
  {
   "cell_type": "code",
   "execution_count": null,
   "metadata": {},
   "outputs": [],
   "source": [
    "df.loc[flag&flag_null, ]"
   ]
  },
  {
   "cell_type": "code",
   "execution_count": null,
   "metadata": {},
   "outputs": [],
   "source": [
    "def fill_price(result, _name):\n",
    "    ## _df를 copy() 복사한다.\n",
    "    # result = _df.copy()\n",
    "    ## 조건식 생성\n",
    "    flag = result['item_name'] == _name\n",
    "    flag_null = result['item_price'].isna()\n",
    "\n",
    "    ##flag와 flag_null의 부정이 모두 만족하는 item_price의 평균\n",
    "    mean_data = result.loc[flag & ~flag_null, 'item_price'].mean()\n",
    "    ##위에서 구해진 평균 데이터를 flag와 flag_null을 모두 만족하는 item_price에 대입\n",
    "    result.loc[flag & flag_null, 'item_price'] = mean_data\n",
    "    print(f\"{_name} 작업 완료\")\n",
    "    return result"
   ]
  },
  {
   "cell_type": "code",
   "execution_count": null,
   "metadata": {},
   "outputs": [],
   "source": [
    "name_list = set(df['item_name'])"
   ]
  },
  {
   "cell_type": "code",
   "execution_count": null,
   "metadata": {},
   "outputs": [],
   "source": [
    "for name in name_list:\n",
    "    df = fill_price(df, name)"
   ]
  },
  {
   "cell_type": "code",
   "execution_count": null,
   "metadata": {},
   "outputs": [],
   "source": [
    "df.isna().sum()"
   ]
  },
  {
   "cell_type": "code",
   "execution_count": null,
   "metadata": {},
   "outputs": [],
   "source": [
    "df.loc[df['item_name'] == '상품B', 'item_price'].mean()"
   ]
  },
  {
   "cell_type": "code",
   "execution_count": null,
   "metadata": {},
   "outputs": [],
   "source": [
    "group_data = df[['item_name', 'item_price']].groupby('item_name')"
   ]
  },
  {
   "cell_type": "code",
   "execution_count": null,
   "metadata": {},
   "outputs": [],
   "source": [
    "group_data.get_group('상품A')"
   ]
  },
  {
   "cell_type": "code",
   "execution_count": null,
   "metadata": {},
   "outputs": [],
   "source": [
    "name_list2 = df2['item_name'].unique()"
   ]
  },
  {
   "cell_type": "code",
   "execution_count": null,
   "metadata": {},
   "outputs": [],
   "source": [
    "for name in name_list2:\n",
    "    fill_price(df2, name)"
   ]
  },
  {
   "cell_type": "code",
   "execution_count": null,
   "metadata": {},
   "outputs": [],
   "source": [
    "df2.isna().sum()"
   ]
  },
  {
   "cell_type": "code",
   "execution_count": null,
   "metadata": {},
   "outputs": [],
   "source": [
    "uriage['item_name'] = uriage['item_name'].str.upper().str.replace(\" \", \"\")"
   ]
  },
  {
   "cell_type": "code",
   "execution_count": null,
   "metadata": {},
   "outputs": [],
   "source": [
    "## 정렬을 item_name을 기준으로 변경 오름차순 정렬 \n",
    "uriage.sort_values(['item_name', 'item_price'], inplace=True)"
   ]
  },
  {
   "cell_type": "code",
   "execution_count": null,
   "metadata": {},
   "outputs": [],
   "source": [
    "uriage.reset_index(drop=True, inplace=True)"
   ]
  },
  {
   "cell_type": "code",
   "execution_count": null,
   "metadata": {},
   "outputs": [],
   "source": [
    "# 현재의 행의 item_price가 결측치 이고 \n",
    "flag1 = uriage['item_price'].isna()\n",
    "# 전 행의 item_price가 결측치가 아닌\n",
    "flag2 = ~uriage['item_price'].shift(1).isna()"
   ]
  },
  {
   "cell_type": "code",
   "execution_count": null,
   "metadata": {},
   "outputs": [],
   "source": [
    "uriage.loc[flag1 & flag2, ]"
   ]
  },
  {
   "cell_type": "code",
   "execution_count": null,
   "metadata": {},
   "outputs": [],
   "source": [
    "uriage['item_price'] = uriage['item_price'].fillna(method='ffill')"
   ]
  },
  {
   "cell_type": "code",
   "execution_count": null,
   "metadata": {},
   "outputs": [],
   "source": [
    "uriage.isna().sum()"
   ]
  },
  {
   "cell_type": "code",
   "execution_count": null,
   "metadata": {},
   "outputs": [],
   "source": [
    "uriage[['item_name', 'item_price']].groupby('item_name').mean()"
   ]
  }
 ],
 "metadata": {
  "kernelspec": {
   "display_name": "Python 3",
   "language": "python",
   "name": "python3"
  },
  "language_info": {
   "codemirror_mode": {
    "name": "ipython",
    "version": 3
   },
   "file_extension": ".py",
   "mimetype": "text/x-python",
   "name": "python",
   "nbconvert_exporter": "python",
   "pygments_lexer": "ipython3",
   "version": "3.11.1"
  }
 },
 "nbformat": 4,
 "nbformat_minor": 2
}
