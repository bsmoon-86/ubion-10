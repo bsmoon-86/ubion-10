{
 "cells": [
  {
   "cell_type": "code",
   "execution_count": null,
   "metadata": {},
   "outputs": [],
   "source": [
    "import pandas as pd"
   ]
  },
  {
   "cell_type": "code",
   "execution_count": null,
   "metadata": {},
   "outputs": [],
   "source": [
    "# csv 폴더 안에 있는 corona.csv 파일을 로드 \n",
    "df = pd.read_csv(\"../../csv/corona.csv\")"
   ]
  },
  {
   "cell_type": "code",
   "execution_count": null,
   "metadata": {},
   "outputs": [],
   "source": [
    "df.head(2)"
   ]
  },
  {
   "cell_type": "code",
   "execution_count": null,
   "metadata": {},
   "outputs": [],
   "source": [
    "## 데이터프레임의 정보를 출력 \n",
    "df.info()"
   ]
  },
  {
   "cell_type": "code",
   "execution_count": null,
   "metadata": {},
   "outputs": [],
   "source": [
    "## 특정 컬럼을 제거 \n",
    "## drop({조건}, axis = {0(rows) | 1(columns)}, inplace = {bool})\n",
    "## drop() 함수는 DataFrame class 안에 내장된 함수\n",
    "## 데이터프레임명.drop()\n",
    "## axis : 행을 지울것인가? (0, rows) 열을 지울것인가? (1, columns)\n",
    "## inplace : 기본값은 False\n",
    "##           거짓인 경우 : 함수의 결과를 출력\n",
    "##           참인 경우 : 기준이 되는 데이터프레임에 결과를 저장\n",
    "df = df.drop(\n",
    "    ['Unnamed: 0', 'seq'], \n",
    "    axis = 1\n",
    ")\n",
    "# df.drop(['Unnamed: 0', 'seq'], axis = 1, inplace=True)"
   ]
  },
  {
   "cell_type": "code",
   "execution_count": null,
   "metadata": {},
   "outputs": [],
   "source": [
    "## 데이터프레임의 복사본 생성 \n",
    "corona = df.copy()"
   ]
  },
  {
   "cell_type": "code",
   "execution_count": null,
   "metadata": {},
   "outputs": [],
   "source": [
    "corona2 = df.copy()"
   ]
  },
  {
   "cell_type": "markdown",
   "metadata": {},
   "source": [
    "- corona에서 컬럼의 이름을 변경 \n",
    "    - ['등록일시', '총사망자', '총확진자', '기준일', '기준시간', '수정일시', '누적의심자', '누적확진자']"
   ]
  },
  {
   "cell_type": "code",
   "execution_count": null,
   "metadata": {},
   "outputs": [],
   "source": [
    "# case1 \n",
    "# DataFrame 안에 있는 columns라는 변수의 데이터를 변경 \n",
    "corona.columns = ['등록일시', '총사망자', \n",
    "                  '총확진자', '기준일', '기준시간', \n",
    "                  '수정일시', '누적의심자', '누적확진자']"
   ]
  },
  {
   "cell_type": "code",
   "execution_count": null,
   "metadata": {},
   "outputs": [],
   "source": [
    "corona.head(1)"
   ]
  },
  {
   "cell_type": "code",
   "execution_count": null,
   "metadata": {},
   "outputs": [],
   "source": [
    "# case2\n",
    "# DataFrame 안에 있는 rename 함수를 이용하여 컬럼의 이름을 변경\n",
    "corona2.rename(\n",
    "    columns = {\n",
    "        'createDt' : '등록일시', 'deathCnt' : '총사망자', \n",
    "        'decideCnt' : '총확진자', 'stateDt' : '기준일', \n",
    "        'stateTime' : '기준시간', 'updateDt' : '수정일시', \n",
    "        'accExamCnt' : '누적의심자', 'accDefRate' : '누적확진자'\n",
    "    }, inplace=True\n",
    ")"
   ]
  },
  {
   "cell_type": "code",
   "execution_count": null,
   "metadata": {},
   "outputs": [],
   "source": [
    "## 결측치의 개수를 확인 \n",
    "corona.isna().sum()"
   ]
  },
  {
   "cell_type": "code",
   "execution_count": null,
   "metadata": {},
   "outputs": [],
   "source": [
    "corona.rename(\n",
    "    columns = {\n",
    "        '누적확진자' : '누적확진율'\n",
    "    }, inplace=True\n",
    ")"
   ]
  },
  {
   "cell_type": "code",
   "execution_count": null,
   "metadata": {},
   "outputs": [],
   "source": [
    "corona.head(5)"
   ]
  },
  {
   "cell_type": "code",
   "execution_count": 24,
   "metadata": {},
   "outputs": [],
   "source": [
    "## 데이터의 정렬을 변경\n",
    "## sort_index(), sort_values({기준이 되는 컬럼명}, ascending={bool}, inplace ={bool})\n",
    "## 기준이 되는 컬럼명 : 복수 선택이 가능 ([컬럼명, 컬럼명])\n",
    "## ascending : True가 기본값이며 오름차순 정렬, False는 내림차순 정렬\n",
    "corona.sort_values( ['등록일시'], ascending=True , inplace=True)"
   ]
  }
 ],
 "metadata": {
  "kernelspec": {
   "display_name": "Python 3",
   "language": "python",
   "name": "python3"
  },
  "language_info": {
   "codemirror_mode": {
    "name": "ipython",
    "version": 3
   },
   "file_extension": ".py",
   "mimetype": "text/x-python",
   "name": "python",
   "nbconvert_exporter": "python",
   "pygments_lexer": "ipython3",
   "version": "3.11.1"
  }
 },
 "nbformat": 4,
 "nbformat_minor": 2
}
