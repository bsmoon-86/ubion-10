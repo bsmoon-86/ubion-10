{
 "cells": [
  {
   "cell_type": "code",
   "execution_count": null,
   "metadata": {},
   "outputs": [],
   "source": [
    "import pandas as pd"
   ]
  },
  {
   "cell_type": "code",
   "execution_count": null,
   "metadata": {},
   "outputs": [],
   "source": [
    "# csv 폴더 안에 있는 corona.csv 파일을 로드 \n",
    "df = pd.read_csv(\"../../csv/corona.csv\")"
   ]
  },
  {
   "cell_type": "code",
   "execution_count": null,
   "metadata": {},
   "outputs": [],
   "source": [
    "df.head(2)"
   ]
  },
  {
   "cell_type": "code",
   "execution_count": null,
   "metadata": {},
   "outputs": [],
   "source": [
    "## 데이터프레임의 정보를 출력 \n",
    "df.info()"
   ]
  },
  {
   "cell_type": "code",
   "execution_count": null,
   "metadata": {},
   "outputs": [],
   "source": [
    "## 특정 컬럼을 제거 \n",
    "## drop({조건}, axis = {0(rows) | 1(columns)}, inplace = {bool})\n",
    "## drop() 함수는 DataFrame class 안에 내장된 함수\n",
    "## 데이터프레임명.drop()\n",
    "## axis : 행을 지울것인가? (0, rows) 열을 지울것인가? (1, columns)\n",
    "## inplace : 기본값은 False\n",
    "##           거짓인 경우 : 함수의 결과를 출력\n",
    "##           참인 경우 : 기준이 되는 데이터프레임에 결과를 저장\n",
    "df = df.drop(\n",
    "    ['Unnamed: 0', 'seq'], \n",
    "    axis = 1\n",
    ")\n",
    "# df.drop(['Unnamed: 0', 'seq'], axis = 1, inplace=True)"
   ]
  },
  {
   "cell_type": "code",
   "execution_count": null,
   "metadata": {},
   "outputs": [],
   "source": [
    "## 데이터프레임의 복사본 생성 \n",
    "corona = df.copy()"
   ]
  },
  {
   "cell_type": "code",
   "execution_count": null,
   "metadata": {},
   "outputs": [],
   "source": [
    "corona2 = df.copy()"
   ]
  },
  {
   "cell_type": "markdown",
   "metadata": {},
   "source": [
    "- corona에서 컬럼의 이름을 변경 \n",
    "    - ['등록일시', '총사망자', '총확진자', '기준일', '기준시간', '수정일시', '누적의심자', '누적확진자']"
   ]
  },
  {
   "cell_type": "code",
   "execution_count": null,
   "metadata": {},
   "outputs": [],
   "source": [
    "# case1 \n",
    "# DataFrame 안에 있는 columns라는 변수의 데이터를 변경 \n",
    "corona.columns = ['등록일시', '총사망자', \n",
    "                  '총확진자', '기준일', '기준시간', \n",
    "                  '수정일시', '누적의심자', '누적확진자']"
   ]
  },
  {
   "cell_type": "code",
   "execution_count": null,
   "metadata": {},
   "outputs": [],
   "source": [
    "corona.head(1)"
   ]
  },
  {
   "cell_type": "code",
   "execution_count": null,
   "metadata": {},
   "outputs": [],
   "source": [
    "# case2\n",
    "# DataFrame 안에 있는 rename 함수를 이용하여 컬럼의 이름을 변경\n",
    "corona2.rename(\n",
    "    columns = {\n",
    "        'createDt' : '등록일시', 'deathCnt' : '총사망자', \n",
    "        'decideCnt' : '총확진자', 'stateDt' : '기준일', \n",
    "        'stateTime' : '기준시간', 'updateDt' : '수정일시', \n",
    "        'accExamCnt' : '누적의심자', 'accDefRate' : '누적확진자'\n",
    "    }, inplace=True\n",
    ")"
   ]
  },
  {
   "cell_type": "code",
   "execution_count": null,
   "metadata": {},
   "outputs": [],
   "source": [
    "## 결측치의 개수를 확인 \n",
    "corona.isna().sum()"
   ]
  },
  {
   "cell_type": "code",
   "execution_count": null,
   "metadata": {},
   "outputs": [],
   "source": [
    "corona.rename(\n",
    "    columns = {\n",
    "        '누적확진자' : '누적확진율'\n",
    "    }, inplace=True\n",
    ")"
   ]
  },
  {
   "cell_type": "code",
   "execution_count": null,
   "metadata": {},
   "outputs": [],
   "source": [
    "corona.head(5)"
   ]
  },
  {
   "cell_type": "code",
   "execution_count": null,
   "metadata": {},
   "outputs": [],
   "source": [
    "## 데이터의 정렬을 변경\n",
    "## sort_index(), sort_values({기준이 되는 컬럼명}, ascending={bool}, inplace ={bool})\n",
    "## 기준이 되는 컬럼명 : 복수 선택이 가능 ([컬럼명, 컬럼명])\n",
    "## ascending : True가 기본값이며 오름차순 정렬, False는 내림차순 정렬\n",
    "corona.sort_values( ['등록일시'], ascending=True , inplace=True)"
   ]
  },
  {
   "cell_type": "code",
   "execution_count": null,
   "metadata": {},
   "outputs": [],
   "source": [
    "corona.head(3)"
   ]
  },
  {
   "cell_type": "code",
   "execution_count": null,
   "metadata": {},
   "outputs": [],
   "source": [
    "## 인덱스를 재지정 \n",
    "## reset_index( drop = {bool} , inplace = {bool} )\n",
    "## drop : 기본값은 False, 기존이 인덱스를 제거할것인가?\n",
    "corona.reset_index(drop = True)"
   ]
  },
  {
   "cell_type": "code",
   "execution_count": null,
   "metadata": {},
   "outputs": [],
   "source": [
    "corona = corona.reset_index().drop('index', axis=1)"
   ]
  },
  {
   "cell_type": "code",
   "execution_count": null,
   "metadata": {},
   "outputs": [],
   "source": [
    "corona.head(3)"
   ]
  },
  {
   "cell_type": "code",
   "execution_count": null,
   "metadata": {},
   "outputs": [],
   "source": [
    "corona.loc[1, '총사망자']"
   ]
  },
  {
   "cell_type": "code",
   "execution_count": null,
   "metadata": {},
   "outputs": [],
   "source": [
    "corona.loc[ 0, '총사망자' ]"
   ]
  },
  {
   "cell_type": "code",
   "execution_count": null,
   "metadata": {},
   "outputs": [],
   "source": [
    "corona.iloc[ 1, 1 ]"
   ]
  },
  {
   "cell_type": "code",
   "execution_count": null,
   "metadata": {},
   "outputs": [],
   "source": [
    "# 2020-03-11의 일일 사망자의 수는\n",
    "corona.loc[1, '총사망자'] - corona.loc[0, '총사망자']\n",
    "# 2020-03-12의 일일 사망자의 수\n",
    "corona.loc[2, '총사망자'] - corona.loc[1, '총사망자']\n",
    "\n",
    "#가장 마지막 날의 일일 사망자\n",
    "corona.loc[819, '총사망자'] - corona.loc[818, '총사망자']"
   ]
  },
  {
   "cell_type": "code",
   "execution_count": null,
   "metadata": {},
   "outputs": [],
   "source": [
    "data_list = [0]\n",
    "for i in range(0, len(corona) - 1, 1):\n",
    "    deathcnt = corona.loc[i + 1, '총사망자'] - corona.loc[i, '총사망자']\n",
    "    # print(deathcnt)\n",
    "    data_list.append(deathcnt)\n",
    "data_list"
   ]
  },
  {
   "cell_type": "code",
   "execution_count": null,
   "metadata": {},
   "outputs": [],
   "source": [
    "corona['일일사망자'] = data_list"
   ]
  },
  {
   "cell_type": "code",
   "execution_count": null,
   "metadata": {},
   "outputs": [],
   "source": [
    "corona.head(3)"
   ]
  },
  {
   "cell_type": "code",
   "execution_count": null,
   "metadata": {},
   "outputs": [],
   "source": [
    "## shift({n}) : 인덱스를 n만큼 이동하여 새로운 스리즈 데이터를 생성\n",
    "corona['일일사망자2'] = \\\n",
    "(corona['총사망자'] - corona['총사망자'].shift(1)).fillna(0)"
   ]
  },
  {
   "cell_type": "code",
   "execution_count": null,
   "metadata": {},
   "outputs": [],
   "source": [
    "corona.head(3)"
   ]
  },
  {
   "cell_type": "code",
   "execution_count": null,
   "metadata": {},
   "outputs": [],
   "source": [
    "## diff({n}) : 인덱스가 n만큼 이동한 데이터와의 차이 값을 출력 \n",
    "corona['일일사망자3'] = corona['총사망자'].diff(1).fillna(0)"
   ]
  },
  {
   "cell_type": "code",
   "execution_count": null,
   "metadata": {},
   "outputs": [],
   "source": [
    "corona.head(3)"
   ]
  },
  {
   "cell_type": "code",
   "execution_count": null,
   "metadata": {},
   "outputs": [],
   "source": [
    "corona['일일확진자'] = corona['총확진자'].diff(1).fillna(0)"
   ]
  },
  {
   "cell_type": "code",
   "execution_count": null,
   "metadata": {},
   "outputs": [],
   "source": [
    "corona['일일확진자2'] = \\\n",
    "    (corona['총확진자'] - corona['총확진자'].shift(1)).fillna(0)"
   ]
  },
  {
   "cell_type": "code",
   "execution_count": null,
   "metadata": {},
   "outputs": [],
   "source": [
    "data_list = [0]\n",
    "i = 0\n",
    "\n",
    "while i < len(corona) -1:\n",
    "    decidecnt = corona.loc[i+1, '총확진자'] - corona.loc[i, '총확진자']\n",
    "    data_list.append(decidecnt)\n",
    "    i += 1\n",
    "data_list"
   ]
  },
  {
   "cell_type": "code",
   "execution_count": null,
   "metadata": {},
   "outputs": [],
   "source": [
    "data_list = [0]\n",
    "i = 0\n",
    "\n",
    "while True:\n",
    "    try:\n",
    "        decidecnt = corona.loc[i+1, '총확진자'] - corona.loc[i, '총확진자']\n",
    "        data_list.append(decidecnt)\n",
    "    except:\n",
    "        break\n",
    "    i += 1\n",
    "data_list"
   ]
  },
  {
   "cell_type": "code",
   "execution_count": null,
   "metadata": {},
   "outputs": [],
   "source": [
    "corona.head(3)"
   ]
  },
  {
   "cell_type": "code",
   "execution_count": null,
   "metadata": {},
   "outputs": [],
   "source": [
    "## 데이터프레임의 통계요약정보 출력\n",
    "corona.describe()"
   ]
  },
  {
   "cell_type": "code",
   "execution_count": null,
   "metadata": {},
   "outputs": [],
   "source": [
    "## 일일 사망자, 일일 확진자에 음수가 발견 \n",
    "\n",
    "## case1 일일사망자를 기준으로 오름차순 정렬\n",
    "corona.sort_values(['일일사망자']).head(3)"
   ]
  },
  {
   "cell_type": "code",
   "execution_count": null,
   "metadata": {},
   "outputs": [],
   "source": [
    "corona.sort_values(['일일확진자']).head(3)"
   ]
  },
  {
   "cell_type": "code",
   "execution_count": null,
   "metadata": {},
   "outputs": [],
   "source": [
    "## case2\n",
    "## loc의 인덱스 조건식을 이용하여 음수 데이터 출력\n",
    "flag = corona['일일사망자'] < 0\n",
    "corona.loc[ flag,  ]"
   ]
  },
  {
   "cell_type": "code",
   "execution_count": null,
   "metadata": {},
   "outputs": [],
   "source": [
    "flag2 = corona['일일확진자'] < 0\n",
    "corona.loc[flag2, ]"
   ]
  },
  {
   "cell_type": "code",
   "execution_count": null,
   "metadata": {},
   "outputs": [],
   "source": [
    "corona.iloc[ 444:448,  ]"
   ]
  },
  {
   "cell_type": "code",
   "execution_count": null,
   "metadata": {},
   "outputs": [],
   "source": [
    "corona.loc[ 444:448,  ]"
   ]
  },
  {
   "cell_type": "code",
   "execution_count": null,
   "metadata": {},
   "outputs": [],
   "source": [
    "corona.loc[445, '등록일시'] = \"2021-05-31 00:00:00.000\""
   ]
  },
  {
   "cell_type": "code",
   "execution_count": null,
   "metadata": {},
   "outputs": [],
   "source": [
    "corona.loc[444:448, ]"
   ]
  },
  {
   "cell_type": "markdown",
   "metadata": {},
   "source": [
    "#### 복습 \n",
    "1. 일일사망자, 일일사망자2, 일일사망자3, 일일확진자, 일일확진자2 컬럼을 제거 \n",
    "2. 등록일시를 기준으로 오름차순 정렬 \n",
    "3. 인덱스를 초기화 기존의 인덱스는 제거 \n",
    "4. 일일사망자, 일일확진자 파생변수 생성 \n",
    "5. 일일사망자와 일일확진자에 음수가 있는지 확인"
   ]
  },
  {
   "cell_type": "code",
   "execution_count": null,
   "metadata": {},
   "outputs": [],
   "source": [
    "# 특정 컬럼을 제거 \n",
    "corona.drop(\n",
    "    ['일일사망자', '일일사망자2', '일일사망자3', '일일확진자', '일일확진자2'], \n",
    "    axis=1\n",
    ")"
   ]
  },
  {
   "cell_type": "code",
   "execution_count": null,
   "metadata": {},
   "outputs": [],
   "source": [
    "# 특정 컬럼의 데이터를 추출\n",
    "corona.loc[: , '등록일시' : '누적확진율']"
   ]
  },
  {
   "cell_type": "code",
   "execution_count": null,
   "metadata": {},
   "outputs": [],
   "source": [
    "corona = corona.iloc[:, :8]"
   ]
  },
  {
   "cell_type": "code",
   "execution_count": null,
   "metadata": {},
   "outputs": [],
   "source": [
    "## 등록일시를 기준으로 오름차순 정렬 \n",
    "corona.sort_values(['등록일시'], inplace = True)"
   ]
  },
  {
   "cell_type": "code",
   "execution_count": null,
   "metadata": {},
   "outputs": [],
   "source": [
    "corona.iloc[444:448, ]"
   ]
  },
  {
   "cell_type": "code",
   "execution_count": null,
   "metadata": {},
   "outputs": [],
   "source": [
    "# 인덱스를 초기화 (기존의 인덱스는 제거)\n",
    "corona.reset_index(drop=True, inplace=True)"
   ]
  },
  {
   "cell_type": "code",
   "execution_count": null,
   "metadata": {},
   "outputs": [],
   "source": [
    "## 일일 사망자 컬럼을 추가 \n",
    "corona['일일사망자'] = \\\n",
    "    (corona['총사망자'] - corona['총사망자'].shift(1)).fillna(0)\n",
    "## 일일 확진자 컬럼을 추가 \n",
    "corona['일일확진자'] = \\\n",
    "    corona['총확진자'].diff(1).fillna(0)"
   ]
  },
  {
   "cell_type": "code",
   "execution_count": null,
   "metadata": {},
   "outputs": [],
   "source": [
    "corona.describe()"
   ]
  },
  {
   "cell_type": "markdown",
   "metadata": {},
   "source": [
    "### 일일확진자, 일일사망자를 생성하는 함수\n",
    "- 매개변수 2개 ( 데이터프레임, 오름차순정렬기준컬럼 )\n",
    "- 특정 컬럼을 제거 \n",
    "    - Unnamed: 0 컬럼이 존재한다면 제거 , 존재하지 않으면 아무 행동도 하지 않는다.\n",
    "    - seq 컬럼이 존재한다면 제거, 존재하지 않으면 아무 행동도 하지 않는다. \n",
    "- 컬럼의 이름을 변경 \n",
    "- 2번째 매개변수를 기준으로 데이터프레임을 오름차순 정렬\n",
    "- 인덱스를 초기화하고 기존의 인덱스는 제거\n",
    "- '일일사망자', '일일확진자' 컬럼을 추가 \n",
    "- 모든 작업이 끝난 데이터프레임을 리턴"
   ]
  },
  {
   "cell_type": "code",
   "execution_count": null,
   "metadata": {},
   "outputs": [],
   "source": [
    "def corona_EDA(df, _col):\n",
    "    _df = df.copy()\n",
    "    # 특정 컬럼을 제거 \n",
    "    # Unnamed: 0 컬럼이 존재하는가?\n",
    "    if \"Unnamed: 0\" in _df.columns:\n",
    "        _df.drop('Unnamed: 0', axis=1, inplace=True)\n",
    "    # seq 컬럼이 존재하는가\n",
    "    if \"seq\" in _df.columns:\n",
    "        _df.drop('seq', axis=1, inplace=True)\n",
    "    # 컬럼의 이름을 변경\n",
    "    _df.columns = ['등록일시', '총사망자', '총확진자', '기준일', '기준시간', \n",
    "                   '수정일시', '누적의심자', '누적확진율']\n",
    "    # 2번째 매개변수를 기준으로 데이터를 오름차순 정렬\n",
    "    _df.sort_values(_col, inplace=True)\n",
    "    # 인덱스를 초기화하고 기존의 인덱스는 삭제 \n",
    "    _df.reset_index(drop=True, inplace=True)\n",
    "    # 파생변수 생성\n",
    "    _df['일일사망자'] = _df['총사망자'].diff().fillna(0)\n",
    "    _df['일일확진자'] = _df['총확진자'].diff().fillna(0)\n",
    "    return _df\n",
    "    "
   ]
  },
  {
   "cell_type": "code",
   "execution_count": null,
   "metadata": {},
   "outputs": [],
   "source": [
    "df = pd.read_csv(\"../../csv/corona.csv\")"
   ]
  },
  {
   "cell_type": "code",
   "execution_count": null,
   "metadata": {},
   "outputs": [],
   "source": [
    "df2 = corona_EDA(df, '기준일')"
   ]
  },
  {
   "cell_type": "code",
   "execution_count": null,
   "metadata": {},
   "outputs": [],
   "source": [
    "df2.describe()"
   ]
  },
  {
   "cell_type": "code",
   "execution_count": null,
   "metadata": {},
   "outputs": [],
   "source": [
    "df3 = pd.read_csv(\"../../csv/corona.csv\", index_col=0)\n",
    "df3.head(1)"
   ]
  },
  {
   "cell_type": "code",
   "execution_count": null,
   "metadata": {},
   "outputs": [],
   "source": [
    "df4 = corona_EDA(df3, '등록일시')"
   ]
  },
  {
   "cell_type": "code",
   "execution_count": null,
   "metadata": {},
   "outputs": [],
   "source": [
    "df4.describe()"
   ]
  },
  {
   "cell_type": "code",
   "execution_count": null,
   "metadata": {},
   "outputs": [],
   "source": []
  }
 ],
 "metadata": {
  "kernelspec": {
   "display_name": "Python 3",
   "language": "python",
   "name": "python3"
  },
  "language_info": {
   "codemirror_mode": {
    "name": "ipython",
    "version": 3
   },
   "file_extension": ".py",
   "mimetype": "text/x-python",
   "name": "python",
   "nbconvert_exporter": "python",
   "pygments_lexer": "ipython3",
   "version": "3.11.1"
  }
 },
 "nbformat": 4,
 "nbformat_minor": 2
}
