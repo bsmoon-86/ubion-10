{
 "cells": [
  {
   "cell_type": "markdown",
   "metadata": {},
   "source": [
    "### 웹 크롤링 \n",
    "1. 사용할 라이브러리 목록\n",
    "    - requests\n",
    "    - bs4 (BeautifulSoup)\n",
    "        - bs4라이브러리 안에 있는 BeautifilSoup class\n",
    "        - html 문서형 데이터를 pasing을 하여 데이터를 쉽게 추출할 수 있도록 도와주는 라이브러리 \n",
    "        - html의 TAG를 기준으로 데이터를 추출\n",
    "        - 웹의 구조를 어느 정도 인지하고 사용을 한다면 쉽게 접근이 가능\n",
    "        - Parser를 활용해서 파이썬에서 접근이 쉽게 객체 형태로 제공\n",
    "    - selenium\n",
    "        - 웹 어플리케이션를 테스트하기 위해 만들어진 라이브러리\n",
    "        - 웹 브라우져를 python의 code를 이용하여 제어\n",
    "        - 크롬이 구버전이거나 selenium이 구버전인 경우에는 별도의 소프트웨어를 설치"
   ]
  },
  {
   "cell_type": "code",
   "execution_count": null,
   "metadata": {},
   "outputs": [],
   "source": [
    "import requests"
   ]
  },
  {
   "cell_type": "code",
   "execution_count": null,
   "metadata": {},
   "outputs": [],
   "source": [
    "url = \"https://www.naver.com\""
   ]
  },
  {
   "cell_type": "code",
   "execution_count": null,
   "metadata": {},
   "outputs": [],
   "source": [
    "response = requests.get(url)"
   ]
  },
  {
   "cell_type": "code",
   "execution_count": null,
   "metadata": {},
   "outputs": [],
   "source": [
    "html_data = response.text"
   ]
  },
  {
   "cell_type": "code",
   "execution_count": null,
   "metadata": {},
   "outputs": [],
   "source": [
    "type(html_data)"
   ]
  },
  {
   "cell_type": "code",
   "execution_count": null,
   "metadata": {},
   "outputs": [],
   "source": [
    "html_data[378:410]"
   ]
  },
  {
   "cell_type": "code",
   "execution_count": null,
   "metadata": {},
   "outputs": [],
   "source": [
    "html_data.find('네이버')"
   ]
  },
  {
   "cell_type": "code",
   "execution_count": null,
   "metadata": {},
   "outputs": [],
   "source": [
    "## 라이브러리 설치 \n",
    "!pip install bs4"
   ]
  },
  {
   "cell_type": "code",
   "execution_count": null,
   "metadata": {},
   "outputs": [],
   "source": [
    "# 라이브러리 로드 \n",
    "from bs4 import BeautifulSoup as bs"
   ]
  },
  {
   "cell_type": "code",
   "execution_count": null,
   "metadata": {},
   "outputs": [],
   "source": [
    "# pasing 작업 : 데이터의 형태를 변환 \n",
    "# (새로운 class에 인자값을 대입하여 새로운 객체 생성)\n",
    "soup = bs(html_data, 'html.parser')"
   ]
  },
  {
   "cell_type": "code",
   "execution_count": null,
   "metadata": {},
   "outputs": [],
   "source": [
    "print(soup)"
   ]
  },
  {
   "cell_type": "code",
   "execution_count": null,
   "metadata": {},
   "outputs": [],
   "source": [
    "print(type(soup))"
   ]
  },
  {
   "cell_type": "markdown",
   "metadata": {},
   "source": [
    "- 태그의 이름을 기준으로 검색 \n",
    "    - soup.태그명 : HTML 문서에서 해당 태그명의 첫번째 정보를 출력 \n",
    "    - soup.태그명.string : 첫번째 태그 정보에서 문자열이 출력 \n",
    "    - soup.태그명['속성명'] : 첫번째 태그 정보에서 속성의 값이 출력 "
   ]
  },
  {
   "cell_type": "code",
   "execution_count": null,
   "metadata": {},
   "outputs": [],
   "source": [
    "# 네이버에서 a태그(하이퍼링크) 중 첫번째 태그를 확인 \n",
    "soup.a"
   ]
  },
  {
   "cell_type": "code",
   "execution_count": null,
   "metadata": {},
   "outputs": [],
   "source": [
    "soup.a.string"
   ]
  },
  {
   "cell_type": "code",
   "execution_count": null,
   "metadata": {},
   "outputs": [],
   "source": [
    "soup.a['href']"
   ]
  },
  {
   "cell_type": "markdown",
   "metadata": {},
   "source": [
    "- find({태그명})\n",
    "    - HTML 문자열에서 해당 태그의 첫번쨰 정보를 출력 \n",
    "    - find(속성명 = 속성값) : 태그들 중에 해당 속성을 가지고 있는 태그의 첫번째 태그의 정보를 출력\n",
    "- find_all({태그명})\n",
    "    - HTML 문자열에서 해당 태그의 모든 태그 정보를 리스트의 형태로 출력\n",
    "    - limit 매개변수 : 리스트의 개수를 지정"
   ]
  },
  {
   "cell_type": "code",
   "execution_count": null,
   "metadata": {},
   "outputs": [],
   "source": [
    "first_a = soup.find('a')"
   ]
  },
  {
   "cell_type": "code",
   "execution_count": null,
   "metadata": {},
   "outputs": [],
   "source": [
    "a_list = soup.find_all('a')"
   ]
  },
  {
   "cell_type": "code",
   "execution_count": null,
   "metadata": {},
   "outputs": [],
   "source": [
    "first_a.get_text()"
   ]
  },
  {
   "cell_type": "code",
   "execution_count": null,
   "metadata": {},
   "outputs": [],
   "source": [
    "a_list[1].get_text()"
   ]
  },
  {
   "cell_type": "code",
   "execution_count": null,
   "metadata": {},
   "outputs": [],
   "source": [
    "data_list = []\n",
    "\n",
    "for i in a_list:\n",
    "    # print(i.string)\n",
    "    data_list.append(i.get_text())"
   ]
  },
  {
   "cell_type": "code",
   "execution_count": null,
   "metadata": {},
   "outputs": [],
   "source": [
    "data_list"
   ]
  },
  {
   "cell_type": "code",
   "execution_count": null,
   "metadata": {},
   "outputs": [],
   "source": [
    "## 네이버 파이낸스 페이지에서 데이터를 크롤링\n",
    "url = 'https://finance.naver.com/'\n",
    "response = requests.get(url)"
   ]
  },
  {
   "cell_type": "code",
   "execution_count": null,
   "metadata": {},
   "outputs": [],
   "source": [
    "response"
   ]
  },
  {
   "cell_type": "code",
   "execution_count": null,
   "metadata": {},
   "outputs": [],
   "source": [
    "html_data = response.text"
   ]
  },
  {
   "cell_type": "code",
   "execution_count": null,
   "metadata": {},
   "outputs": [],
   "source": [
    "# BeautifulSoup의 데이터 형으로 파싱 \n",
    "soup = bs(html_data, 'html.parser')"
   ]
  },
  {
   "cell_type": "code",
   "execution_count": null,
   "metadata": {},
   "outputs": [],
   "source": [
    "soup"
   ]
  },
  {
   "cell_type": "code",
   "execution_count": null,
   "metadata": {},
   "outputs": [],
   "source": [
    "## soup에서 table 태그들 중 class의 값이 tbl_home 태그를 선택\n",
    "len(soup.find_all('table', attrs={\n",
    "    'class' : 'tbl_home'\n",
    "}))"
   ]
  },
  {
   "cell_type": "code",
   "execution_count": null,
   "metadata": {},
   "outputs": [],
   "source": [
    "div_data = soup.find('div', attrs={\n",
    "    'class' : 'section_sise_top'\n",
    "})"
   ]
  },
  {
   "cell_type": "code",
   "execution_count": null,
   "metadata": {},
   "outputs": [],
   "source": [
    "div_data2 = soup.find_all('div', attrs={\n",
    "    'class' : 'section_sise_top'\n",
    "})"
   ]
  },
  {
   "cell_type": "code",
   "execution_count": null,
   "metadata": {},
   "outputs": [],
   "source": [
    "print(type(div_data))\n",
    "print(type(div_data2[0]))"
   ]
  },
  {
   "cell_type": "code",
   "execution_count": null,
   "metadata": {},
   "outputs": [],
   "source": [
    "div_data"
   ]
  },
  {
   "cell_type": "code",
   "execution_count": null,
   "metadata": {},
   "outputs": [],
   "source": [
    "tables = div_data.find_all('table', attrs={\n",
    "    'class' : 'tbl_home'\n",
    "})"
   ]
  },
  {
   "cell_type": "code",
   "execution_count": null,
   "metadata": {},
   "outputs": [],
   "source": [
    "tables[0].tr"
   ]
  },
  {
   "cell_type": "code",
   "execution_count": null,
   "metadata": {},
   "outputs": [],
   "source": [
    "tables[0].find('tr').get_text().split()"
   ]
  },
  {
   "cell_type": "code",
   "execution_count": null,
   "metadata": {},
   "outputs": [],
   "source": [
    "th_list = tables[0].find('tr').find_all('th')\n",
    "\n",
    "_cols = []\n",
    "\n",
    "for i in th_list:\n",
    "    _cols.append(i.get_text())\n",
    "_cols"
   ]
  },
  {
   "cell_type": "code",
   "execution_count": null,
   "metadata": {},
   "outputs": [],
   "source": [
    "trade_top = tables[0]"
   ]
  },
  {
   "cell_type": "code",
   "execution_count": null,
   "metadata": {},
   "outputs": [],
   "source": [
    "tr_list = trade_top.find_all('tr')"
   ]
  },
  {
   "cell_type": "code",
   "execution_count": null,
   "metadata": {},
   "outputs": [],
   "source": [
    "tr_list[1].get_text().split()"
   ]
  },
  {
   "cell_type": "code",
   "execution_count": null,
   "metadata": {},
   "outputs": [],
   "source": [
    "_val = [tr_list[1].find('th').get_text()]\n",
    "\n",
    "td_list = tr_list[1].find_all('td')\n",
    "\n",
    "for i in td_list:\n",
    "    data =i.get_text().strip()\n",
    "    _val.append(data)\n",
    "_val"
   ]
  },
  {
   "cell_type": "code",
   "execution_count": null,
   "metadata": {},
   "outputs": [],
   "source": [
    "_values = []\n",
    "\n",
    "for i in range(1, len(tr_list)):\n",
    "    _val = [tr_list[i].find('th').get_text()]\n",
    "\n",
    "    td_list = tr_list[i].find_all('td')\n",
    "\n",
    "    for j in td_list:\n",
    "        data = j.get_text().strip()\n",
    "        _val.append(data)\n",
    "\n",
    "    _values.append(_val)\n",
    "\n",
    "_values"
   ]
  },
  {
   "cell_type": "code",
   "execution_count": null,
   "metadata": {},
   "outputs": [],
   "source": [
    "import pandas as pd"
   ]
  },
  {
   "cell_type": "code",
   "execution_count": null,
   "metadata": {},
   "outputs": [],
   "source": [
    "df = pd.DataFrame(_values)"
   ]
  },
  {
   "cell_type": "code",
   "execution_count": null,
   "metadata": {},
   "outputs": [],
   "source": [
    "df.columns = _cols"
   ]
  },
  {
   "cell_type": "code",
   "execution_count": null,
   "metadata": {},
   "outputs": [],
   "source": [
    "df"
   ]
  },
  {
   "cell_type": "code",
   "execution_count": null,
   "metadata": {},
   "outputs": [],
   "source": [
    "len(tables)"
   ]
  },
  {
   "cell_type": "code",
   "execution_count": null,
   "metadata": {},
   "outputs": [],
   "source": [
    "# 현재의 시간을 가지고 온다. \n",
    "from datetime import datetime"
   ]
  },
  {
   "cell_type": "code",
   "execution_count": null,
   "metadata": {},
   "outputs": [],
   "source": [
    "now = datetime.now()"
   ]
  },
  {
   "cell_type": "code",
   "execution_count": null,
   "metadata": {},
   "outputs": [],
   "source": [
    "date = now.strftime('%y/%m/%d %H:%M:%S')"
   ]
  },
  {
   "cell_type": "code",
   "execution_count": null,
   "metadata": {},
   "outputs": [],
   "source": [
    "for index in range(len(tables)):\n",
    "    now = datetime.now()\n",
    "    date = now.strftime('%y-%m-%d %H-%M-%S')\n",
    "    ## 컬럼에 들어갈 데이터를 만드는 구간\n",
    "    th_list = tables[index].find('tr').find_all('th')\n",
    "\n",
    "    _cols = []\n",
    "\n",
    "    for i in th_list:\n",
    "        _cols.append(i.get_text())\n",
    "    # print(_cols)\n",
    "        \n",
    "    tr_list = tables[index].find_all('tr')\n",
    "        \n",
    "    _values = []\n",
    "\n",
    "    for i in range(1, len(tr_list)):\n",
    "        _val = [tr_list[i].find('th').get_text()]\n",
    "\n",
    "        td_list = tr_list[i].find_all('td')\n",
    "\n",
    "        for j in td_list:\n",
    "            data = j.get_text().strip()\n",
    "            _val.append(data)\n",
    "\n",
    "        _values.append(_val)\n",
    "\n",
    "    # print(_values)\n",
    "    # 반복 실행 할때마다 다른 변수에 데이터를 저장\n",
    "    file_list = ['거래상위', '상승', '하락', '시가총액 상위']\n",
    "    globals()[f'df_{index}'] = pd.DataFrame(_values, columns=_cols)\n",
    "    pd.DataFrame(_values, columns=_cols).to_csv(\n",
    "        f'{file_list[index]}_{date}.csv')\n",
    "\n",
    "    "
   ]
  },
  {
   "cell_type": "code",
   "execution_count": null,
   "metadata": {},
   "outputs": [],
   "source": [
    "globals()['__name__']"
   ]
  },
  {
   "cell_type": "code",
   "execution_count": null,
   "metadata": {},
   "outputs": [],
   "source": [
    "df_3.sort_values('등락률', ascending=False)"
   ]
  },
  {
   "cell_type": "code",
   "execution_count": null,
   "metadata": {},
   "outputs": [],
   "source": [
    "df1 = df_3.copy()"
   ]
  },
  {
   "cell_type": "code",
   "execution_count": null,
   "metadata": {},
   "outputs": [],
   "source": [
    "# df1의 등락률데이터를 숫자로 변경\n",
    "# % 문자열이 삭제\n",
    "# df1['등락률'][0].replace(\"%\", \"\")\n",
    "df1['등락률'] = df1['등락률'].str.rstrip('%').astype('float')"
   ]
  },
  {
   "cell_type": "code",
   "execution_count": null,
   "metadata": {},
   "outputs": [],
   "source": [
    "df1.sort_values('등락률', ascending=False)"
   ]
  },
  {
   "cell_type": "code",
   "execution_count": 158,
   "metadata": {},
   "outputs": [],
   "source": [
    "df2 = df_3.copy()"
   ]
  },
  {
   "cell_type": "code",
   "execution_count": 159,
   "metadata": {},
   "outputs": [],
   "source": [
    "# 등락률의 -, +를 파생변수 등락을 생성하여 [상승, 하락, 보합]\n",
    "df2['등락'] = df2['등락률'].map(\n",
    "    lambda x : \"상승\" if x[0] == '+' else ( \"하락\" if x[0] == '-' else '보합' )\n",
    ")"
   ]
  },
  {
   "cell_type": "code",
   "execution_count": 160,
   "metadata": {},
   "outputs": [],
   "source": [
    "df2['등락률'] = df2['등락률'].map(\n",
    "    lambda x : float(x.strip('-' '+' '%'))\n",
    ")"
   ]
  },
  {
   "cell_type": "code",
   "execution_count": 161,
   "metadata": {},
   "outputs": [
    {
     "data": {
      "text/html": [
       "<div>\n",
       "<style scoped>\n",
       "    .dataframe tbody tr th:only-of-type {\n",
       "        vertical-align: middle;\n",
       "    }\n",
       "\n",
       "    .dataframe tbody tr th {\n",
       "        vertical-align: top;\n",
       "    }\n",
       "\n",
       "    .dataframe thead th {\n",
       "        text-align: right;\n",
       "    }\n",
       "</style>\n",
       "<table border=\"1\" class=\"dataframe\">\n",
       "  <thead>\n",
       "    <tr style=\"text-align: right;\">\n",
       "      <th></th>\n",
       "      <th>종목명</th>\n",
       "      <th>현재가</th>\n",
       "      <th>전일대비</th>\n",
       "      <th>등락률</th>\n",
       "      <th>등락</th>\n",
       "    </tr>\n",
       "  </thead>\n",
       "  <tbody>\n",
       "    <tr>\n",
       "      <th>9</th>\n",
       "      <td>LG화학</td>\n",
       "      <td>483,000</td>\n",
       "      <td>하락 17,000</td>\n",
       "      <td>3.40</td>\n",
       "      <td>하락</td>\n",
       "    </tr>\n",
       "    <tr>\n",
       "      <th>12</th>\n",
       "      <td>삼성SDI</td>\n",
       "      <td>396,000</td>\n",
       "      <td>하락 4,000</td>\n",
       "      <td>1.00</td>\n",
       "      <td>하락</td>\n",
       "    </tr>\n",
       "    <tr>\n",
       "      <th>10</th>\n",
       "      <td>NAVER</td>\n",
       "      <td>200,500</td>\n",
       "      <td>하락 2,000</td>\n",
       "      <td>0.99</td>\n",
       "      <td>하락</td>\n",
       "    </tr>\n",
       "    <tr>\n",
       "      <th>7</th>\n",
       "      <td>셀트리온</td>\n",
       "      <td>176,100</td>\n",
       "      <td>하락 900</td>\n",
       "      <td>0.51</td>\n",
       "      <td>하락</td>\n",
       "    </tr>\n",
       "    <tr>\n",
       "      <th>5</th>\n",
       "      <td>삼성전자우</td>\n",
       "      <td>62,800</td>\n",
       "      <td>하락 300</td>\n",
       "      <td>0.48</td>\n",
       "      <td>하락</td>\n",
       "    </tr>\n",
       "    <tr>\n",
       "      <th>8</th>\n",
       "      <td>POSCO홀딩스</td>\n",
       "      <td>436,000</td>\n",
       "      <td>하락 2,000</td>\n",
       "      <td>0.46</td>\n",
       "      <td>하락</td>\n",
       "    </tr>\n",
       "    <tr>\n",
       "      <th>0</th>\n",
       "      <td>삼성전자</td>\n",
       "      <td>72,700</td>\n",
       "      <td>하락 300</td>\n",
       "      <td>0.41</td>\n",
       "      <td>하락</td>\n",
       "    </tr>\n",
       "    <tr>\n",
       "      <th>3</th>\n",
       "      <td>삼성바이오로직스</td>\n",
       "      <td>820,000</td>\n",
       "      <td>하락 3,000</td>\n",
       "      <td>0.36</td>\n",
       "      <td>하락</td>\n",
       "    </tr>\n",
       "    <tr>\n",
       "      <th>14</th>\n",
       "      <td>카카오</td>\n",
       "      <td>57,800</td>\n",
       "      <td>하락 200</td>\n",
       "      <td>0.34</td>\n",
       "      <td>하락</td>\n",
       "    </tr>\n",
       "    <tr>\n",
       "      <th>1</th>\n",
       "      <td>SK하이닉스</td>\n",
       "      <td>155,500</td>\n",
       "      <td>상승 6,500</td>\n",
       "      <td>4.36</td>\n",
       "      <td>상승</td>\n",
       "    </tr>\n",
       "    <tr>\n",
       "      <th>11</th>\n",
       "      <td>삼성물산</td>\n",
       "      <td>165,300</td>\n",
       "      <td>상승 4,000</td>\n",
       "      <td>2.48</td>\n",
       "      <td>상승</td>\n",
       "    </tr>\n",
       "    <tr>\n",
       "      <th>6</th>\n",
       "      <td>기아</td>\n",
       "      <td>119,500</td>\n",
       "      <td>상승 2,700</td>\n",
       "      <td>2.31</td>\n",
       "      <td>상승</td>\n",
       "    </tr>\n",
       "    <tr>\n",
       "      <th>4</th>\n",
       "      <td>현대차</td>\n",
       "      <td>244,500</td>\n",
       "      <td>상승 5,000</td>\n",
       "      <td>2.09</td>\n",
       "      <td>상승</td>\n",
       "    </tr>\n",
       "    <tr>\n",
       "      <th>13</th>\n",
       "      <td>KB금융</td>\n",
       "      <td>65,300</td>\n",
       "      <td>상승 200</td>\n",
       "      <td>0.31</td>\n",
       "      <td>상승</td>\n",
       "    </tr>\n",
       "    <tr>\n",
       "      <th>2</th>\n",
       "      <td>LG에너지솔루션</td>\n",
       "      <td>407,500</td>\n",
       "      <td>상승 500</td>\n",
       "      <td>0.12</td>\n",
       "      <td>상승</td>\n",
       "    </tr>\n",
       "  </tbody>\n",
       "</table>\n",
       "</div>"
      ],
      "text/plain": [
       "         종목명      현재가       전일대비   등락률  등락\n",
       "9       LG화학  483,000  하락 17,000  3.40  하락\n",
       "12     삼성SDI  396,000   하락 4,000  1.00  하락\n",
       "10     NAVER  200,500   하락 2,000  0.99  하락\n",
       "7       셀트리온  176,100     하락 900  0.51  하락\n",
       "5      삼성전자우   62,800     하락 300  0.48  하락\n",
       "8   POSCO홀딩스  436,000   하락 2,000  0.46  하락\n",
       "0       삼성전자   72,700     하락 300  0.41  하락\n",
       "3   삼성바이오로직스  820,000   하락 3,000  0.36  하락\n",
       "14       카카오   57,800     하락 200  0.34  하락\n",
       "1     SK하이닉스  155,500   상승 6,500  4.36  상승\n",
       "11      삼성물산  165,300   상승 4,000  2.48  상승\n",
       "6         기아  119,500   상승 2,700  2.31  상승\n",
       "4        현대차  244,500   상승 5,000  2.09  상승\n",
       "13      KB금융   65,300     상승 200  0.31  상승\n",
       "2   LG에너지솔루션  407,500     상승 500  0.12  상승"
      ]
     },
     "execution_count": 161,
     "metadata": {},
     "output_type": "execute_result"
    }
   ],
   "source": [
    "df2.sort_values(['등락', '등락률'], ascending=False)"
   ]
  }
 ],
 "metadata": {
  "kernelspec": {
   "display_name": "Python 3",
   "language": "python",
   "name": "python3"
  },
  "language_info": {
   "codemirror_mode": {
    "name": "ipython",
    "version": 3
   },
   "file_extension": ".py",
   "mimetype": "text/x-python",
   "name": "python",
   "nbconvert_exporter": "python",
   "pygments_lexer": "ipython3",
   "version": "3.11.1"
  }
 },
 "nbformat": 4,
 "nbformat_minor": 2
}
