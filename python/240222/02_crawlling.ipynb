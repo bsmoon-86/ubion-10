{
 "cells": [
  {
   "cell_type": "markdown",
   "metadata": {},
   "source": [
    "### 웹 크롤링 \n",
    "1. 사용할 라이브러리 목록\n",
    "    - requests\n",
    "    - bs4 (BeautifulSoup)\n",
    "        - bs4라이브러리 안에 있는 BeautifilSoup class\n",
    "        - html 문서형 데이터를 pasing을 하여 데이터를 쉽게 추출할 수 있도록 도와주는 라이브러리 \n",
    "        - html의 TAG를 기준으로 데이터를 추출\n",
    "        - 웹의 구조를 어느 정도 인지하고 사용을 한다면 쉽게 접근이 가능\n",
    "        - Parser를 활용해서 파이썬에서 접근이 쉽게 객체 형태로 제공\n",
    "    - selenium\n",
    "        - 웹 어플리케이션를 테스트하기 위해 만들어진 라이브러리\n",
    "        - 웹 브라우져를 python의 code를 이용하여 제어\n",
    "        - 크롬이 구버전이거나 selenium이 구버전인 경우에는 별도의 소프트웨어를 설치"
   ]
  },
  {
   "cell_type": "code",
   "execution_count": null,
   "metadata": {},
   "outputs": [],
   "source": [
    "import requests"
   ]
  },
  {
   "cell_type": "code",
   "execution_count": null,
   "metadata": {},
   "outputs": [],
   "source": [
    "url = \"https://www.naver.com\""
   ]
  },
  {
   "cell_type": "code",
   "execution_count": null,
   "metadata": {},
   "outputs": [],
   "source": [
    "response = requests.get(url)"
   ]
  },
  {
   "cell_type": "code",
   "execution_count": null,
   "metadata": {},
   "outputs": [],
   "source": [
    "html_data = response.text"
   ]
  },
  {
   "cell_type": "code",
   "execution_count": null,
   "metadata": {},
   "outputs": [],
   "source": [
    "type(html_data)"
   ]
  },
  {
   "cell_type": "code",
   "execution_count": null,
   "metadata": {},
   "outputs": [],
   "source": [
    "html_data[378:410]"
   ]
  },
  {
   "cell_type": "code",
   "execution_count": null,
   "metadata": {},
   "outputs": [],
   "source": [
    "html_data.find('네이버')"
   ]
  },
  {
   "cell_type": "code",
   "execution_count": null,
   "metadata": {},
   "outputs": [],
   "source": [
    "## 라이브러리 설치 \n",
    "!pip install bs4"
   ]
  },
  {
   "cell_type": "code",
   "execution_count": null,
   "metadata": {},
   "outputs": [],
   "source": [
    "# 라이브러리 로드 \n",
    "from bs4 import BeautifulSoup as bs"
   ]
  },
  {
   "cell_type": "code",
   "execution_count": null,
   "metadata": {},
   "outputs": [],
   "source": [
    "# pasing 작업 : 데이터의 형태를 변환 \n",
    "# (새로운 class에 인자값을 대입하여 새로운 객체 생성)\n",
    "soup = bs(html_data, 'html.parser')"
   ]
  },
  {
   "cell_type": "code",
   "execution_count": null,
   "metadata": {},
   "outputs": [],
   "source": [
    "print(soup)"
   ]
  },
  {
   "cell_type": "code",
   "execution_count": null,
   "metadata": {},
   "outputs": [],
   "source": [
    "print(type(soup))"
   ]
  },
  {
   "cell_type": "markdown",
   "metadata": {},
   "source": [
    "- 태그의 이름을 기준으로 검색 \n",
    "    - soup.태그명 : HTML 문서에서 해당 태그명의 첫번째 정보를 출력 \n",
    "    - soup.태그명.string : 첫번째 태그 정보에서 문자열이 출력 \n",
    "    - soup.태그명['속성명'] : 첫번째 태그 정보에서 속성의 값이 출력 "
   ]
  },
  {
   "cell_type": "code",
   "execution_count": null,
   "metadata": {},
   "outputs": [],
   "source": [
    "# 네이버에서 a태그(하이퍼링크) 중 첫번째 태그를 확인 \n",
    "soup.a"
   ]
  },
  {
   "cell_type": "code",
   "execution_count": null,
   "metadata": {},
   "outputs": [],
   "source": [
    "soup.a.string"
   ]
  },
  {
   "cell_type": "code",
   "execution_count": null,
   "metadata": {},
   "outputs": [],
   "source": [
    "soup.a['href']"
   ]
  },
  {
   "cell_type": "markdown",
   "metadata": {},
   "source": [
    "- find({태그명})\n",
    "    - HTML 문자열에서 해당 태그의 첫번쨰 정보를 출력 \n",
    "    - find(속성명 = 속성값) : 태그들 중에 해당 속성을 가지고 있는 태그의 첫번째 태그의 정보를 출력\n",
    "- find_all({태그명})\n",
    "    - HTML 문자열에서 해당 태그의 모든 태그 정보를 리스트의 형태로 출력\n",
    "    - limit 매개변수 : 리스트의 개수를 지정"
   ]
  },
  {
   "cell_type": "code",
   "execution_count": null,
   "metadata": {},
   "outputs": [],
   "source": [
    "first_a = soup.find('a')"
   ]
  },
  {
   "cell_type": "code",
   "execution_count": null,
   "metadata": {},
   "outputs": [],
   "source": [
    "a_list = soup.find_all('a')"
   ]
  },
  {
   "cell_type": "code",
   "execution_count": null,
   "metadata": {},
   "outputs": [],
   "source": [
    "first_a.get_text()"
   ]
  },
  {
   "cell_type": "code",
   "execution_count": null,
   "metadata": {},
   "outputs": [],
   "source": [
    "a_list[1].get_text()"
   ]
  },
  {
   "cell_type": "code",
   "execution_count": null,
   "metadata": {},
   "outputs": [],
   "source": [
    "data_list = []\n",
    "\n",
    "for i in a_list:\n",
    "    # print(i.string)\n",
    "    data_list.append(i.get_text())"
   ]
  },
  {
   "cell_type": "code",
   "execution_count": null,
   "metadata": {},
   "outputs": [],
   "source": [
    "data_list"
   ]
  },
  {
   "cell_type": "code",
   "execution_count": null,
   "metadata": {},
   "outputs": [],
   "source": [
    "## 네이버 파이낸스 페이지에서 데이터를 크롤링\n",
    "url = 'https://finance.naver.com/'\n",
    "response = requests.get(url)"
   ]
  },
  {
   "cell_type": "code",
   "execution_count": null,
   "metadata": {},
   "outputs": [],
   "source": [
    "response"
   ]
  },
  {
   "cell_type": "code",
   "execution_count": null,
   "metadata": {},
   "outputs": [],
   "source": [
    "html_data = response.text"
   ]
  },
  {
   "cell_type": "code",
   "execution_count": null,
   "metadata": {},
   "outputs": [],
   "source": [
    "# BeautifulSoup의 데이터 형으로 파싱 \n",
    "soup = bs(html_data, 'html.parser')"
   ]
  },
  {
   "cell_type": "code",
   "execution_count": null,
   "metadata": {},
   "outputs": [],
   "source": [
    "soup"
   ]
  },
  {
   "cell_type": "code",
   "execution_count": null,
   "metadata": {},
   "outputs": [],
   "source": [
    "## soup에서 table 태그들 중 class의 값이 tbl_home 태그를 선택\n",
    "len(soup.find_all('table', attrs={\n",
    "    'class' : 'tbl_home'\n",
    "}))"
   ]
  },
  {
   "cell_type": "code",
   "execution_count": null,
   "metadata": {},
   "outputs": [],
   "source": [
    "div_data = soup.find('div', attrs={\n",
    "    'class' : 'section_sise_top'\n",
    "})"
   ]
  },
  {
   "cell_type": "code",
   "execution_count": null,
   "metadata": {},
   "outputs": [],
   "source": [
    "div_data2 = soup.find_all('div', attrs={\n",
    "    'class' : 'section_sise_top'\n",
    "})"
   ]
  },
  {
   "cell_type": "code",
   "execution_count": null,
   "metadata": {},
   "outputs": [],
   "source": [
    "print(type(div_data))\n",
    "print(type(div_data2[0]))"
   ]
  },
  {
   "cell_type": "code",
   "execution_count": null,
   "metadata": {},
   "outputs": [],
   "source": [
    "div_data"
   ]
  },
  {
   "cell_type": "code",
   "execution_count": null,
   "metadata": {},
   "outputs": [],
   "source": [
    "tables = div_data.find_all('table', attrs={\n",
    "    'class' : 'tbl_home'\n",
    "})"
   ]
  },
  {
   "cell_type": "code",
   "execution_count": null,
   "metadata": {},
   "outputs": [],
   "source": [
    "tables[0].tr"
   ]
  },
  {
   "cell_type": "code",
   "execution_count": null,
   "metadata": {},
   "outputs": [],
   "source": [
    "tables[0].find('tr').get_text().split()"
   ]
  },
  {
   "cell_type": "code",
   "execution_count": null,
   "metadata": {},
   "outputs": [],
   "source": [
    "th_list = tables[0].find('tr').find_all('th')\n",
    "\n",
    "_cols = []\n",
    "\n",
    "for i in th_list:\n",
    "    _cols.append(i.get_text())\n",
    "_cols"
   ]
  },
  {
   "cell_type": "code",
   "execution_count": null,
   "metadata": {},
   "outputs": [],
   "source": [
    "trade_top = tables[0]"
   ]
  },
  {
   "cell_type": "code",
   "execution_count": null,
   "metadata": {},
   "outputs": [],
   "source": [
    "tr_list = trade_top.find_all('tr')"
   ]
  },
  {
   "cell_type": "code",
   "execution_count": null,
   "metadata": {},
   "outputs": [],
   "source": [
    "tr_list[1].get_text().split()"
   ]
  },
  {
   "cell_type": "code",
   "execution_count": null,
   "metadata": {},
   "outputs": [],
   "source": [
    "_val = [tr_list[1].find('th').get_text()]\n",
    "\n",
    "td_list = tr_list[1].find_all('td')\n",
    "\n",
    "for i in td_list:\n",
    "    data =i.get_text().strip()\n",
    "    _val.append(data)\n",
    "_val"
   ]
  },
  {
   "cell_type": "code",
   "execution_count": null,
   "metadata": {},
   "outputs": [],
   "source": [
    "_values = []\n",
    "\n",
    "for i in range(1, len(tr_list)):\n",
    "    _val = [tr_list[i].find('th').get_text()]\n",
    "\n",
    "    td_list = tr_list[i].find_all('td')\n",
    "\n",
    "    for j in td_list:\n",
    "        data = j.get_text().strip()\n",
    "        _val.append(data)\n",
    "\n",
    "    _values.append(_val)\n",
    "\n",
    "_values"
   ]
  },
  {
   "cell_type": "code",
   "execution_count": null,
   "metadata": {},
   "outputs": [],
   "source": [
    "import pandas as pd"
   ]
  },
  {
   "cell_type": "code",
   "execution_count": null,
   "metadata": {},
   "outputs": [],
   "source": [
    "df = pd.DataFrame(_values)"
   ]
  },
  {
   "cell_type": "code",
   "execution_count": null,
   "metadata": {},
   "outputs": [],
   "source": [
    "df.columns = _cols"
   ]
  },
  {
   "cell_type": "code",
   "execution_count": null,
   "metadata": {},
   "outputs": [],
   "source": [
    "df"
   ]
  },
  {
   "cell_type": "code",
   "execution_count": null,
   "metadata": {},
   "outputs": [],
   "source": [
    "len(tables)"
   ]
  },
  {
   "cell_type": "code",
   "execution_count": null,
   "metadata": {},
   "outputs": [],
   "source": [
    "# 현재의 시간을 가지고 온다. \n",
    "from datetime import datetime"
   ]
  },
  {
   "cell_type": "code",
   "execution_count": null,
   "metadata": {},
   "outputs": [],
   "source": [
    "now = datetime.now()"
   ]
  },
  {
   "cell_type": "code",
   "execution_count": null,
   "metadata": {},
   "outputs": [],
   "source": [
    "date = now.strftime('%y/%m/%d %H:%M:%S')"
   ]
  },
  {
   "cell_type": "code",
   "execution_count": null,
   "metadata": {},
   "outputs": [],
   "source": [
    "for index in range(len(tables)):\n",
    "    now = datetime.now()\n",
    "    date = now.strftime('%y-%m-%d %H-%M-%S')\n",
    "    ## 컬럼에 들어갈 데이터를 만드는 구간\n",
    "    th_list = tables[index].find('tr').find_all('th')\n",
    "\n",
    "    _cols = []\n",
    "\n",
    "    for i in th_list:\n",
    "        _cols.append(i.get_text())\n",
    "    # print(_cols)\n",
    "        \n",
    "    tr_list = tables[index].find_all('tr')\n",
    "        \n",
    "    _values = []\n",
    "\n",
    "    for i in range(1, len(tr_list)):\n",
    "        _val = [tr_list[i].find('th').get_text()]\n",
    "\n",
    "        td_list = tr_list[i].find_all('td')\n",
    "\n",
    "        for j in td_list:\n",
    "            data = j.get_text().strip()\n",
    "            _val.append(data)\n",
    "\n",
    "        _values.append(_val)\n",
    "\n",
    "    # print(_values)\n",
    "    # 반복 실행 할때마다 다른 변수에 데이터를 저장\n",
    "    file_list = ['거래상위', '상승', '하락', '시가총액 상위']\n",
    "    globals()[f'df_{index}'] = pd.DataFrame(_values, columns=_cols)\n",
    "    pd.DataFrame(_values, columns=_cols).to_csv(\n",
    "        f'{file_list[index]}_{date}.csv')\n",
    "\n",
    "    "
   ]
  },
  {
   "cell_type": "code",
   "execution_count": null,
   "metadata": {},
   "outputs": [],
   "source": [
    "globals()['__name__']"
   ]
  },
  {
   "cell_type": "code",
   "execution_count": null,
   "metadata": {},
   "outputs": [],
   "source": [
    "df_3.sort_values('등락률', ascending=False)"
   ]
  },
  {
   "cell_type": "code",
   "execution_count": null,
   "metadata": {},
   "outputs": [],
   "source": [
    "df1 = df_3.copy()"
   ]
  },
  {
   "cell_type": "code",
   "execution_count": null,
   "metadata": {},
   "outputs": [],
   "source": [
    "# df1의 등락률데이터를 숫자로 변경\n",
    "# % 문자열이 삭제\n",
    "# df1['등락률'][0].replace(\"%\", \"\")\n",
    "df1['등락률'] = df1['등락률'].str.rstrip('%').astype('float')"
   ]
  },
  {
   "cell_type": "code",
   "execution_count": null,
   "metadata": {},
   "outputs": [],
   "source": [
    "df1.sort_values('등락률', ascending=False)"
   ]
  },
  {
   "cell_type": "code",
   "execution_count": 131,
   "metadata": {},
   "outputs": [],
   "source": [
    "df2 = df_3.copy()"
   ]
  },
  {
   "cell_type": "code",
   "execution_count": null,
   "metadata": {},
   "outputs": [],
   "source": [
    "# 등락률의 -, +를 파생변수 등락을 생성하여 [상승, 하락, 보합]\n"
   ]
  }
 ],
 "metadata": {
  "kernelspec": {
   "display_name": "Python 3",
   "language": "python",
   "name": "python3"
  },
  "language_info": {
   "codemirror_mode": {
    "name": "ipython",
    "version": 3
   },
   "file_extension": ".py",
   "mimetype": "text/x-python",
   "name": "python",
   "nbconvert_exporter": "python",
   "pygments_lexer": "ipython3",
   "version": "3.11.1"
  }
 },
 "nbformat": 4,
 "nbformat_minor": 2
}
