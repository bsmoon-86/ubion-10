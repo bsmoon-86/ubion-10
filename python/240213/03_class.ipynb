{
 "cells": [
  {
   "cell_type": "markdown",
   "metadata": {},
   "source": [
    "### Class 선언\n",
    "    - class 키워드를 이용하여 class 선언\n",
    "    - class 이름은 일반적으로 첫문자는 대문자로 표기\n",
    "### Class 생성\n",
    "    - 선언이 된 class를 변수에 저장하는 과정\n",
    "### Class의 변수와 함수를 호출\n",
    "    - class가 저장되어있는 변수 안에 변수, 함수를 호출"
   ]
  },
  {
   "cell_type": "code",
   "execution_count": 1,
   "metadata": {},
   "outputs": [],
   "source": [
    "## class 선언\n",
    "class Test:\n",
    "    # 생성자 함수 (__init__) : class가 생성될때 실행되는 함수\n",
    "    def __init__(self, _a, _b):\n",
    "        # 객체 변수(self변수)를 생성\n",
    "        self.a = _a\n",
    "        self.b = _b"
   ]
  },
  {
   "cell_type": "code",
   "execution_count": 2,
   "metadata": {},
   "outputs": [],
   "source": [
    "# class 생성\n",
    "class_1 = Test(10, 20)"
   ]
  },
  {
   "cell_type": "code",
   "execution_count": 3,
   "metadata": {},
   "outputs": [
    {
     "name": "stdout",
     "output_type": "stream",
     "text": [
      "10\n",
      "20\n"
     ]
    }
   ],
   "source": [
    "# class 안에 있는 변수를 호출\n",
    "print(class_1.a)\n",
    "print(class_1.b)"
   ]
  },
  {
   "cell_type": "code",
   "execution_count": 4,
   "metadata": {},
   "outputs": [],
   "source": [
    "class_2 = Test(30, 40)"
   ]
  },
  {
   "cell_type": "code",
   "execution_count": 5,
   "metadata": {},
   "outputs": [
    {
     "name": "stdout",
     "output_type": "stream",
     "text": [
      "10\n",
      "30\n"
     ]
    }
   ],
   "source": [
    "print(class_1.a)\n",
    "print(class_2.a)"
   ]
  },
  {
   "cell_type": "code",
   "execution_count": 6,
   "metadata": {},
   "outputs": [],
   "source": [
    "## class 선언 : 변수 + 함수\n",
    "class Test2:\n",
    "    def __init__(self, _a, _b):\n",
    "        self.a = _a\n",
    "        self.b = _b\n",
    "    \n",
    "    def add(self):\n",
    "        result = self.a + self.b\n",
    "        return result\n"
   ]
  },
  {
   "cell_type": "code",
   "execution_count": 7,
   "metadata": {},
   "outputs": [],
   "source": [
    "class_1 = Test2(10, 20)\n",
    "class_2 = Test2(30, 40)"
   ]
  },
  {
   "cell_type": "code",
   "execution_count": 8,
   "metadata": {},
   "outputs": [
    {
     "name": "stdout",
     "output_type": "stream",
     "text": [
      "30\n",
      "70\n"
     ]
    }
   ],
   "source": [
    "# class 안에 있는 함수를 호출 \n",
    "print(class_1.add())\n",
    "print(class_2.add())"
   ]
  },
  {
   "cell_type": "code",
   "execution_count": 9,
   "metadata": {},
   "outputs": [],
   "source": [
    "class Test3:\n",
    "    def __init__(self, _a, _b):\n",
    "        self.a = _a\n",
    "        self.b = _b\n",
    "        self.res = 0\n",
    "    ## 생성된 클래스를 호출할때 실행되는 함수\n",
    "    def __repr__(self):\n",
    "        return str(self.res)\n",
    "    \n",
    "    def add(self):\n",
    "        result = self.a + self.b\n",
    "        return result\n",
    "    \n",
    "    def sub(self):\n",
    "        result = self.a - self.b\n",
    "        self.res = result"
   ]
  },
  {
   "cell_type": "code",
   "execution_count": 10,
   "metadata": {},
   "outputs": [],
   "source": [
    "class_3 = Test3(10, 20)\n",
    "class_4 = Test3(30, 40)"
   ]
  },
  {
   "cell_type": "code",
   "execution_count": 12,
   "metadata": {},
   "outputs": [
    {
     "name": "stdout",
     "output_type": "stream",
     "text": [
      "<__main__.Test2 object at 0x0000026747F77990>\n",
      "0\n"
     ]
    }
   ],
   "source": [
    "print(class_2)\n",
    "print(class_3)"
   ]
  },
  {
   "cell_type": "code",
   "execution_count": 13,
   "metadata": {},
   "outputs": [
    {
     "name": "stdout",
     "output_type": "stream",
     "text": [
      "30\n",
      "70\n"
     ]
    }
   ],
   "source": [
    "print(class_3.add())\n",
    "print(class_4.add())"
   ]
  },
  {
   "cell_type": "code",
   "execution_count": 14,
   "metadata": {},
   "outputs": [
    {
     "name": "stdout",
     "output_type": "stream",
     "text": [
      "None\n",
      "None\n"
     ]
    }
   ],
   "source": [
    "print(class_3.sub())\n",
    "print(class_4.sub())"
   ]
  },
  {
   "cell_type": "code",
   "execution_count": 15,
   "metadata": {},
   "outputs": [
    {
     "name": "stdout",
     "output_type": "stream",
     "text": [
      "-10\n",
      "-10\n"
     ]
    }
   ],
   "source": [
    "print(class_3)\n",
    "print(class_4)"
   ]
  },
  {
   "cell_type": "code",
   "execution_count": 16,
   "metadata": {},
   "outputs": [
    {
     "data": {
      "text/plain": [
       "-10"
      ]
     },
     "execution_count": 16,
     "metadata": {},
     "output_type": "execute_result"
    }
   ],
   "source": [
    "class_3.res"
   ]
  },
  {
   "cell_type": "code",
   "execution_count": 17,
   "metadata": {},
   "outputs": [],
   "source": [
    "## 클래스 변수가 포함되어 있는 class 선언 \n",
    "## 클래스 변수 : 같은 class가 생성될때 서로 공유하는 변수 \n",
    "## 객체 변수 : class 마다 독립적인 데이터를 가지는 변수\n",
    "\n",
    "class Test4:\n",
    "    user_list = []\n",
    "\n",
    "    def __init__(self, _id, _name):\n",
    "        self.id = _id\n",
    "        self.name = _name\n",
    "        self.user_list.append(_id)\n"
   ]
  },
  {
   "cell_type": "code",
   "execution_count": 18,
   "metadata": {},
   "outputs": [],
   "source": [
    "user_1 = Test4('test', 'kim')\n"
   ]
  },
  {
   "cell_type": "code",
   "execution_count": 19,
   "metadata": {},
   "outputs": [
    {
     "name": "stdout",
     "output_type": "stream",
     "text": [
      "test\n",
      "kim\n",
      "['test']\n"
     ]
    }
   ],
   "source": [
    "print(user_1.id)\n",
    "print(user_1.name)\n",
    "print(user_1.user_list)"
   ]
  },
  {
   "cell_type": "code",
   "execution_count": 20,
   "metadata": {},
   "outputs": [],
   "source": [
    "user_2 = Test4('test2', 'park')"
   ]
  },
  {
   "cell_type": "code",
   "execution_count": 21,
   "metadata": {},
   "outputs": [
    {
     "name": "stdout",
     "output_type": "stream",
     "text": [
      "test2\n",
      "park\n",
      "['test', 'test2']\n"
     ]
    }
   ],
   "source": [
    "print(user_2.id)\n",
    "print(user_2.name)\n",
    "print(user_2.user_list)"
   ]
  },
  {
   "cell_type": "code",
   "execution_count": 22,
   "metadata": {},
   "outputs": [
    {
     "name": "stdout",
     "output_type": "stream",
     "text": [
      "['test', 'test2']\n"
     ]
    }
   ],
   "source": [
    "print(user_1.user_list)"
   ]
  }
 ],
 "metadata": {
  "kernelspec": {
   "display_name": "Python 3",
   "language": "python",
   "name": "python3"
  },
  "language_info": {
   "codemirror_mode": {
    "name": "ipython",
    "version": 3
   },
   "file_extension": ".py",
   "mimetype": "text/x-python",
   "name": "python",
   "nbconvert_exporter": "python",
   "pygments_lexer": "ipython3",
   "version": "3.11.1"
  }
 },
 "nbformat": 4,
 "nbformat_minor": 2
}
