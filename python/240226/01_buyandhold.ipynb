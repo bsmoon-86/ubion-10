{
 "cells": [
  {
   "cell_type": "markdown",
   "metadata": {},
   "source": [
    "### Buy and Hold\n",
    "1. 매수 후 일정 기간 동안 유지 매도"
   ]
  },
  {
   "cell_type": "code",
   "execution_count": null,
   "metadata": {},
   "outputs": [],
   "source": [
    "import pandas as pd"
   ]
  },
  {
   "cell_type": "code",
   "execution_count": null,
   "metadata": {},
   "outputs": [],
   "source": [
    "## csv 폴더 안에 있는 AAPL.csv 로드 \n",
    "df = pd.read_csv(\"../../csv/AAPL.csv\")\n",
    "df.head()"
   ]
  },
  {
   "cell_type": "code",
   "execution_count": null,
   "metadata": {},
   "outputs": [],
   "source": [
    "## Date 컬럼을 인덱스로 변경 \n",
    "df.set_index('Date', inplace=True)"
   ]
  },
  {
   "cell_type": "code",
   "execution_count": null,
   "metadata": {},
   "outputs": [],
   "source": [
    "df2 = pd.read_csv(\"../../csv/AAPL.csv\", index_col=0)\n",
    "df2.head()"
   ]
  },
  {
   "cell_type": "code",
   "execution_count": null,
   "metadata": {},
   "outputs": [],
   "source": [
    "## 데이터프레임의 정보를 확인 \n",
    "df.info()"
   ]
  },
  {
   "cell_type": "code",
   "execution_count": null,
   "metadata": {},
   "outputs": [],
   "source": [
    "# 결측치의 개수 확인 \n",
    "df.isna().sum()"
   ]
  },
  {
   "cell_type": "code",
   "execution_count": null,
   "metadata": {},
   "outputs": [],
   "source": [
    "# 데이터중 결측치가 포함된 인덱스를 확인 \n",
    "flag = df.isna().any(axis=1)"
   ]
  },
  {
   "cell_type": "code",
   "execution_count": null,
   "metadata": {},
   "outputs": [],
   "source": [
    "# 결측치가 포함된 데이터를 필터링 \n",
    "df.loc[flag, ]"
   ]
  },
  {
   "cell_type": "code",
   "execution_count": null,
   "metadata": {},
   "outputs": [],
   "source": [
    "# 결측치가 포함되지 않는 데이터를 필터링 \n",
    "df.loc[~flag, ]"
   ]
  },
  {
   "cell_type": "code",
   "execution_count": null,
   "metadata": {},
   "outputs": [],
   "source": [
    "import numpy as np"
   ]
  },
  {
   "cell_type": "code",
   "execution_count": null,
   "metadata": {},
   "outputs": [],
   "source": [
    "# 결측치, 무한대 값들은 제외한다. \n",
    "flag2 = df.isin([np.nan, np.inf, -np.inf]).any(axis=1)"
   ]
  },
  {
   "cell_type": "code",
   "execution_count": null,
   "metadata": {},
   "outputs": [],
   "source": [
    "df = df.loc[~flag2,]"
   ]
  },
  {
   "cell_type": "code",
   "execution_count": null,
   "metadata": {},
   "outputs": [],
   "source": [
    "## 특정 컬럼(Adj Close)을 제외하고 나머지 컬럼들은 모두 제거 \n",
    "AAPL = df[['Adj Close']]"
   ]
  },
  {
   "cell_type": "code",
   "execution_count": null,
   "metadata": {},
   "outputs": [],
   "source": [
    "## 일별 수익율 계산하여 새로운 파생변수에 대입 \n",
    "# 오늘의 수정주가 / 전날의 수정주가 -> price_AAPL 변수에 대입 \n",
    "# price_AAPL를 데이터프레임 daily_rtn 컬럼에 대입\n",
    "price_AAPL = AAPL['Adj Close'] / AAPL['Adj Close'].shift(1)\n",
    "AAPL['daily_rtn'] = price_AAPL.fillna(1)"
   ]
  },
  {
   "cell_type": "code",
   "execution_count": null,
   "metadata": {},
   "outputs": [],
   "source": [
    "AAPL.head()"
   ]
  },
  {
   "cell_type": "code",
   "execution_count": null,
   "metadata": {},
   "outputs": [],
   "source": [
    "# 수익율 계산 \n",
    "# 일별 수익율을 모두 누적곱 \n",
    "rtn = 1\n",
    "\n",
    "for i in range(len(AAPL)):\n",
    "    # i 가 의미하는것은? 인덱스(위치)\n",
    "    # print(AAPL.iloc[i,1])\n",
    "    rtn *= AAPL.iloc[i, 1]\n",
    "rtn"
   ]
  },
  {
   "cell_type": "code",
   "execution_count": null,
   "metadata": {},
   "outputs": [],
   "source": [
    "AAPL.iloc[-1, 0] / AAPL.iloc[0, 0]"
   ]
  },
  {
   "cell_type": "code",
   "execution_count": null,
   "metadata": {},
   "outputs": [],
   "source": [
    "## 일별 수익율 계산 (함수를 이용해서 )\n",
    "AAPL['daily_rtn2'] = (AAPL['Adj Close'].pct_change() + 1).fillna(1)"
   ]
  },
  {
   "cell_type": "code",
   "execution_count": null,
   "metadata": {},
   "outputs": [],
   "source": [
    "# 총 수익율 계산 \n",
    "## 일별 수익율을 누적곱\n",
    "AAPL['daily_rtn2'].cumprod()"
   ]
  },
  {
   "cell_type": "code",
   "execution_count": null,
   "metadata": {},
   "outputs": [],
   "source": [
    "AAPL.index"
   ]
  },
  {
   "cell_type": "code",
   "execution_count": null,
   "metadata": {},
   "outputs": [],
   "source": [
    "from datetime import datetime"
   ]
  },
  {
   "cell_type": "code",
   "execution_count": null,
   "metadata": {},
   "outputs": [],
   "source": [
    "## 문자형 데이터를 시계열 데이터로 변경 \n",
    "start = \"201806\"\n",
    "print(type(start))"
   ]
  },
  {
   "cell_type": "code",
   "execution_count": null,
   "metadata": {},
   "outputs": [],
   "source": [
    "start = datetime.strptime(start, '%Y%m')\n",
    "print(start)\n",
    "print(type(start))"
   ]
  },
  {
   "cell_type": "code",
   "execution_count": null,
   "metadata": {},
   "outputs": [],
   "source": [
    "# AAPL의 index를 시계열 데이터로 변환 \n",
    "datetime.strptime(AAPL.index[0], '%Y-%m-%d')"
   ]
  },
  {
   "cell_type": "code",
   "execution_count": null,
   "metadata": {},
   "outputs": [],
   "source": [
    "## 반복문을 이용해서 시계열로 변경 \n",
    "index_to_date = []\n",
    "\n",
    "for i in range(len(AAPL)):\n",
    "    date_data = datetime.strptime(AAPL.index[i], '%Y-%m-%d')\n",
    "    index_to_date.append(date_data)\n",
    "\n",
    "index_to_date"
   ]
  },
  {
   "cell_type": "code",
   "execution_count": null,
   "metadata": {},
   "outputs": [],
   "source": [
    "list(\n",
    "    map(\n",
    "        lambda x : datetime.strptime(x, '%Y-%m-%d'), \n",
    "        AAPL.index\n",
    "    )\n",
    ")"
   ]
  },
  {
   "cell_type": "code",
   "execution_count": null,
   "metadata": {},
   "outputs": [],
   "source": [
    "## pandas 내장 함수를 이용해서 시계열 데이터로 변환\n",
    "## to_datetime({1차원 데이터}, format = {데이터들의 형태})\n",
    "AAPL.index = pd.to_datetime(AAPL.index, format=\"%Y-%m-%d\")"
   ]
  },
  {
   "cell_type": "code",
   "execution_count": null,
   "metadata": {},
   "outputs": [],
   "source": [
    "## 매수의 일, 매도의 일 기준으로 데이터를 필터링 \n",
    "start = \"2007년01월01일\"\n",
    "end = \"2010년12월31일\"\n",
    "\n",
    "start = datetime.strptime(start, '%Y년%m월%d일')\n",
    "end = datetime.strptime(end, '%Y년%m월%d일')"
   ]
  },
  {
   "cell_type": "code",
   "execution_count": null,
   "metadata": {},
   "outputs": [],
   "source": [
    "price_df = AAPL.loc[ start : end,  ['Adj Close']]"
   ]
  },
  {
   "cell_type": "code",
   "execution_count": null,
   "metadata": {},
   "outputs": [],
   "source": [
    "## 일별 수익율 컬럼을 생성 \n",
    "daily_rtn = (price_df['Adj Close'] / price_df['Adj Close'].shift()).fillna(1)"
   ]
  },
  {
   "cell_type": "code",
   "execution_count": null,
   "metadata": {},
   "outputs": [],
   "source": [
    "price_df['daily_rtn'] = daily_rtn"
   ]
  },
  {
   "cell_type": "code",
   "execution_count": null,
   "metadata": {},
   "outputs": [],
   "source": [
    "price_df['daily_rtn2'] = (price_df['Adj Close'].pct_change() + 1).fillna(1)"
   ]
  },
  {
   "cell_type": "code",
   "execution_count": null,
   "metadata": {},
   "outputs": [],
   "source": [
    "## 누적 수익율 계산\n",
    "rtn = 1\n",
    "\n",
    "for i in range(len(price_df)):\n",
    "    rtn *= price_df.iloc[i, 1]\n",
    "\n",
    "rtn"
   ]
  },
  {
   "cell_type": "code",
   "execution_count": null,
   "metadata": {},
   "outputs": [],
   "source": [
    "price_df['rtn'] = price_df['daily_rtn2'].cumprod()"
   ]
  },
  {
   "cell_type": "code",
   "execution_count": null,
   "metadata": {},
   "outputs": [],
   "source": [
    "price_df.tail()"
   ]
  },
  {
   "cell_type": "code",
   "execution_count": null,
   "metadata": {},
   "outputs": [],
   "source": [
    "## Buy and Hold 함수화 \n",
    "## 매개변수는 데이터프레임, 기준이 되는 컬럼, 시작시간, 종료시간\n",
    "## 기준이 되는 컬럼은 기본값이 Adj Close\n",
    "## 시작시간은 2000-01-01을 기본값\n",
    "## 종료시간은 오늘 날짜가 기본값\n",
    "\n",
    "def buyandhold(\n",
    "        _df, \n",
    "        _col = 'Adj Close', \n",
    "        _start = '2010-01-01', \n",
    "        _end = datetime.now()):\n",
    "    try:\n",
    "        # _start 는 시계열 데이터로 변경 \n",
    "        start = datetime.strptime(_start, '%Y-%m-%d')\n",
    "        # _end는 문자형 데이터라면 시계열로 변경 \n",
    "        # 시계열 데이터라면 end 변수에 _end를 그대로 대입\n",
    "        if type(_end) == 'str':\n",
    "            end = datetime.strptime(_end, '%Y-%m-%d')\n",
    "        else:\n",
    "            end = _end\n",
    "    except:\n",
    "        return \"인자값의 타입이 잘못되었습니다.(예 : YYYY-mm-dd)\"\n",
    "    # _df의 복사본을 생성\n",
    "    df = _df.copy()\n",
    "    # print(start, end)\n",
    "    # 컬럼에 Date 포함되어있는가? \n",
    "    if 'Date' in df.columns:\n",
    "        # Date 컬럼을 인덱스로 변경 \n",
    "        df.set_index('Date', inplace=True)\n",
    "    # index를 시계열 데이터로 변경 \n",
    "    df.index = pd.to_datetime(df.index, format='%Y-%m-%d')\n",
    "    # 시간시간과 종료시간을 기준으로 필터\n",
    "    # 특정 컬럼의 데이터만 필터\n",
    "    result = df.loc[ start : end , [_col] ]\n",
    "    # 일별 수익율 컬럼을 생성 \n",
    "    result['daily_rtn'] = (result[_col].pct_change() + 1).fillna(1)\n",
    "    # 누적수익율을 계산하여 새로운 컬럼에 대입 \n",
    "    result['acc_rtn'] = result['daily_rtn'].cumprod()\n",
    "    acc_rtn = result.iloc[-1, 2]\n",
    "    return result, acc_rtn\n",
    "\n"
   ]
  },
  {
   "cell_type": "code",
   "execution_count": null,
   "metadata": {},
   "outputs": [],
   "source": [
    "df = pd.read_csv('../../csv/AMZN.csv')\n",
    "df2 = pd.read_csv(\"../../csv/GM.csv\", index_col='Date')"
   ]
  },
  {
   "cell_type": "code",
   "execution_count": null,
   "metadata": {},
   "outputs": [],
   "source": [
    "df.head(1)"
   ]
  },
  {
   "cell_type": "code",
   "execution_count": null,
   "metadata": {},
   "outputs": [],
   "source": [
    "df2.head(1)"
   ]
  },
  {
   "cell_type": "code",
   "execution_count": null,
   "metadata": {},
   "outputs": [],
   "source": [
    "buyandhold(df)"
   ]
  },
  {
   "cell_type": "code",
   "execution_count": null,
   "metadata": {},
   "outputs": [],
   "source": [
    "res, rtn = buyandhold(df2, _start='2010-01-01', _end='2015-12-31')"
   ]
  },
  {
   "cell_type": "code",
   "execution_count": null,
   "metadata": {},
   "outputs": [],
   "source": [
    "res"
   ]
  },
  {
   "cell_type": "code",
   "execution_count": null,
   "metadata": {},
   "outputs": [],
   "source": [
    "rtn"
   ]
  },
  {
   "cell_type": "code",
   "execution_count": 96,
   "metadata": {},
   "outputs": [],
   "source": [
    "import bnh"
   ]
  },
  {
   "cell_type": "code",
   "execution_count": 97,
   "metadata": {},
   "outputs": [],
   "source": [
    "df = pd.read_csv(\"../../csv/BND.csv\")"
   ]
  },
  {
   "cell_type": "code",
   "execution_count": 98,
   "metadata": {},
   "outputs": [
    {
     "data": {
      "text/plain": [
       "(            Adj Close  daily_rtn   acc_rtn\n",
       " Date                                      \n",
       " 2010-01-04  60.611969   1.000000  1.000000\n",
       " 2010-01-05  60.789135   1.002923  1.002923\n",
       " 2010-01-06  60.766037   0.999620  1.002542\n",
       " 2010-01-07  60.719822   0.999239  1.001779\n",
       " 2010-01-08  60.781410   1.001014  1.002796\n",
       " ...               ...        ...       ...\n",
       " 2019-06-18  82.397118   1.002306  1.359420\n",
       " 2019-06-19  82.676468   1.003390  1.364029\n",
       " 2019-06-20  82.806168   1.001569  1.366169\n",
       " 2019-06-21  82.576698   0.997229  1.362383\n",
       " 2019-06-24  82.726349   1.001812  1.364852\n",
       " \n",
       " [2384 rows x 3 columns],\n",
       " 1.3648517011549306)"
      ]
     },
     "execution_count": 98,
     "metadata": {},
     "output_type": "execute_result"
    }
   ],
   "source": [
    "bnh.buyandhold(df)"
   ]
  }
 ],
 "metadata": {
  "kernelspec": {
   "display_name": "Python 3",
   "language": "python",
   "name": "python3"
  },
  "language_info": {
   "codemirror_mode": {
    "name": "ipython",
    "version": 3
   },
   "file_extension": ".py",
   "mimetype": "text/x-python",
   "name": "python",
   "nbconvert_exporter": "python",
   "pygments_lexer": "ipython3",
   "version": "3.11.1"
  }
 },
 "nbformat": 4,
 "nbformat_minor": 2
}
