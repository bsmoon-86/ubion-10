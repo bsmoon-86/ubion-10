{
 "cells": [
  {
   "cell_type": "markdown",
   "metadata": {},
   "source": [
    "## 볼린저 밴드 투자 전략\n",
    "1. 이동 평균선 생성 : 데이터의 20개의 평균 값\n",
    "2. 상단 밴드 생성 : 이동 평균선 + (2 * 20개의 데이터의 표준편차)\n",
    "3. 하단 밴드 생성 : 이동 평균선 - (2 * 20개의 데이터의 표준편차)\n",
    "4. 가격이 하단 밴드보다 낮은 경우 매수\n",
    "5. 가격이 상단 밴드보다 높은 경우 매도"
   ]
  },
  {
   "cell_type": "code",
   "execution_count": null,
   "metadata": {},
   "outputs": [],
   "source": [
    "import pandas as pd\n",
    "import numpy as np\n",
    "import matplotlib.pyplot as plt\n",
    "from datetime import datetime"
   ]
  },
  {
   "cell_type": "code",
   "execution_count": null,
   "metadata": {},
   "outputs": [],
   "source": [
    "df = pd.read_csv('../../csv/AAPL.csv', index_col='Date')\n",
    "df.head(1)"
   ]
  },
  {
   "cell_type": "code",
   "execution_count": null,
   "metadata": {},
   "outputs": [],
   "source": [
    "# 결측치, 무한대 데이터를 제거 \n",
    "flag = df.isin([np.nan, np.inf, -np.inf]).any(axis=1)"
   ]
  },
  {
   "cell_type": "code",
   "execution_count": null,
   "metadata": {},
   "outputs": [],
   "source": [
    "df = df.loc[~flag, ['Adj Close']]"
   ]
  },
  {
   "cell_type": "code",
   "execution_count": null,
   "metadata": {},
   "outputs": [],
   "source": [
    "df.iloc[0:20, 0].mean()"
   ]
  },
  {
   "cell_type": "code",
   "execution_count": null,
   "metadata": {},
   "outputs": [],
   "source": [
    "## 이동평균선 컬럼을 생성 값들은 결측치로 대입\n",
    "df['center'] = np.nan"
   ]
  },
  {
   "cell_type": "code",
   "execution_count": null,
   "metadata": {},
   "outputs": [],
   "source": [
    "df.head(3)"
   ]
  },
  {
   "cell_type": "code",
   "execution_count": null,
   "metadata": {},
   "outputs": [],
   "source": [
    "for i in range(20,len(df)+1):\n",
    "    mean_data = df.iloc[i-20:i, 0].mean()\n",
    "    df.iloc[i-1, 1] = mean_data"
   ]
  },
  {
   "cell_type": "code",
   "execution_count": null,
   "metadata": {},
   "outputs": [],
   "source": [
    "df.iloc[18:23,]"
   ]
  },
  {
   "cell_type": "code",
   "execution_count": null,
   "metadata": {},
   "outputs": [],
   "source": [
    "## rolling(n) : n만큼 데이터의 개수를 그룹\n",
    "df['center2'] = df['Adj Close'].rolling(20).mean()"
   ]
  },
  {
   "cell_type": "code",
   "execution_count": null,
   "metadata": {},
   "outputs": [],
   "source": [
    "df.iloc[18:24]"
   ]
  },
  {
   "cell_type": "code",
   "execution_count": null,
   "metadata": {},
   "outputs": [],
   "source": [
    "# 상단 밴드, 하단 밴드 생성 \n",
    "# 상단 밴드 = 이동 평균선  + (2 * 20개 데이터의 표준편차)\n",
    "df['ub'] = \\\n",
    "    df['center'] + (2 * df['Adj Close'].rolling(20).std())\n",
    "# 하단 밴드 = 이동 평균선 - (2 * 20개의 데이터의 표준편차)\n",
    "df['lb'] = \\\n",
    "    df['center'] - (2 * df['Adj Close'].rolling(20).std())"
   ]
  },
  {
   "cell_type": "code",
   "execution_count": null,
   "metadata": {},
   "outputs": [],
   "source": [
    "df.iloc[18:23, ]"
   ]
  },
  {
   "cell_type": "code",
   "execution_count": null,
   "metadata": {},
   "outputs": [],
   "source": [
    "# index를 시계열로 변경\n",
    "df.index = pd.to_datetime(df.index, format='%Y-%m-%d')"
   ]
  },
  {
   "cell_type": "code",
   "execution_count": null,
   "metadata": {},
   "outputs": [],
   "source": [
    "x = df.tail(100).index\n",
    "price_y = df.tail(100)['Adj Close']\n",
    "ub_y = df.tail(100)['ub']\n",
    "lb_y = df.tail(100)['lb']\n",
    "\n",
    "plt.figure(figsize=(14, 8))\n",
    "plt.plot(x, price_y)\n",
    "plt.plot(x, ub_y)\n",
    "plt.plot(x, lb_y)\n",
    "plt.show()"
   ]
  },
  {
   "cell_type": "code",
   "execution_count": null,
   "metadata": {},
   "outputs": [],
   "source": [
    "df[['Adj Close', 'ub', 'lb']].plot()"
   ]
  },
  {
   "cell_type": "code",
   "execution_count": null,
   "metadata": {},
   "outputs": [],
   "source": [
    "# 투자 기간 선택 \n",
    "start = '2010-01-01'"
   ]
  },
  {
   "cell_type": "code",
   "execution_count": null,
   "metadata": {},
   "outputs": [],
   "source": [
    "# start는 시계열로 변경 \n",
    "start = datetime.strptime(start, '%Y-%m-%d')"
   ]
  },
  {
   "cell_type": "code",
   "execution_count": null,
   "metadata": {},
   "outputs": [],
   "source": [
    "test_df = df.loc[start:,]"
   ]
  },
  {
   "cell_type": "code",
   "execution_count": null,
   "metadata": {},
   "outputs": [],
   "source": [
    "test_df.tail()"
   ]
  },
  {
   "cell_type": "code",
   "execution_count": null,
   "metadata": {},
   "outputs": [],
   "source": [
    "# 구매 상태를 확인하는 컬럼을 생성 \n",
    "test_df['trade'] = \"\""
   ]
  },
  {
   "cell_type": "markdown",
   "metadata": {},
   "source": [
    "### 보유 내역 추가 \n",
    "- 조건식 \n",
    "    - 상단밴드보다 수정 주가가 높거나 같은 경우 \n",
    "        - 현재 보유상태라면 \n",
    "            - 매도 (trade = \"\")\n",
    "        - 보유 상태가 아니라면\n",
    "            - 유지 (trade = \"\")\n",
    "    - 상단밴드보다 낮고 하단밴드보다 높은 경우 \n",
    "        - 현재 보유 상태라면 \n",
    "            - 유지 (trade = \"buy\")\n",
    "        - 보유 상태가 아니라면\n",
    "            - 유지 (trade = \"\")\n",
    "    - 하단 밴드보다 낮거나 같은 경우\n",
    "        - 현재 보유 상태라면\n",
    "            - 유지 (trade = \"buy\")\n",
    "        - 보유 상태가 아니라면\n",
    "            - 매수 (trade = \"buy\")"
   ]
  },
  {
   "cell_type": "code",
   "execution_count": 48,
   "metadata": {},
   "outputs": [],
   "source": [
    "for i in test_df.index:\n",
    "    # i가 의미하는것은? test_df의 index 값\n",
    "    # print(i)\n",
    "    # 수정 주가가 상단밴드보다 높거나 같은 경우\n",
    "    if test_df.loc[i, 'Adj Close'] >=  test_df.loc[i, 'ub']:\n",
    "        # 현재 보유중이라면 -> trade를 \"\"로 변경\n",
    "        # 전날의 trade가 buy라면 -> 매도\n",
    "        if test_df.shift().loc[i, 'trade'] == 'buy':\n",
    "            test_df.loc[i, 'trade'] = \"\"\n",
    "        # 보유중이 아니라면\n",
    "        else:\n",
    "            test_df.loc[i, 'trade'] = \"\"\n",
    "    # 하단밴드보다 수정 주가가 낮거나 같은 경우 \n",
    "    elif test_df.loc[i, 'Adj Close'] <= test_df.loc[i, 'lb']:\n",
    "        # 현재 보유중이라면 -> trade를 \"buy\"로 변경\n",
    "        if test_df.shift().loc[i, 'trade'] == \"buy\":\n",
    "            test_df.loc[i, 'trade'] = \"buy\"\n",
    "        # 현재 보유중이 아니라면 -> 매수\n",
    "        else:\n",
    "            test_df.loc[i, 'trade'] = \"buy\"\n",
    "    # 수정 주가가 밴드 사이에 있을때 \n",
    "    else:\n",
    "        # 현재 보유 상태라면 -> 유지 trade를 \"buy\"\n",
    "        if test_df.shift().loc[i, 'trade'] == 'buy':\n",
    "            test_df.loc[i, 'trade'] = \"buy\"\n",
    "        # 보유 상태가 아니라면 -> 유지 trade를 \"\"\n",
    "        else:\n",
    "            test_df.loc[i, 'trade'] = \"\""
   ]
  },
  {
   "cell_type": "code",
   "execution_count": 49,
   "metadata": {},
   "outputs": [
    {
     "data": {
      "text/plain": [
       "trade\n",
       "       1439\n",
       "buy     945\n",
       "Name: count, dtype: int64"
      ]
     },
     "execution_count": 49,
     "metadata": {},
     "output_type": "execute_result"
    }
   ],
   "source": [
    "test_df['trade'].value_counts()"
   ]
  }
 ],
 "metadata": {
  "kernelspec": {
   "display_name": "Python 3",
   "language": "python",
   "name": "python3"
  },
  "language_info": {
   "codemirror_mode": {
    "name": "ipython",
    "version": 3
   },
   "file_extension": ".py",
   "mimetype": "text/x-python",
   "name": "python",
   "nbconvert_exporter": "python",
   "pygments_lexer": "ipython3",
   "version": "3.11.1"
  }
 },
 "nbformat": 4,
 "nbformat_minor": 2
}
