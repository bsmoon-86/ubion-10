{
 "cells": [
  {
   "cell_type": "markdown",
   "metadata": {},
   "source": [
    "## 볼린저 밴드 투자 전략\n",
    "1. 이동 평균선 생성 : 데이터의 20개의 평균 값\n",
    "2. 상단 밴드 생성 : 이동 평균선 + (2 * 20개의 데이터의 표준편차)\n",
    "3. 하단 밴드 생성 : 이동 평균선 - (2 * 20개의 데이터의 표준편차)\n",
    "4. 가격이 하단 밴드보다 낮은 경우 매수\n",
    "5. 가격이 상단 밴드보다 높은 경우 매도"
   ]
  },
  {
   "cell_type": "code",
   "execution_count": null,
   "metadata": {},
   "outputs": [],
   "source": [
    "import pandas as pd\n",
    "import numpy as np\n",
    "import matplotlib.pyplot as plt\n",
    "from datetime import datetime"
   ]
  },
  {
   "cell_type": "code",
   "execution_count": null,
   "metadata": {},
   "outputs": [],
   "source": [
    "df = pd.read_csv('../../csv/AAPL.csv', index_col='Date')\n",
    "df.head(1)"
   ]
  },
  {
   "cell_type": "code",
   "execution_count": null,
   "metadata": {},
   "outputs": [],
   "source": [
    "# 결측치, 무한대 데이터를 제거 \n",
    "flag = df.isin([np.nan, np.inf, -np.inf]).any(axis=1)"
   ]
  },
  {
   "cell_type": "code",
   "execution_count": null,
   "metadata": {},
   "outputs": [],
   "source": [
    "df = df.loc[~flag, ['Adj Close']]"
   ]
  },
  {
   "cell_type": "code",
   "execution_count": null,
   "metadata": {},
   "outputs": [],
   "source": [
    "df.iloc[0:20, 0].mean()"
   ]
  },
  {
   "cell_type": "code",
   "execution_count": null,
   "metadata": {},
   "outputs": [],
   "source": [
    "## 이동평균선 컬럼을 생성 값들은 결측치로 대입\n",
    "df['center'] = np.nan"
   ]
  },
  {
   "cell_type": "code",
   "execution_count": null,
   "metadata": {},
   "outputs": [],
   "source": [
    "df.head(3)"
   ]
  },
  {
   "cell_type": "code",
   "execution_count": null,
   "metadata": {},
   "outputs": [],
   "source": [
    "for i in range(20,len(df)+1):\n",
    "    mean_data = df.iloc[i-20:i, 0].mean()\n",
    "    df.iloc[i-1, 1] = mean_data"
   ]
  },
  {
   "cell_type": "code",
   "execution_count": null,
   "metadata": {},
   "outputs": [],
   "source": [
    "df.iloc[18:23,]"
   ]
  },
  {
   "cell_type": "code",
   "execution_count": null,
   "metadata": {},
   "outputs": [],
   "source": [
    "## rolling(n) : n만큼 데이터의 개수를 그룹\n",
    "df['center2'] = df['Adj Close'].rolling(20).mean()"
   ]
  },
  {
   "cell_type": "code",
   "execution_count": null,
   "metadata": {},
   "outputs": [],
   "source": [
    "df.iloc[18:24]"
   ]
  },
  {
   "cell_type": "code",
   "execution_count": null,
   "metadata": {},
   "outputs": [],
   "source": [
    "# 상단 밴드, 하단 밴드 생성 \n",
    "# 상단 밴드 = 이동 평균선  + (2 * 20개 데이터의 표준편차)\n",
    "df['ub'] = \\\n",
    "    df['center'] + (2 * df['Adj Close'].rolling(20).std())\n",
    "# 하단 밴드 = 이동 평균선 - (2 * 20개의 데이터의 표준편차)\n",
    "df['lb'] = \\\n",
    "    df['center'] - (2 * df['Adj Close'].rolling(20).std())"
   ]
  },
  {
   "cell_type": "code",
   "execution_count": null,
   "metadata": {},
   "outputs": [],
   "source": [
    "df.iloc[18:23, ]"
   ]
  },
  {
   "cell_type": "code",
   "execution_count": null,
   "metadata": {},
   "outputs": [],
   "source": [
    "# index를 시계열로 변경\n",
    "df.index = pd.to_datetime(df.index, format='%Y-%m-%d')"
   ]
  },
  {
   "cell_type": "code",
   "execution_count": null,
   "metadata": {},
   "outputs": [],
   "source": [
    "x = df.tail(100).index\n",
    "price_y = df.tail(100)['Adj Close']\n",
    "ub_y = df.tail(100)['ub']\n",
    "lb_y = df.tail(100)['lb']\n",
    "\n",
    "plt.figure(figsize=(14, 8))\n",
    "plt.plot(x, price_y)\n",
    "plt.plot(x, ub_y)\n",
    "plt.plot(x, lb_y)\n",
    "plt.show()"
   ]
  },
  {
   "cell_type": "code",
   "execution_count": null,
   "metadata": {},
   "outputs": [],
   "source": [
    "df[['Adj Close', 'ub', 'lb']].plot()"
   ]
  },
  {
   "cell_type": "code",
   "execution_count": null,
   "metadata": {},
   "outputs": [],
   "source": [
    "# 투자 기간 선택 \n",
    "start = '2010-01-01'"
   ]
  },
  {
   "cell_type": "code",
   "execution_count": null,
   "metadata": {},
   "outputs": [],
   "source": [
    "# start는 시계열로 변경 \n",
    "start = datetime.strptime(start, '%Y-%m-%d')"
   ]
  },
  {
   "cell_type": "code",
   "execution_count": null,
   "metadata": {},
   "outputs": [],
   "source": [
    "test_df = df.loc[start:,]"
   ]
  },
  {
   "cell_type": "code",
   "execution_count": null,
   "metadata": {},
   "outputs": [],
   "source": [
    "test_df.tail()"
   ]
  },
  {
   "cell_type": "code",
   "execution_count": null,
   "metadata": {},
   "outputs": [],
   "source": [
    "# 구매 상태를 확인하는 컬럼을 생성 \n",
    "test_df['trade'] = \"\""
   ]
  },
  {
   "cell_type": "markdown",
   "metadata": {},
   "source": [
    "### 보유 내역 추가 \n",
    "- 조건식 \n",
    "    - 상단밴드보다 수정 주가가 높거나 같은 경우 \n",
    "        - 현재 보유상태라면 \n",
    "            - 매도 (trade = \"\")\n",
    "        - 보유 상태가 아니라면\n",
    "            - 유지 (trade = \"\")\n",
    "    - 상단밴드보다 낮고 하단밴드보다 높은 경우 \n",
    "        - 현재 보유 상태라면 \n",
    "            - 유지 (trade = \"buy\")\n",
    "        - 보유 상태가 아니라면\n",
    "            - 유지 (trade = \"\")\n",
    "    - 하단 밴드보다 낮거나 같은 경우\n",
    "        - 현재 보유 상태라면\n",
    "            - 유지 (trade = \"buy\")\n",
    "        - 보유 상태가 아니라면\n",
    "            - 매수 (trade = \"buy\")"
   ]
  },
  {
   "cell_type": "code",
   "execution_count": null,
   "metadata": {},
   "outputs": [],
   "source": [
    "for i in test_df.index:\n",
    "    # i가 의미하는것은? test_df의 index 값\n",
    "    # print(i)\n",
    "    # 수정 주가가 상단밴드보다 높거나 같은 경우\n",
    "    if test_df.loc[i, 'Adj Close'] >=  test_df.loc[i, 'ub']:\n",
    "        # 현재 보유중이라면 -> trade를 \"\"로 변경\n",
    "        # 전날의 trade가 buy라면 -> 매도\n",
    "        if test_df.shift().loc[i, 'trade'] == 'buy':\n",
    "            test_df.loc[i, 'trade'] = \"\"\n",
    "        # 보유중이 아니라면\n",
    "        else:\n",
    "            test_df.loc[i, 'trade'] = \"\"\n",
    "    # 하단밴드보다 수정 주가가 낮거나 같은 경우 \n",
    "    elif test_df.loc[i, 'Adj Close'] <= test_df.loc[i, 'lb']:\n",
    "        # 현재 보유중이라면 -> trade를 \"buy\"로 변경\n",
    "        if test_df.shift().loc[i, 'trade'] == \"buy\":\n",
    "            test_df.loc[i, 'trade'] = \"buy\"\n",
    "        # 현재 보유중이 아니라면 -> 매수\n",
    "        else:\n",
    "            test_df.loc[i, 'trade'] = \"buy\"\n",
    "    # 수정 주가가 밴드 사이에 있을때 \n",
    "    else:\n",
    "        # 현재 보유 상태라면 -> 유지 trade를 \"buy\"\n",
    "        if test_df.shift().loc[i, 'trade'] == 'buy':\n",
    "            test_df.loc[i, 'trade'] = \"buy\"\n",
    "        # 보유 상태가 아니라면 -> 유지 trade를 \"\"\n",
    "        else:\n",
    "            test_df.loc[i, 'trade'] = \"\""
   ]
  },
  {
   "cell_type": "code",
   "execution_count": null,
   "metadata": {},
   "outputs": [],
   "source": [
    "test_df['trade'].value_counts()"
   ]
  },
  {
   "cell_type": "markdown",
   "metadata": {},
   "source": [
    "### 수익율 계산\n",
    "- 구매한 날의 수정 주가 \n",
    "    - 전날의 trade = \"\" 오늘의  trade = \"buy\"인 날의 수정 주가 \n",
    "- 판매한 날의 수정 주가 \n",
    "    - 전날의 trade = \"buy\" 오늘의 trade = \"\"인 날의 수정 주가 \n",
    "- 수익율\n",
    "    - 판매한 날의 수정주가 / 구매한 날의 수정주가 "
   ]
  },
  {
   "cell_type": "code",
   "execution_count": null,
   "metadata": {},
   "outputs": [],
   "source": [
    "# 수익율 파생 변수를 생성 \n",
    "test_df['rtn'] = 1\n",
    "\n",
    "for i in test_df.index:\n",
    "    # 구매가 생성 \n",
    "    if (test_df.shift().loc[i, 'trade'] == \"\") & \\\n",
    "        (test_df.loc[i, 'trade'] == \"buy\"):\n",
    "        buy = test_df.loc[i, 'Adj Close']\n",
    "        print(f\"매수일 : {i}, 매수가 : {buy}\")\n",
    "    # 판매가 생성\n",
    "    elif (test_df.shift().loc[i, 'trade'] == \"buy\") & \\\n",
    "        (test_df.loc[i, 'trade'] == \"\"):\n",
    "        sell = test_df.loc[i, 'Adj Close']\n",
    "        # 수익율 계산\n",
    "        rtn = sell / buy\n",
    "        # 계산 된 수익율을 test_df에 rtn 컬럼에 대입\n",
    "        test_df.loc[i, 'rtn'] = rtn\n",
    "        print(f\"매도일 : {i}, 매도가 : {sell}, 수익율 : {rtn}\")"
   ]
  },
  {
   "cell_type": "code",
   "execution_count": null,
   "metadata": {},
   "outputs": [],
   "source": [
    "acc_rtn = 1\n",
    "\n",
    "for i in test_df.index:\n",
    "    rtn = test_df.loc[i, 'rtn']\n",
    "    acc_rtn *= rtn\n",
    "\n",
    "acc_rtn\n"
   ]
  },
  {
   "cell_type": "code",
   "execution_count": null,
   "metadata": {},
   "outputs": [],
   "source": [
    "test_df['acc_rtn'] = test_df['rtn'].cumprod()"
   ]
  },
  {
   "cell_type": "code",
   "execution_count": null,
   "metadata": {},
   "outputs": [],
   "source": [
    "test_df.iloc[-1,]['acc_rtn']"
   ]
  },
  {
   "cell_type": "markdown",
   "metadata": {},
   "source": [
    "### 볼린저 밴드의 함수화 \n",
    "1. 밴드를 생성하는 함수 \n",
    "    - 매개변수 4개 (데이터프레임, 기준되는 컬럼명, 시작시간, 종료시간, 데이터의 개수)\n",
    "    - 기준이 되는 컬럼은 기본값을 Adj Close\n",
    "    - 시작시간은 기본값 2010-01-01 \n",
    "    - 종료시간은 기본값 \"\"\n",
    "    - 데이터의 개수는 기본값은 20\n",
    "    - 인덱스가 Date인지 확인하여 아니라면 Date를 인덱스로 변경 \n",
    "    - 인덱스를 시계열 데이터로 변경 \n",
    "    - 시작시간, 종료시간을 시계열 데이터로 변경 \n",
    "    - 결측치, 무한대 값을 제외 \n",
    "    - 기준이되는 컬럼을 제외하고 모두 삭제 \n",
    "    - 이동 평균선, 상단밴드, 하단밴드 생성\n",
    "    - 시작시간, 종료시간으로 데이터 필터 \n",
    "    - 위의 과정에서 나온 데이터프레임을 리턴"
   ]
  },
  {
   "cell_type": "code",
   "execution_count": null,
   "metadata": {},
   "outputs": [],
   "source": [
    "def create_band(\n",
    "        _df, \n",
    "        _col = 'Adj Close', \n",
    "        _start = \"2010-01-01\", \n",
    "        _end = datetime.now(), \n",
    "        _cnt = 20):\n",
    "        #복사본 생성\n",
    "        df = _df.copy()\n",
    "        # 인덱스가 Date 인가?\n",
    "        if 'Date' in df.columns:\n",
    "                df.set_index('Date', inplace=True)\n",
    "\n",
    "        # index를 시계열 데이터로 변경\n",
    "        df.index = pd.to_datetime(df.index, format='%Y-%m-%d')\n",
    "        # 시작시간과 종료 시간은 시계열로 변경 \n",
    "        try:\n",
    "                start = datetime.strptime(_start, '%Y-%m-%d')\n",
    "                if type(_end) == \"str\":\n",
    "                        end = datetime.strptime(_end, '%Y-%m-%d')\n",
    "                else:\n",
    "                        end = _end\n",
    "        except:\n",
    "                return \"인자값의 타입이 잘못되었습니다.(예 : YYYY-mm-dd)\"\n",
    "        # 결측치와 무한대 값을 제외\n",
    "        flag = df.isin([np.nan, np.inf, -np.inf]).any(axis=1)\n",
    "        df = df.loc[~flag,]\n",
    "        # 기준이 되는 컬럼을 제외하고 모두 삭제 \n",
    "        result = df[[_col]]\n",
    "        # 이동 평균선, 상단밴드, 하단밴드 생성\n",
    "        result['center'] = result[_col].rolling(_cnt).mean()\n",
    "        result['ub'] = result['center'] + (2 * result[_col].rolling(_cnt).std())\n",
    "        result['lb'] = result['center'] - (2 * result[_col].rolling(_cnt).std())\n",
    "        # 시작 시간과 종료시간으로 필터링\n",
    "        result = result.loc[start:end,]\n",
    "        return result\n",
    "        "
   ]
  },
  {
   "cell_type": "code",
   "execution_count": null,
   "metadata": {},
   "outputs": [],
   "source": [
    "df = pd.read_csv(\"../../csv/AMZN.csv\")"
   ]
  },
  {
   "cell_type": "code",
   "execution_count": null,
   "metadata": {},
   "outputs": [],
   "source": [
    "band_df = create_band(df)"
   ]
  },
  {
   "cell_type": "code",
   "execution_count": null,
   "metadata": {},
   "outputs": [],
   "source": [
    "band_df.head()"
   ]
  },
  {
   "cell_type": "markdown",
   "metadata": {},
   "source": [
    "- 트레이드 컬럼을 생성하는 함수 \n",
    "    - 매개변수 1개 -> 1번 함수에서 생성된 데이터프레임 인자 값으로 받아온다. \n",
    "    - trade 컬럼을 생성하여 값들은 \"\" 대입 \n",
    "    - 밴드들을 이용하여 보유 상태를 대입 \n",
    "    - 결과값을 리턴"
   ]
  },
  {
   "cell_type": "code",
   "execution_count": 65,
   "metadata": {},
   "outputs": [],
   "source": [
    "def create_trade(_df):\n",
    "    # 기준이 되는 컬럼의 이름 변수에 저장\n",
    "    col = _df.columns[0]\n",
    "\n",
    "    df = _df.copy()\n",
    "\n",
    "    # 거래 내역이라는 컬럼을 생성\n",
    "    df['trade'] = \"\"\n",
    "\n",
    "    # 거래 내역 추가 \n",
    "    for i in df.index:\n",
    "        # 상단밴드보다 기준이 되는 컬럼의 값이 높거나 같은 경우 \n",
    "        if df.loc[i, col] >= df.loc[i, 'ub']:\n",
    "            df.loc[i, 'trade'] = \"\"\n",
    "        # 하단밴드보다 col의 값이 작거나 같은 경우\n",
    "        elif df.loc[i, col] <= df.loc[i, 'lb']:\n",
    "            df.loc[i, 'trade'] = \"buy\"\n",
    "        # 밴드 사이에 col의 값이 존재한다면\n",
    "        else:\n",
    "            df.loc[i, 'trade'] = df.shift().loc[i, 'trade']\n",
    "    return df"
   ]
  },
  {
   "cell_type": "code",
   "execution_count": 66,
   "metadata": {},
   "outputs": [],
   "source": [
    "trade_df = create_trade(band_df)"
   ]
  },
  {
   "cell_type": "code",
   "execution_count": 67,
   "metadata": {},
   "outputs": [
    {
     "data": {
      "text/plain": [
       "trade\n",
       "       1483\n",
       "buy     863\n",
       "Name: count, dtype: int64"
      ]
     },
     "execution_count": 67,
     "metadata": {},
     "output_type": "execute_result"
    }
   ],
   "source": [
    "trade_df['trade'].value_counts()"
   ]
  },
  {
   "cell_type": "code",
   "execution_count": 1,
   "metadata": {},
   "outputs": [],
   "source": [
    "# 세번째 함수 생성 \n",
    "def create_rtn(_df):\n",
    "    # 기준이 되는 컬럼의 이름 \n",
    "    col = _df.columns[0]\n",
    "    df = _df.copy()\n",
    "    # 수익율 파생변수 생성 데이터는 1로 대입\n",
    "    df['rtn'] = 1\n",
    "\n",
    "    # 수익율 대입 \n",
    "    for i in df.index:\n",
    "        # 구입\n",
    "        if (df.shift().loc[i, 'trade'] == \"\") & \\\n",
    "            (df.loc[i, 'trade'] == \"buy\"):\n",
    "            buy = df.loc[i, col]\n",
    "            print(f'매수일 : {i}, 매수가 : {buy}')\n",
    "        # 판매\n",
    "        elif (df.shift().loc[i, 'trade'] == \"buy\") & \\\n",
    "            (df.loc[i, 'trade'] == \"\"):\n",
    "            sell = df.loc[i, col]\n",
    "            # 수익율 발생\n",
    "            rtn = sell / buy\n",
    "            # 수익율 대입 \n",
    "            df.loc[i, 'rtn'] = rtn\n",
    "            # 출력 \n",
    "            print(f'매도일 : {i}, 매도가 : {sell}, 수익율 : {rtn}')\n",
    "    df['acc_rtn'] = df['rtn'].cumprod()\n",
    "    # 최종 누적수익율을 출력\n",
    "    acc_rtn = df['acc_rtn'][-1]\n",
    "    return df, acc_rtn"
   ]
  },
  {
   "cell_type": "code",
   "execution_count": null,
   "metadata": {},
   "outputs": [],
   "source": []
  }
 ],
 "metadata": {
  "kernelspec": {
   "display_name": "Python 3",
   "language": "python",
   "name": "python3"
  },
  "language_info": {
   "codemirror_mode": {
    "name": "ipython",
    "version": 3
   },
   "file_extension": ".py",
   "mimetype": "text/x-python",
   "name": "python",
   "nbconvert_exporter": "python",
   "pygments_lexer": "ipython3",
   "version": "3.11.1"
  }
 },
 "nbformat": 4,
 "nbformat_minor": 2
}
