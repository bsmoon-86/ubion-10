{
 "cells": [
  {
   "cell_type": "code",
   "execution_count": 1,
   "metadata": {},
   "outputs": [],
   "source": [
    "from datetime import datetime"
   ]
  },
  {
   "cell_type": "code",
   "execution_count": 2,
   "metadata": {},
   "outputs": [],
   "source": [
    "time_data  = \"2024-02-19\""
   ]
  },
  {
   "cell_type": "code",
   "execution_count": 4,
   "metadata": {},
   "outputs": [],
   "source": [
    "## 문자열을 시계열 데이터로 변경\n",
    "time = datetime.strptime(time_data, '%Y-%m-%d')"
   ]
  },
  {
   "cell_type": "code",
   "execution_count": 5,
   "metadata": {},
   "outputs": [
    {
     "name": "stdout",
     "output_type": "stream",
     "text": [
      "<class 'str'>\n",
      "<class 'datetime.datetime'>\n"
     ]
    }
   ],
   "source": [
    "print(type(time_data))\n",
    "print(type(time))"
   ]
  },
  {
   "cell_type": "code",
   "execution_count": 7,
   "metadata": {},
   "outputs": [
    {
     "data": {
      "text/plain": [
       "'1'"
      ]
     },
     "execution_count": 7,
     "metadata": {},
     "output_type": "execute_result"
    }
   ],
   "source": [
    "## 시계열에서 특정 부분을 추출하여 문자열로 변환\n",
    "time.strftime('%w')"
   ]
  },
  {
   "cell_type": "markdown",
   "metadata": {},
   "source": [
    "### datetime에서 사용되는 format\n",
    "- %Y : 년도를 전체 표시 (2024)\n",
    "- %y : 년도를 축약해서 표시 (24)\n",
    "- %b : 축약된 월의 이름 (Mar)\n",
    "- %B : 월의 이름 (March)\n",
    "- %m : 월을 숫자로 표시 (02)\n",
    "- %d : 일을 숫자로 표시 (19)\n",
    "- %H : 24시를 기준으로 시를 표시 \n",
    "- %I : 12시를 기준으로 시를 표시 \n",
    "- %p : AM/PM을 표시 \n",
    "- %M : 분을 표시 \n",
    "- %S : 초를 표시 \n",
    "- %a : 요일의 이름을 축약해서 표시 (Mon)\n",
    "- %A : 요일의 이름을 표시 (Monday)\n",
    "- %w : 요일을 숫자로 표시 (0 : 일, ..., 6 : 토)"
   ]
  }
 ],
 "metadata": {
  "kernelspec": {
   "display_name": "Python 3",
   "language": "python",
   "name": "python3"
  },
  "language_info": {
   "codemirror_mode": {
    "name": "ipython",
    "version": 3
   },
   "file_extension": ".py",
   "mimetype": "text/x-python",
   "name": "python",
   "nbconvert_exporter": "python",
   "pygments_lexer": "ipython3",
   "version": "3.11.1"
  }
 },
 "nbformat": 4,
 "nbformat_minor": 2
}
