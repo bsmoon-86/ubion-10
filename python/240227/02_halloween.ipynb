{
 "cells": [
  {
   "cell_type": "markdown",
   "metadata": {},
   "source": [
    "#### 할로윈 투자 전략\n",
    "1. 11월 첫날에 매수 -> 4월 마지막날에 매도\n",
    "2. 11월 첫날의 가격의 시가로 매수 \n",
    "3. 4월 말일에 종가로 매도 \n",
    "4. 수익율 계산 -> 매도가 / 매수가\n",
    "5. 누적수익율 계산"
   ]
  },
  {
   "cell_type": "code",
   "execution_count": null,
   "metadata": {},
   "outputs": [],
   "source": [
    "from datetime import datetime \n",
    "import pandas as pd\n",
    "from dateutil.relativedelta import relativedelta"
   ]
  },
  {
   "cell_type": "code",
   "execution_count": null,
   "metadata": {},
   "outputs": [],
   "source": [
    "# 데이터 로드 \n",
    "df = pd.read_csv(\"../../csv/AMZN.csv\", index_col='Date')"
   ]
  },
  {
   "cell_type": "code",
   "execution_count": null,
   "metadata": {},
   "outputs": [],
   "source": [
    "df.head(1)"
   ]
  },
  {
   "cell_type": "code",
   "execution_count": null,
   "metadata": {},
   "outputs": [],
   "source": [
    "# 인덱스를 시계열 데이터로 변경 \n",
    "df.index = pd.to_datetime(df.index, format='%Y-%m-%d')"
   ]
  },
  {
   "cell_type": "code",
   "execution_count": null,
   "metadata": {},
   "outputs": [],
   "source": [
    "# 2000년 11월 데이터를 출력하려면?\n",
    "df.loc['2000-11',].iloc[0,0]"
   ]
  },
  {
   "cell_type": "code",
   "execution_count": null,
   "metadata": {},
   "outputs": [],
   "source": [
    "df.loc['2000-11',].head(1)"
   ]
  },
  {
   "cell_type": "code",
   "execution_count": null,
   "metadata": {},
   "outputs": [],
   "source": [
    "df.loc['2001-04',].tail(1)"
   ]
  },
  {
   "cell_type": "code",
   "execution_count": null,
   "metadata": {},
   "outputs": [],
   "source": [
    "df.loc['2000-11', 'Open'][0]"
   ]
  },
  {
   "cell_type": "code",
   "execution_count": null,
   "metadata": {},
   "outputs": [],
   "source": [
    "df.loc['2001-04','Close'][-1]"
   ]
  },
  {
   "cell_type": "code",
   "execution_count": null,
   "metadata": {},
   "outputs": [],
   "source": [
    "## 2000년부터 2010년까지 할로윈 투자 데이터를 추출 \n",
    "\n",
    "# 비어있는 데이터프레임을 생성 \n",
    "price_df = pd.DataFrame()\n",
    "\n",
    "for i in range(2000, 2010, 1):\n",
    "    # 구매하는 달을 문자열로 변수 생성\n",
    "    buy_mon = f\"{i}-11\"             ## 2000-11, 2001-11, 2002-11, ...\n",
    "    sell_mon = str(i+1) + \"-04\"     ## 2001-04, 2002-04, 2003-04, ...\n",
    "    # buy_mon에 조건식이 참인 데이터에서 첫날의 데이터만 추출\n",
    "    buy = df.loc[buy_mon, ].head(1)\n",
    "    sell = df.loc[sell_mon, ].tail(1)\n",
    "    # price_df와 buy를 결합 ( 단순한 행 결합 -> 유니언 결합 )\n",
    "    # concat( {결합한 데이터프레임들을 리스트}, axis={0|1}, ignore_index={bool} )\n",
    "    price_df = pd.concat([price_df, buy, sell], axis=0)"
   ]
  },
  {
   "cell_type": "code",
   "execution_count": null,
   "metadata": {},
   "outputs": [],
   "source": [
    "price_df = price_df[['Open', 'Close']]"
   ]
  },
  {
   "cell_type": "code",
   "execution_count": null,
   "metadata": {},
   "outputs": [],
   "source": [
    "# 수익율 컬럼을 생성해서 1을 대입 \n",
    "price_df['rtn'] = 1"
   ]
  },
  {
   "cell_type": "code",
   "execution_count": null,
   "metadata": {},
   "outputs": [],
   "source": [
    "# 위치의 값이 홀수인 경우 수익율을 계산\n",
    "for i in range(len(price_df)):\n",
    "    # 홀수인 조건 \n",
    "    if i % 2 == 1:\n",
    "        rtn = price_df.iloc[i,]['Close'] / price_df.iloc[i-1, ]['Open']\n",
    "        price_df.iloc[i,2] = rtn"
   ]
  },
  {
   "cell_type": "code",
   "execution_count": null,
   "metadata": {},
   "outputs": [],
   "source": [
    "price_df"
   ]
  },
  {
   "cell_type": "code",
   "execution_count": null,
   "metadata": {},
   "outputs": [],
   "source": [
    "price_df['rtn2'] = 1"
   ]
  },
  {
   "cell_type": "code",
   "execution_count": null,
   "metadata": {},
   "outputs": [],
   "source": [
    "for i in range(1, len(price_df), 2):\n",
    "    rtn = price_df.iloc[i,]['Close'] / price_df.iloc[i-1,]['Open']\n",
    "    price_df.iloc[i, 3] = rtn"
   ]
  },
  {
   "cell_type": "code",
   "execution_count": null,
   "metadata": {},
   "outputs": [],
   "source": [
    "price_df"
   ]
  },
  {
   "cell_type": "code",
   "execution_count": null,
   "metadata": {},
   "outputs": [],
   "source": [
    "price_df['rtn3'] = 1"
   ]
  },
  {
   "cell_type": "code",
   "execution_count": null,
   "metadata": {},
   "outputs": [],
   "source": [
    "# 데이터중 4월의 데이터만 추출 \n",
    "flag = price_df.index.month == 4"
   ]
  },
  {
   "cell_type": "code",
   "execution_count": null,
   "metadata": {},
   "outputs": [],
   "source": [
    "for i in price_df.index:\n",
    "    # i가 의미하는것은? -> 인덱스 데이터\n",
    "    if i.month == 4:\n",
    "        rtn = price_df.loc[i, 'Close'] / price_df.shift().loc[i, 'Open']\n",
    "        price_df.loc[i, 'rtn3'] = rtn\n"
   ]
  },
  {
   "cell_type": "code",
   "execution_count": null,
   "metadata": {},
   "outputs": [],
   "source": [
    "price_df"
   ]
  },
  {
   "cell_type": "code",
   "execution_count": null,
   "metadata": {},
   "outputs": [],
   "source": [
    "price_df['rtn'].cumprod()"
   ]
  },
  {
   "cell_type": "code",
   "execution_count": null,
   "metadata": {},
   "outputs": [],
   "source": [
    "start = datetime(year=2000, month=11, day=1)\n",
    "start"
   ]
  },
  {
   "cell_type": "code",
   "execution_count": null,
   "metadata": {},
   "outputs": [],
   "source": [
    "# 시작일로부터 5개월 뒤 \n",
    "end = start + relativedelta(months=5)"
   ]
  },
  {
   "cell_type": "code",
   "execution_count": null,
   "metadata": {},
   "outputs": [],
   "source": [
    "start = start.strftime(\"%Y-%m\")\n",
    "start"
   ]
  },
  {
   "cell_type": "code",
   "execution_count": null,
   "metadata": {},
   "outputs": [],
   "source": [
    "end = end.strftime('%Y-%m')\n",
    "end"
   ]
  },
  {
   "cell_type": "markdown",
   "metadata": {},
   "source": [
    "### 할로윈 투자 전략을 함수화\n",
    "- 매개변수 4개 : 데이터프레임, 시작년도, 종료년도, 시작월\n",
    "    - 시작년도는 기본값이 2000\n",
    "    - 종료년도는 기본값이 2010\n",
    "    - 시작월은 기본값이 11\n",
    "- 컬럼에 Date가 존재하는가?\n",
    "    - 존재한다면 Date를 인덱스로 변경\n",
    "- index를 시계열 데이터로 변환 "
   ]
  },
  {
   "cell_type": "code",
   "execution_count": null,
   "metadata": {},
   "outputs": [],
   "source": [
    "## 할로윈 전략을 함수화 \n",
    "def six_month(_df, \n",
    "              _start = 2000, \n",
    "              _end = datetime.now().year, \n",
    "              _month = 11):\n",
    "    df = _df.copy()\n",
    "    if 'Date' in df.columns:\n",
    "        df.set_index('Date', inplace=True) \n",
    "    df.index = pd.to_datetime(df.index, format='%Y-%m-%d')\n",
    "    df = df[['Open', 'Close']]\n",
    "    # 비어있는 데이터프레임 생성\n",
    "    result = pd.DataFrame()\n",
    "    for i in range(_start, _end):\n",
    "        start = datetime(year = i, month=_month, day=1)\n",
    "        end = start + relativedelta(months=5)\n",
    "        buy_mon = start.strftime('%Y-%m')\n",
    "        sell_mon = end.strftime('%Y-%m')\n",
    "        try:\n",
    "            buy = df.loc[buy_mon,].head(1)\n",
    "            sell = df.loc[sell_mon, ].tail(1)\n",
    "            \n",
    "            result = pd.concat([result, buy, sell], axis=0)\n",
    "        except:\n",
    "            break\n",
    "    # 수익율 계산\n",
    "    result['rtn'] = 1\n",
    "    for i in range(1,len(result),2):\n",
    "        rtn = result.iloc[i,]['Close'] / result.iloc[i-1,]['Open']\n",
    "        result.iloc[i, 2] = rtn\n",
    "    # 누적 수익율을 계산\n",
    "    result['acc_rtn'] = result['rtn'].cumprod()\n",
    "    # 총 누적수익율을 변수에 저장\n",
    "    acc_rtn = result.iloc[-1,]['acc_rtn']\n",
    "    return result, acc_rtn\n"
   ]
  },
  {
   "cell_type": "code",
   "execution_count": null,
   "metadata": {},
   "outputs": [],
   "source": [
    "df = pd.read_csv('../../csv/AMZN.csv')"
   ]
  },
  {
   "cell_type": "code",
   "execution_count": null,
   "metadata": {},
   "outputs": [],
   "source": [
    "six_month(df)"
   ]
  },
  {
   "cell_type": "code",
   "execution_count": null,
   "metadata": {},
   "outputs": [],
   "source": [
    "# 야후파이낸스 라이브러리 설치 \n",
    "!pip install yfinance"
   ]
  },
  {
   "cell_type": "code",
   "execution_count": null,
   "metadata": {},
   "outputs": [],
   "source": [
    "import yfinance as yf"
   ]
  },
  {
   "cell_type": "code",
   "execution_count": null,
   "metadata": {},
   "outputs": [],
   "source": [
    "aapl = yf.download('AAPL', start='2020-01-01')"
   ]
  },
  {
   "cell_type": "code",
   "execution_count": null,
   "metadata": {},
   "outputs": [],
   "source": [
    "aapl.head()"
   ]
  },
  {
   "cell_type": "code",
   "execution_count": null,
   "metadata": {},
   "outputs": [],
   "source": [
    "sdi = yf.download('006400.KS', start='2015-01-01')"
   ]
  },
  {
   "cell_type": "code",
   "execution_count": null,
   "metadata": {},
   "outputs": [],
   "source": [
    "sdi.head()"
   ]
  },
  {
   "cell_type": "code",
   "execution_count": null,
   "metadata": {},
   "outputs": [],
   "source": [
    "six_month(aapl, _start=2020)"
   ]
  },
  {
   "cell_type": "code",
   "execution_count": 59,
   "metadata": {},
   "outputs": [
    {
     "name": "stderr",
     "output_type": "stream",
     "text": [
      "C:\\Users\\moons\\AppData\\Local\\Temp\\ipykernel_8208\\4140695437.py:34: FutureWarning: Setting an item of incompatible dtype is deprecated and will raise in a future error of pandas. Value '0.961038961038961' has dtype incompatible with int64, please explicitly cast to a compatible dtype first.\n",
      "  result.iloc[i, 2] = rtn\n",
      "C:\\Users\\moons\\AppData\\Local\\Temp\\ipykernel_8208\\4140695437.py:34: FutureWarning: Setting an item of incompatible dtype is deprecated and will raise in a future error of pandas. Value '0.6651162790697674' has dtype incompatible with int64, please explicitly cast to a compatible dtype first.\n",
      "  result.iloc[i, 2] = rtn\n",
      "C:\\Users\\moons\\AppData\\Local\\Temp\\ipykernel_8208\\4140695437.py:34: FutureWarning: Setting an item of incompatible dtype is deprecated and will raise in a future error of pandas. Value '0.6123188405797102' has dtype incompatible with int64, please explicitly cast to a compatible dtype first.\n",
      "  result.iloc[i, 2] = rtn\n",
      "C:\\Users\\moons\\AppData\\Local\\Temp\\ipykernel_8208\\4140695437.py:34: FutureWarning: Setting an item of incompatible dtype is deprecated and will raise in a future error of pandas. Value '0.8037037037037037' has dtype incompatible with int64, please explicitly cast to a compatible dtype first.\n",
      "  result.iloc[i, 2] = rtn\n",
      "C:\\Users\\moons\\AppData\\Local\\Temp\\ipykernel_8208\\4140695437.py:34: FutureWarning: Setting an item of incompatible dtype is deprecated and will raise in a future error of pandas. Value '0.8875' has dtype incompatible with int64, please explicitly cast to a compatible dtype first.\n",
      "  result.iloc[i, 2] = rtn\n",
      "C:\\Users\\moons\\AppData\\Local\\Temp\\ipykernel_8208\\4140695437.py:34: FutureWarning: Setting an item of incompatible dtype is deprecated and will raise in a future error of pandas. Value '0.975609756097561' has dtype incompatible with int64, please explicitly cast to a compatible dtype first.\n",
      "  result.iloc[i, 2] = rtn\n",
      "C:\\Users\\moons\\AppData\\Local\\Temp\\ipykernel_8208\\4140695437.py:34: FutureWarning: Setting an item of incompatible dtype is deprecated and will raise in a future error of pandas. Value '1.0178571428571428' has dtype incompatible with int64, please explicitly cast to a compatible dtype first.\n",
      "  result.iloc[i, 2] = rtn\n",
      "C:\\Users\\moons\\AppData\\Local\\Temp\\ipykernel_8208\\4140695437.py:34: FutureWarning: Setting an item of incompatible dtype is deprecated and will raise in a future error of pandas. Value '1.0922897196261683' has dtype incompatible with int64, please explicitly cast to a compatible dtype first.\n",
      "  result.iloc[i, 2] = rtn\n",
      "C:\\Users\\moons\\AppData\\Local\\Temp\\ipykernel_8208\\4140695437.py:34: FutureWarning: Setting an item of incompatible dtype is deprecated and will raise in a future error of pandas. Value '1.176678445229682' has dtype incompatible with int64, please explicitly cast to a compatible dtype first.\n",
      "  result.iloc[i, 2] = rtn\n",
      "C:\\Users\\moons\\AppData\\Local\\Temp\\ipykernel_8208\\4140695437.py:34: FutureWarning: Setting an item of incompatible dtype is deprecated and will raise in a future error of pandas. Value '0.9166666666666666' has dtype incompatible with int64, please explicitly cast to a compatible dtype first.\n",
      "  result.iloc[i, 2] = rtn\n"
     ]
    },
    {
     "name": "stdout",
     "output_type": "stream",
     "text": [
      "1월에 투자 시작 시 수익율 : 2.42\n",
      "2월에 투자 시작 시 수익율 : 1.95\n",
      "3월에 투자 시작 시 수익율 : 2.54\n",
      "4월에 투자 시작 시 수익율 : 1.79\n",
      "5월에 투자 시작 시 수익율 : 1.81\n",
      "6월에 투자 시작 시 수익율 : 1.6\n",
      "7월에 투자 시작 시 수익율 : 1.5\n",
      "8월에 투자 시작 시 수익율 : 1.5\n",
      "9월에 투자 시작 시 수익율 : 1.11\n",
      "10월에 투자 시작 시 수익율 : 1.91\n",
      "11월에 투자 시작 시 수익율 : 1.8\n",
      "12월에 투자 시작 시 수익율 : 2.3\n"
     ]
    },
    {
     "name": "stderr",
     "output_type": "stream",
     "text": [
      "C:\\Users\\moons\\AppData\\Local\\Temp\\ipykernel_8208\\4140695437.py:34: FutureWarning: Setting an item of incompatible dtype is deprecated and will raise in a future error of pandas. Value '1.0555555555555556' has dtype incompatible with int64, please explicitly cast to a compatible dtype first.\n",
      "  result.iloc[i, 2] = rtn\n",
      "C:\\Users\\moons\\AppData\\Local\\Temp\\ipykernel_8208\\4140695437.py:34: FutureWarning: Setting an item of incompatible dtype is deprecated and will raise in a future error of pandas. Value '0.9336099585062241' has dtype incompatible with int64, please explicitly cast to a compatible dtype first.\n",
      "  result.iloc[i, 2] = rtn\n"
     ]
    }
   ],
   "source": [
    "# 1월부터 12월까지 6개월 유지 투자 전략\n",
    "for i in range(1, 13):\n",
    "    df, acc_rtn = six_month(sdi, _start=2015, _month=i)\n",
    "    print(f\"{i}월에 투자 시작 시 수익율 : {round(acc_rtn, 2)}\")"
   ]
  }
 ],
 "metadata": {
  "kernelspec": {
   "display_name": "Python 3",
   "language": "python",
   "name": "python3"
  },
  "language_info": {
   "codemirror_mode": {
    "name": "ipython",
    "version": 3
   },
   "file_extension": ".py",
   "mimetype": "text/x-python",
   "name": "python",
   "nbconvert_exporter": "python",
   "pygments_lexer": "ipython3",
   "version": "3.11.1"
  }
 },
 "nbformat": 4,
 "nbformat_minor": 2
}
