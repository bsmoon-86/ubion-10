{
 "cells": [
  {
   "cell_type": "markdown",
   "metadata": {},
   "source": [
    "### 절대 모멘텀\n",
    "- 파생변수 'STD-YM' 생성 -> index에서 년-월 추출하여 대입\n",
    "- 'STD-YM' 별 마지막날의 데이터를 month_last_df 저장\n",
    "- 전월의 수정주가 값을 가진 파생변수를 생성 \n",
    "- 전년도의 수정주가 값을 가진 파생변수를 생성\n",
    "- 전월의 데이터와 전년도의 데이터를 기준으로 하여 거래 내역 생성\n",
    "- 수익율 계산"
   ]
  },
  {
   "cell_type": "code",
   "execution_count": null,
   "metadata": {},
   "outputs": [],
   "source": [
    "import pandas as pd \n",
    "import numpy as np \n",
    "from datetime import datetime"
   ]
  },
  {
   "cell_type": "code",
   "execution_count": null,
   "metadata": {},
   "outputs": [],
   "source": [
    "df = pd.read_csv(\"../../csv/MSFT.csv\", index_col='Date')"
   ]
  },
  {
   "cell_type": "code",
   "execution_count": null,
   "metadata": {},
   "outputs": [],
   "source": [
    "df.head(1)"
   ]
  },
  {
   "cell_type": "code",
   "execution_count": null,
   "metadata": {},
   "outputs": [],
   "source": [
    "# index를 시계열로 변경 \n",
    "df.index = pd.to_datetime(df.index, format='%Y-%m-%d')"
   ]
  },
  {
   "cell_type": "code",
   "execution_count": null,
   "metadata": {},
   "outputs": [],
   "source": [
    "# index의 데이터에서 년-월 추출하여 새로운 파생변수 STD-YM에 대입\n",
    "df['STD-YM'] = df.index.strftime('%Y-%m')"
   ]
  },
  {
   "cell_type": "code",
   "execution_count": null,
   "metadata": {},
   "outputs": [],
   "source": [
    "df.iloc[10:20]"
   ]
  },
  {
   "cell_type": "code",
   "execution_count": null,
   "metadata": {},
   "outputs": [],
   "source": [
    "# 월의 말일의 조건식\n",
    "# 다음 행의 STD-YM과 오늘의 STD-YM의 값이 다른경우\n",
    "flag = df['STD-YM'] != df.shift(-1)['STD-YM']\n",
    "df.loc[flag,]"
   ]
  },
  {
   "cell_type": "code",
   "execution_count": null,
   "metadata": {},
   "outputs": [],
   "source": [
    "# 필터를 이용하여 마지막날의 데이터를 추출 \n",
    "_list =  df['STD-YM'].unique()\n",
    "\n",
    "month_last_df = pd.DataFrame()\n",
    "\n",
    "for i in _list:\n",
    "    flag = df['STD-YM'] == i\n",
    "    data = df.loc[flag,].tail(1)\n",
    "    month_last_df = pd.concat([month_last_df, data], axis=0)"
   ]
  },
  {
   "cell_type": "code",
   "execution_count": null,
   "metadata": {},
   "outputs": [],
   "source": [
    "month_last_df"
   ]
  },
  {
   "cell_type": "code",
   "execution_count": null,
   "metadata": {},
   "outputs": [],
   "source": [
    "# 전월의 수정 주가를 BF_1M 파생변수에 대입 \n",
    "# 전년도의 수정주가를 BF_12M 파생변수에 대입 \n",
    "# 두개의 파생변수는 결측치는 0으로 대체\n",
    "month_last_df['BF_1M'] = month_last_df['Adj Close'].shift(1).fillna(0)\n",
    "month_last_df['BF_12M'] = month_last_df['Adj Close'].shift(12).fillna(0)"
   ]
  },
  {
   "cell_type": "markdown",
   "metadata": {},
   "source": [
    "- 거래 내역 생성 \n",
    "    - (전월의 수정주가 / 전년도의 수정주가) - 1 의 값이 0보다 크고 무한대가 아닌 경우"
   ]
  },
  {
   "cell_type": "code",
   "execution_count": null,
   "metadata": {},
   "outputs": [],
   "source": [
    "df['trade'] = \"\"\n",
    "\n",
    "for i in month_last_df.index:\n",
    "    signal = \"\"\n",
    "\n",
    "    # 절대 모멘텀 계산식 \n",
    "    momentum_index = month_last_df.loc[i, 'BF_1M'] /\\\n",
    "        month_last_df.loc[i, 'BF_12M'] - 1\n",
    "    flag = True if ( (momentum_index > 0) & (momentum_index != np.inf) ) \\\n",
    "        else False\n",
    "    \n",
    "    if flag:\n",
    "        signal = \"buy\"\n",
    "    \n",
    "    print(f\"날짜 : {i}, 모멘텀 인덱스 : {momentum_index}, flag : {flag}, signal : {signal}\")\n",
    "    df.loc[i:, 'trade'] = signal\n"
   ]
  },
  {
   "cell_type": "code",
   "execution_count": null,
   "metadata": {},
   "outputs": [],
   "source": [
    "df['trade'].value_counts()"
   ]
  },
  {
   "cell_type": "code",
   "execution_count": null,
   "metadata": {},
   "outputs": [],
   "source": [
    "df['rtn'] = 1\n",
    "for i in df.index:\n",
    "    # 매수 조건식 (전날의 trade가 \"\" 오늘의 trade가 \"buy\")\n",
    "    if (df.shift().loc[i, 'trade'] == \"\") & (df.loc[i, 'trade'] == \"buy\"):\n",
    "        buy = df.loc[i, 'Adj Close']\n",
    "        print(f\"매수일 : {i}, 매수가 : {buy}\")\n",
    "    # 매도 조건식 (전날의 trade가 \"buy\" 오늘의 trade가 \"\")\n",
    "    elif (df.shift().loc[i, 'trade'] == \"buy\") & (df.loc[i, 'trade'] == \"\"):\n",
    "        sell = df.loc[i, 'Adj Close']\n",
    "        rtn = sell / buy\n",
    "        df.loc[i, 'rtn'] = rtn\n",
    "        print(f\"매도일 : {i}, 매도가 : {sell}, 수익율 : {rtn}\")"
   ]
  },
  {
   "cell_type": "code",
   "execution_count": null,
   "metadata": {},
   "outputs": [],
   "source": [
    "df['acc_rtn'] = df['rtn'].cumprod()"
   ]
  },
  {
   "cell_type": "code",
   "execution_count": null,
   "metadata": {},
   "outputs": [],
   "source": [
    "df.tail()"
   ]
  },
  {
   "cell_type": "markdown",
   "metadata": {},
   "source": [
    "### 절대 모멘텀 함수화\n",
    "1. STD-YM 생성하는 함수 \n",
    "    - 매개변수 2개 (데이터프레임, 기준이 되는 컬럼)\n",
    "    - 데이터프레임의 복사본을 생성\n",
    "    - 컬럼에 Date가 포함되어있는지 확인하고 컬럼에 Date 존재한다면 Date를 인덱스로 변환\n",
    "    - 인덱스를 시계열 데이터로 변경 \n",
    "    - 데이터중 결측치나 무한대 값을 제외 \n",
    "    - 기준이 되는 컬럼을 제외한 나머지 컬럼은 모두 삭제\n",
    "    - 'STD-YM' 컬럼을 생성하여 index에서 '년-월'데이터를 추출하여 대입 \n",
    "    - 수정이 된 데이터프레임을 리턴"
   ]
  },
  {
   "cell_type": "code",
   "execution_count": null,
   "metadata": {},
   "outputs": [],
   "source": [
    "def create_YM(\n",
    "        _df, \n",
    "        _col = 'Adj Close'\n",
    "):\n",
    "    df = _df.copy()\n",
    "    # Date가 컬럼에 포함되어있는가?\n",
    "    if 'Date' in df.columns:\n",
    "        # 포함되어있다면 Date를 인덱스로 변환 \n",
    "        df.set_index('Date', inplace=True)\n",
    "    # 인덱스를 시계열데이터로 변경\n",
    "    df.index = pd.to_datetime(df.index, format='%Y-%m-%d')\n",
    "    # 결측치, 무한대 데이터를 제거 기준이되는 컬럼만 두고 나머지 모두 제거 \n",
    "    flag = df.isin([np.nan, np.inf, -np.inf]).any(axis=1)\n",
    "    df = df.loc[~flag, [_col]]\n",
    "    # 파생변수 STD-YM 생성\n",
    "    df['STD-YM'] = df.index.strftime('%Y-%m')\n",
    "\n",
    "    return df\n"
   ]
  },
  {
   "cell_type": "code",
   "execution_count": null,
   "metadata": {},
   "outputs": [],
   "source": [
    "df = pd.read_csv('../../csv/AAPL.csv')"
   ]
  },
  {
   "cell_type": "code",
   "execution_count": null,
   "metadata": {},
   "outputs": [],
   "source": [
    "ym_df = create_YM(df)"
   ]
  },
  {
   "cell_type": "markdown",
   "metadata": {},
   "source": [
    "- 두번째 함수 생성\n",
    "    - 매개변수 5개 (데이터프레임, 시작시간, 종료시간, 모멘텀 기간, 기준시점)\n",
    "    - 시작시간의 기본값은 2010-01-01\n",
    "    - 종료시간의 기본값은 오늘 날짜\n",
    "    - 모멘텀 기간의 기본값은 12\n",
    "    - 기준시점의 기본값은 1이고 0으로 변경시 월초의 데이터로 구성 \n",
    "    - 기준시점의 값에 따라 (월말|월초) 데이터만 모아서 새로운 데이터프레임 생성\n",
    "    - 생성된 데이터프레임을 기준으로 BF1 컬럼을 생성하여 전월의 데이터를 대입\n",
    "    - BF2 컬럼을 생성하여 모멘텀 기간(6 -> 6개월 전) 전의 데이터를 대입\n",
    "    - 결측치는 0으로 대체\n",
    "    - 데이터프레임을 시작시간과 종료시간으로 데이터 필터링 \n",
    "    - 결과를 리턴"
   ]
  },
  {
   "cell_type": "code",
   "execution_count": null,
   "metadata": {},
   "outputs": [],
   "source": [
    "def create_month(\n",
    "        _df, \n",
    "        _start = \"2010-01-01\", \n",
    "        _end = datetime.now(), \n",
    "        _momentum = 12, \n",
    "        _select = 1\n",
    "):\n",
    "    if _select == 1:\n",
    "        # 월말의 데이터들을 새로운 데이터프레임으로 생성 \n",
    "        # 현재 행의 년-월과 다음 행의 년-월이 다른 경우 \n",
    "        flag = _df['STD-YM'] != _df.shift(-1)['STD-YM']\n",
    "        # df = _df.loc[flag,]\n",
    "    elif _select == 0:\n",
    "        flag = _df['STD-YM'] != _df.shift()['STD-YM']\n",
    "        # df = _df.loc[flag,]\n",
    "    else :\n",
    "        return \"_select 인자는 0과 1이 가능하다\"\n",
    "    col = _df.columns[0]\n",
    "    df = _df.loc[flag,]\n",
    "    df['BF1'] = df.shift()[col].fillna(0)\n",
    "    df['BF2'] = df.shift(_momentum)[col].fillna(0)\n",
    "    start = datetime.strptime(_start, '%Y-%m-%d')\n",
    "    if type(_end) == \"str\":\n",
    "        end = datetime.strptime(_end, '%Y-%m-%d')\n",
    "    else:\n",
    "        end = _end\n",
    "    df = df.loc[start:end,]\n",
    "    return df"
   ]
  },
  {
   "cell_type": "code",
   "execution_count": null,
   "metadata": {},
   "outputs": [],
   "source": [
    "month_df = create_month(ym_df, _select=0)"
   ]
  },
  {
   "cell_type": "markdown",
   "metadata": {},
   "source": [
    "- 세번째 함수 \n",
    "    - 매개변수 3개 (1번 함수결과인 데이터프레임(_df1), 2번 함수의 결과인 데이터프레임(_df2), 모멘텀 스코어)\n",
    "    - _df1에는 trade 컬럼을 생성 \"\" 대입\n",
    "    - _df1에 rtn 컬럼을 생성 1 대입\n",
    "    - _df2를 이용하여 momentum_index를 구하고 _df1에 거래 내역 대입\n",
    "    - 거래 내역을 이용하여 수익율 계산\n",
    "    - acc_rtn 컬럼을 생성 누적 수익율 대입 \n",
    "    - _df1, 총 누적수익율 리턴\n"
   ]
  },
  {
   "cell_type": "code",
   "execution_count": null,
   "metadata": {},
   "outputs": [],
   "source": [
    "def create_rtn(_df1, _df2, _score = 1):\n",
    "    # _df1에 파생변수 2개 생성 \n",
    "    _df1['trade'] = \"\"\n",
    "    _df1['rtn'] = 1\n",
    "\n",
    "    # _df2 데이터를 이용하여 momentum_index를 계산하고 거래 내역 추가 \n",
    "    for i in _df2.index:\n",
    "        signal = \"\"\n",
    "\n",
    "        # 절대 모멘텀 계산\n",
    "        momentum_index = _df2.loc[i, 'BF1'] / _df2.loc[i, 'BF2'] - _score\n",
    "\n",
    "        # 모멘텀 인덱스가 무한대가 아니고 0보다 큰 경우 \n",
    "        flag = (momentum_index > 0) & (momentum_index != np.inf)\n",
    "\n",
    "        if flag:\n",
    "            signal = 'buy'\n",
    "        \n",
    "        _df1.loc[i:, 'trade'] = signal\n",
    "        print(f\"날짜 : {i}, 모멘텀 인덱스 : {momentum_index}, flag : {flag}, signal : {signal}\")\n",
    "    # 수익율 계산\n",
    "    col = _df1.columns[0]\n",
    "\n",
    "    for i in _df1.index:\n",
    "        # 구매한 날의 조건식 (전날의 trade가 \"\" 오늘의 trade가 \"buy\")\n",
    "        if (_df1.shift().loc[i, 'trade'] == \"\") & (_df1.loc[i, 'trade'] == \"buy\"):\n",
    "            buy = _df1.loc[i, col]\n",
    "            print(f\"매수일 : {i}, 매수가 : {buy}\")\n",
    "        # 판매한 날의 조건식 (전날의 trade가 \"buy\" 오늘의 trade가 \"\")\n",
    "        elif (_df1.shift().loc[i, 'trade'] == \"buy\") & (_df1.loc[i, 'trade'] == \"\"):\n",
    "            sell = _df1.loc[i, col]\n",
    "            rtn = sell / buy\n",
    "            _df1.loc[i, 'rtn'] = rtn\n",
    "            print(f\"매도일 : {i}, 매도가 : {sell}, 수익율 : {rtn}\")\n",
    "    # 누적수익율 계산\n",
    "    _df1['acc_rtn'] = _df1['rtn'].cumprod()\n",
    "\n",
    "    # 총 누적수익율 변수에 대입 \n",
    "    acc_rtn = _df1.iloc[-1, ]['acc_rtn']\n",
    "\n",
    "    return _df1, acc_rtn"
   ]
  },
  {
   "cell_type": "code",
   "execution_count": null,
   "metadata": {},
   "outputs": [],
   "source": [
    "create_rtn(ym_df, month_df)"
   ]
  },
  {
   "cell_type": "code",
   "execution_count": null,
   "metadata": {},
   "outputs": [],
   "source": [
    "import momentum as mm"
   ]
  },
  {
   "cell_type": "code",
   "execution_count": null,
   "metadata": {},
   "outputs": [],
   "source": [
    "import yfinance as yf"
   ]
  },
  {
   "cell_type": "code",
   "execution_count": null,
   "metadata": {},
   "outputs": [],
   "source": [
    "df = yf.download('TSLA', start='2010-01-01')\n",
    "df"
   ]
  },
  {
   "cell_type": "code",
   "execution_count": null,
   "metadata": {},
   "outputs": [],
   "source": [
    "ym_df = mm.create_YM(df)"
   ]
  },
  {
   "cell_type": "code",
   "execution_count": null,
   "metadata": {},
   "outputs": [],
   "source": [
    "ym_df.head()"
   ]
  },
  {
   "cell_type": "code",
   "execution_count": null,
   "metadata": {},
   "outputs": [],
   "source": [
    "month_df = mm.create_month(ym_df, _start='2015-01-01')\n",
    "month_df.head()"
   ]
  },
  {
   "cell_type": "code",
   "execution_count": null,
   "metadata": {},
   "outputs": [],
   "source": [
    "result, acc_rtn = mm.create_rtn(ym_df, month_df)"
   ]
  },
  {
   "cell_type": "code",
   "execution_count": null,
   "metadata": {},
   "outputs": [],
   "source": [
    "acc_rtn"
   ]
  },
  {
   "cell_type": "code",
   "execution_count": null,
   "metadata": {},
   "outputs": [],
   "source": []
  }
 ],
 "metadata": {
  "kernelspec": {
   "display_name": "Python 3",
   "language": "python",
   "name": "python3"
  },
  "language_info": {
   "codemirror_mode": {
    "name": "ipython",
    "version": 3
   },
   "file_extension": ".py",
   "mimetype": "text/x-python",
   "name": "python",
   "nbconvert_exporter": "python",
   "pygments_lexer": "ipython3",
   "version": "3.11.1"
  }
 },
 "nbformat": 4,
 "nbformat_minor": 2
}
